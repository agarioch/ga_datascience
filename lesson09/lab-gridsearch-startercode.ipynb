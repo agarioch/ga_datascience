{
 "cells": [
  {
   "cell_type": "markdown",
   "metadata": {},
   "source": [
    "<img src=\"http://imgur.com/1ZcRyrc.png\" style=\"float: left; margin: 20px; height: 55px\">\n",
    "\n",
    "# Grid Search Lab\n",
    "\n",
    "---\n"
   ]
  },
  {
   "cell_type": "markdown",
   "metadata": {},
   "source": [
    "Now we want to use grid search on the wine dataset to tune a linear regression model including regularisation parameters."
   ]
  },
  {
   "cell_type": "code",
   "execution_count": 1,
   "metadata": {
    "collapsed": true
   },
   "outputs": [],
   "source": [
    "import matplotlib.pyplot as plt\n",
    "import numpy as np\n",
    "import pandas as pd\n",
    "import seaborn as sns\n",
    "\n",
    "plt.style.use('fivethirtyeight')\n",
    "\n",
    "%matplotlib inline\n",
    "%config InlineBackend.figure_format = 'retina'\n",
    "\n",
    "from sklearn.model_selection import GridSearchCV\n",
    "import patsy"
   ]
  },
  {
   "cell_type": "markdown",
   "metadata": {},
   "source": [
    "###  Load the wine dataset"
   ]
  },
  {
   "cell_type": "code",
   "execution_count": 2,
   "metadata": {},
   "outputs": [
    {
     "data": {
      "text/html": [
       "<div>\n",
       "<style>\n",
       "    .dataframe thead tr:only-child th {\n",
       "        text-align: right;\n",
       "    }\n",
       "\n",
       "    .dataframe thead th {\n",
       "        text-align: left;\n",
       "    }\n",
       "\n",
       "    .dataframe tbody tr th {\n",
       "        vertical-align: top;\n",
       "    }\n",
       "</style>\n",
       "<table border=\"1\" class=\"dataframe\">\n",
       "  <thead>\n",
       "    <tr style=\"text-align: right;\">\n",
       "      <th></th>\n",
       "      <th>fixed acidity</th>\n",
       "      <th>volatile acidity</th>\n",
       "      <th>citric acid</th>\n",
       "      <th>residual sugar</th>\n",
       "      <th>chlorides</th>\n",
       "      <th>free sulfur dioxide</th>\n",
       "      <th>total sulfur dioxide</th>\n",
       "      <th>density</th>\n",
       "      <th>pH</th>\n",
       "      <th>sulphates</th>\n",
       "      <th>alcohol</th>\n",
       "      <th>quality</th>\n",
       "      <th>red_wine</th>\n",
       "    </tr>\n",
       "  </thead>\n",
       "  <tbody>\n",
       "    <tr>\n",
       "      <th>0</th>\n",
       "      <td>7.4</td>\n",
       "      <td>0.70</td>\n",
       "      <td>0.00</td>\n",
       "      <td>1.9</td>\n",
       "      <td>0.076</td>\n",
       "      <td>11.0</td>\n",
       "      <td>34.0</td>\n",
       "      <td>0.9978</td>\n",
       "      <td>3.51</td>\n",
       "      <td>0.56</td>\n",
       "      <td>9.4</td>\n",
       "      <td>5</td>\n",
       "      <td>1</td>\n",
       "    </tr>\n",
       "    <tr>\n",
       "      <th>1</th>\n",
       "      <td>7.8</td>\n",
       "      <td>0.88</td>\n",
       "      <td>0.00</td>\n",
       "      <td>2.6</td>\n",
       "      <td>0.098</td>\n",
       "      <td>25.0</td>\n",
       "      <td>67.0</td>\n",
       "      <td>0.9968</td>\n",
       "      <td>3.20</td>\n",
       "      <td>0.68</td>\n",
       "      <td>9.8</td>\n",
       "      <td>5</td>\n",
       "      <td>1</td>\n",
       "    </tr>\n",
       "    <tr>\n",
       "      <th>2</th>\n",
       "      <td>7.8</td>\n",
       "      <td>0.76</td>\n",
       "      <td>0.04</td>\n",
       "      <td>2.3</td>\n",
       "      <td>0.092</td>\n",
       "      <td>15.0</td>\n",
       "      <td>54.0</td>\n",
       "      <td>0.9970</td>\n",
       "      <td>3.26</td>\n",
       "      <td>0.65</td>\n",
       "      <td>9.8</td>\n",
       "      <td>5</td>\n",
       "      <td>1</td>\n",
       "    </tr>\n",
       "    <tr>\n",
       "      <th>3</th>\n",
       "      <td>11.2</td>\n",
       "      <td>0.28</td>\n",
       "      <td>0.56</td>\n",
       "      <td>1.9</td>\n",
       "      <td>0.075</td>\n",
       "      <td>17.0</td>\n",
       "      <td>60.0</td>\n",
       "      <td>0.9980</td>\n",
       "      <td>3.16</td>\n",
       "      <td>0.58</td>\n",
       "      <td>9.8</td>\n",
       "      <td>6</td>\n",
       "      <td>1</td>\n",
       "    </tr>\n",
       "    <tr>\n",
       "      <th>4</th>\n",
       "      <td>7.4</td>\n",
       "      <td>0.70</td>\n",
       "      <td>0.00</td>\n",
       "      <td>1.9</td>\n",
       "      <td>0.076</td>\n",
       "      <td>11.0</td>\n",
       "      <td>34.0</td>\n",
       "      <td>0.9978</td>\n",
       "      <td>3.51</td>\n",
       "      <td>0.56</td>\n",
       "      <td>9.4</td>\n",
       "      <td>5</td>\n",
       "      <td>1</td>\n",
       "    </tr>\n",
       "  </tbody>\n",
       "</table>\n",
       "</div>"
      ],
      "text/plain": [
       "   fixed acidity  volatile acidity  citric acid  residual sugar  chlorides  \\\n",
       "0            7.4              0.70         0.00             1.9      0.076   \n",
       "1            7.8              0.88         0.00             2.6      0.098   \n",
       "2            7.8              0.76         0.04             2.3      0.092   \n",
       "3           11.2              0.28         0.56             1.9      0.075   \n",
       "4            7.4              0.70         0.00             1.9      0.076   \n",
       "\n",
       "   free sulfur dioxide  total sulfur dioxide  density    pH  sulphates  \\\n",
       "0                 11.0                  34.0   0.9978  3.51       0.56   \n",
       "1                 25.0                  67.0   0.9968  3.20       0.68   \n",
       "2                 15.0                  54.0   0.9970  3.26       0.65   \n",
       "3                 17.0                  60.0   0.9980  3.16       0.58   \n",
       "4                 11.0                  34.0   0.9978  3.51       0.56   \n",
       "\n",
       "   alcohol  quality  red_wine  \n",
       "0      9.4        5         1  \n",
       "1      9.8        5         1  \n",
       "2      9.8        5         1  \n",
       "3      9.8        6         1  \n",
       "4      9.4        5         1  "
      ]
     },
     "execution_count": 2,
     "metadata": {},
     "output_type": "execute_result"
    }
   ],
   "source": [
    "# Load dataset\n",
    "df = pd.read_csv(\"winequality_merged.csv\")\n",
    "df.head()"
   ]
  },
  {
   "cell_type": "markdown",
   "metadata": {},
   "source": [
    "### Clean the column names by replacing spaces by underscore"
   ]
  },
  {
   "cell_type": "code",
   "execution_count": 6,
   "metadata": {},
   "outputs": [
    {
     "name": "stdout",
     "output_type": "stream",
     "text": [
      "fixed_acidity\n",
      "volatile_acidity\n",
      "citric_acid\n",
      "residual_sugar\n",
      "chlorides\n",
      "free_sulfur_dioxide\n",
      "total_sulfur_dioxide\n",
      "density\n",
      "pH\n",
      "sulphates\n",
      "alcohol\n",
      "quality\n",
      "red_wine\n"
     ]
    },
    {
     "data": {
      "text/plain": [
       "Index(['fixed_acidity', 'volatile_acidity', 'citric_acid', 'residual_sugar',\n",
       "       'chlorides', 'free_sulfur_dioxide', 'total_sulfur_dioxide', 'density',\n",
       "       'pH', 'sulphates', 'alcohol', 'quality', 'red_wine'],\n",
       "      dtype='object')"
      ]
     },
     "execution_count": 6,
     "metadata": {},
     "output_type": "execute_result"
    }
   ],
   "source": [
    "ucols = []\n",
    "for col in df.columns:\n",
    "    print(col)\n",
    "    ucols.append(col.replace(\" \", \"_\"))\n",
    "df.columns = ucols\n",
    "df.columns"
   ]
  },
  {
   "cell_type": "code",
   "execution_count": 10,
   "metadata": {},
   "outputs": [
    {
     "data": {
      "text/plain": [
       "6    2836\n",
       "5    2138\n",
       "7    1079\n",
       "4     216\n",
       "8     193\n",
       "3      30\n",
       "9       5\n",
       "Name: quality, dtype: int64"
      ]
     },
     "execution_count": 10,
     "metadata": {},
     "output_type": "execute_result"
    }
   ],
   "source": [
    "df['quality'].value_counts()"
   ]
  },
  {
   "cell_type": "markdown",
   "metadata": {},
   "source": [
    "### Create Feature matrix and target (X and y)"
   ]
  },
  {
   "cell_type": "code",
   "execution_count": 12,
   "metadata": {},
   "outputs": [
    {
     "data": {
      "text/plain": [
       "0       5\n",
       "1       5\n",
       "2       5\n",
       "3       6\n",
       "4       5\n",
       "5       5\n",
       "6       5\n",
       "7       7\n",
       "8       7\n",
       "9       5\n",
       "10      5\n",
       "11      5\n",
       "12      5\n",
       "13      5\n",
       "14      5\n",
       "15      5\n",
       "16      7\n",
       "17      5\n",
       "18      4\n",
       "19      6\n",
       "20      6\n",
       "21      5\n",
       "22      5\n",
       "23      5\n",
       "24      6\n",
       "25      5\n",
       "26      5\n",
       "27      5\n",
       "28      5\n",
       "29      6\n",
       "       ..\n",
       "6467    6\n",
       "6468    6\n",
       "6469    7\n",
       "6470    6\n",
       "6471    5\n",
       "6472    6\n",
       "6473    6\n",
       "6474    6\n",
       "6475    7\n",
       "6476    5\n",
       "6477    4\n",
       "6478    6\n",
       "6479    6\n",
       "6480    6\n",
       "6481    5\n",
       "6482    6\n",
       "6483    5\n",
       "6484    6\n",
       "6485    7\n",
       "6486    7\n",
       "6487    5\n",
       "6488    6\n",
       "6489    6\n",
       "6490    6\n",
       "6491    5\n",
       "6492    6\n",
       "6493    5\n",
       "6494    6\n",
       "6495    7\n",
       "6496    6\n",
       "Name: quality, Length: 6497, dtype: int64"
      ]
     },
     "execution_count": 12,
     "metadata": {},
     "output_type": "execute_result"
    }
   ],
   "source": [
    "df['quality']"
   ]
  },
  {
   "cell_type": "code",
   "execution_count": 19,
   "metadata": {},
   "outputs": [
    {
     "name": "stdout",
     "output_type": "stream",
     "text": [
      "(6497, 12)\n",
      "(6497,)\n"
     ]
    }
   ],
   "source": [
    "features = [x for x in df if x != 'quality']\n",
    "X = df[features]\n",
    "y = df['quality']\n",
    "print(X.shape)\n",
    "print(y.shape)"
   ]
  },
  {
   "cell_type": "markdown",
   "metadata": {},
   "source": [
    "### Use the standard scaler to rescale the feature matrix"
   ]
  },
  {
   "cell_type": "code",
   "execution_count": 20,
   "metadata": {
    "collapsed": true
   },
   "outputs": [],
   "source": [
    "from sklearn.preprocessing import StandardScaler"
   ]
  },
  {
   "cell_type": "code",
   "execution_count": 21,
   "metadata": {},
   "outputs": [
    {
     "data": {
      "text/html": [
       "<div>\n",
       "<style>\n",
       "    .dataframe thead tr:only-child th {\n",
       "        text-align: right;\n",
       "    }\n",
       "\n",
       "    .dataframe thead th {\n",
       "        text-align: left;\n",
       "    }\n",
       "\n",
       "    .dataframe tbody tr th {\n",
       "        vertical-align: top;\n",
       "    }\n",
       "</style>\n",
       "<table border=\"1\" class=\"dataframe\">\n",
       "  <thead>\n",
       "    <tr style=\"text-align: right;\">\n",
       "      <th></th>\n",
       "      <th>fixed_acidity</th>\n",
       "      <th>volatile_acidity</th>\n",
       "      <th>citric_acid</th>\n",
       "      <th>residual_sugar</th>\n",
       "      <th>chlorides</th>\n",
       "      <th>free_sulfur_dioxide</th>\n",
       "      <th>total_sulfur_dioxide</th>\n",
       "      <th>density</th>\n",
       "      <th>pH</th>\n",
       "      <th>sulphates</th>\n",
       "      <th>alcohol</th>\n",
       "      <th>red_wine</th>\n",
       "    </tr>\n",
       "  </thead>\n",
       "  <tbody>\n",
       "    <tr>\n",
       "      <th>0</th>\n",
       "      <td>0.142473</td>\n",
       "      <td>2.188833</td>\n",
       "      <td>-2.192833</td>\n",
       "      <td>-0.744778</td>\n",
       "      <td>0.569958</td>\n",
       "      <td>-1.100140</td>\n",
       "      <td>-1.446359</td>\n",
       "      <td>1.034993</td>\n",
       "      <td>1.813090</td>\n",
       "      <td>0.193097</td>\n",
       "      <td>-0.915464</td>\n",
       "      <td>1.75019</td>\n",
       "    </tr>\n",
       "    <tr>\n",
       "      <th>1</th>\n",
       "      <td>0.451036</td>\n",
       "      <td>3.282235</td>\n",
       "      <td>-2.192833</td>\n",
       "      <td>-0.597640</td>\n",
       "      <td>1.197975</td>\n",
       "      <td>-0.311320</td>\n",
       "      <td>-0.862469</td>\n",
       "      <td>0.701486</td>\n",
       "      <td>-0.115073</td>\n",
       "      <td>0.999579</td>\n",
       "      <td>-0.580068</td>\n",
       "      <td>1.75019</td>\n",
       "    </tr>\n",
       "    <tr>\n",
       "      <th>2</th>\n",
       "      <td>0.451036</td>\n",
       "      <td>2.553300</td>\n",
       "      <td>-1.917553</td>\n",
       "      <td>-0.660699</td>\n",
       "      <td>1.026697</td>\n",
       "      <td>-0.874763</td>\n",
       "      <td>-1.092486</td>\n",
       "      <td>0.768188</td>\n",
       "      <td>0.258120</td>\n",
       "      <td>0.797958</td>\n",
       "      <td>-0.580068</td>\n",
       "      <td>1.75019</td>\n",
       "    </tr>\n",
       "    <tr>\n",
       "      <th>3</th>\n",
       "      <td>3.073817</td>\n",
       "      <td>-0.362438</td>\n",
       "      <td>1.661085</td>\n",
       "      <td>-0.744778</td>\n",
       "      <td>0.541412</td>\n",
       "      <td>-0.762074</td>\n",
       "      <td>-0.986324</td>\n",
       "      <td>1.101694</td>\n",
       "      <td>-0.363868</td>\n",
       "      <td>0.327510</td>\n",
       "      <td>-0.580068</td>\n",
       "      <td>1.75019</td>\n",
       "    </tr>\n",
       "    <tr>\n",
       "      <th>4</th>\n",
       "      <td>0.142473</td>\n",
       "      <td>2.188833</td>\n",
       "      <td>-2.192833</td>\n",
       "      <td>-0.744778</td>\n",
       "      <td>0.569958</td>\n",
       "      <td>-1.100140</td>\n",
       "      <td>-1.446359</td>\n",
       "      <td>1.034993</td>\n",
       "      <td>1.813090</td>\n",
       "      <td>0.193097</td>\n",
       "      <td>-0.915464</td>\n",
       "      <td>1.75019</td>\n",
       "    </tr>\n",
       "  </tbody>\n",
       "</table>\n",
       "</div>"
      ],
      "text/plain": [
       "   fixed_acidity  volatile_acidity  citric_acid  residual_sugar  chlorides  \\\n",
       "0       0.142473          2.188833    -2.192833       -0.744778   0.569958   \n",
       "1       0.451036          3.282235    -2.192833       -0.597640   1.197975   \n",
       "2       0.451036          2.553300    -1.917553       -0.660699   1.026697   \n",
       "3       3.073817         -0.362438     1.661085       -0.744778   0.541412   \n",
       "4       0.142473          2.188833    -2.192833       -0.744778   0.569958   \n",
       "\n",
       "   free_sulfur_dioxide  total_sulfur_dioxide   density        pH  sulphates  \\\n",
       "0            -1.100140             -1.446359  1.034993  1.813090   0.193097   \n",
       "1            -0.311320             -0.862469  0.701486 -0.115073   0.999579   \n",
       "2            -0.874763             -1.092486  0.768188  0.258120   0.797958   \n",
       "3            -0.762074             -0.986324  1.101694 -0.363868   0.327510   \n",
       "4            -1.100140             -1.446359  1.034993  1.813090   0.193097   \n",
       "\n",
       "    alcohol  red_wine  \n",
       "0 -0.915464   1.75019  \n",
       "1 -0.580068   1.75019  \n",
       "2 -0.580068   1.75019  \n",
       "3 -0.580068   1.75019  \n",
       "4 -0.915464   1.75019  "
      ]
     },
     "execution_count": 21,
     "metadata": {},
     "output_type": "execute_result"
    }
   ],
   "source": [
    "scaler = StandardScaler()\n",
    "\n",
    "Xss = scaler.fit_transform(X)\n",
    "Xss = pd.DataFrame(Xss, index=X.index, columns=X.columns)\n",
    "Xss.head()"
   ]
  },
  {
   "cell_type": "code",
   "execution_count": 22,
   "metadata": {},
   "outputs": [
    {
     "data": {
      "text/plain": [
       "array([[<matplotlib.axes._subplots.AxesSubplot object at 0x1a1641fef0>,\n",
       "        <matplotlib.axes._subplots.AxesSubplot object at 0x1a1a18c048>,\n",
       "        <matplotlib.axes._subplots.AxesSubplot object at 0x1a164526a0>],\n",
       "       [<matplotlib.axes._subplots.AxesSubplot object at 0x1a1a240e10>,\n",
       "        <matplotlib.axes._subplots.AxesSubplot object at 0x1a1a29d2b0>,\n",
       "        <matplotlib.axes._subplots.AxesSubplot object at 0x1a1a29d2e8>],\n",
       "       [<matplotlib.axes._subplots.AxesSubplot object at 0x1a1a356d30>,\n",
       "        <matplotlib.axes._subplots.AxesSubplot object at 0x1a1a3c6a20>,\n",
       "        <matplotlib.axes._subplots.AxesSubplot object at 0x1a1a4293c8>],\n",
       "       [<matplotlib.axes._subplots.AxesSubplot object at 0x1a1a4a16a0>,\n",
       "        <matplotlib.axes._subplots.AxesSubplot object at 0x1a1a505630>,\n",
       "        <matplotlib.axes._subplots.AxesSubplot object at 0x1a1a53ef60>]], dtype=object)"
      ]
     },
     "execution_count": 22,
     "metadata": {},
     "output_type": "execute_result"
    },
    {
     "data": {
      "image/png": "[encoded data removed]",
      "text/plain": [
       "<matplotlib.figure.Figure at 0x1a1641f4e0>"
      ]
     },
     "metadata": {
      "image/png": {
       "height": 261,
       "width": 435
      }
     },
     "output_type": "display_data"
    }
   ],
   "source": [
    "Xss.hist()"
   ]
  },
  {
   "cell_type": "markdown",
   "metadata": {},
   "source": [
    "### Setup search parameters for grid search on the regularisation strength alpha\n",
    "\n",
    "Hint: Look up `np.linspace` and `np.logspace` for efficient ways of defining search parameters for alpha."
   ]
  },
  {
   "cell_type": "code",
   "execution_count": 35,
   "metadata": {},
   "outputs": [],
   "source": [
    "# Setup our GridSearch Parmaters\n",
    "alpha_parameters = np.linspace(0, .15, num=100)"
   ]
  },
  {
   "cell_type": "code",
   "execution_count": 36,
   "metadata": {},
   "outputs": [
    {
     "data": {
      "text/plain": [
       "{'alpha': array([ 0.        ,  0.00151515,  0.0030303 ,  0.00454545,  0.00606061,\n",
       "         0.00757576,  0.00909091,  0.01060606,  0.01212121,  0.01363636,\n",
       "         0.01515152,  0.01666667,  0.01818182,  0.01969697,  0.02121212,\n",
       "         0.02272727,  0.02424242,  0.02575758,  0.02727273,  0.02878788,\n",
       "         0.03030303,  0.03181818,  0.03333333,  0.03484848,  0.03636364,\n",
       "         0.03787879,  0.03939394,  0.04090909,  0.04242424,  0.04393939,\n",
       "         0.04545455,  0.0469697 ,  0.04848485,  0.05      ,  0.05151515,\n",
       "         0.0530303 ,  0.05454545,  0.05606061,  0.05757576,  0.05909091,\n",
       "         0.06060606,  0.06212121,  0.06363636,  0.06515152,  0.06666667,\n",
       "         0.06818182,  0.06969697,  0.07121212,  0.07272727,  0.07424242,\n",
       "         0.07575758,  0.07727273,  0.07878788,  0.08030303,  0.08181818,\n",
       "         0.08333333,  0.08484848,  0.08636364,  0.08787879,  0.08939394,\n",
       "         0.09090909,  0.09242424,  0.09393939,  0.09545455,  0.0969697 ,\n",
       "         0.09848485,  0.1       ,  0.10151515,  0.1030303 ,  0.10454545,\n",
       "         0.10606061,  0.10757576,  0.10909091,  0.11060606,  0.11212121,\n",
       "         0.11363636,  0.11515152,  0.11666667,  0.11818182,  0.11969697,\n",
       "         0.12121212,  0.12272727,  0.12424242,  0.12575758,  0.12727273,\n",
       "         0.12878788,  0.13030303,  0.13181818,  0.13333333,  0.13484848,\n",
       "         0.13636364,  0.13787879,  0.13939394,  0.14090909,  0.14242424,\n",
       "         0.14393939,  0.14545455,  0.1469697 ,  0.14848485,  0.15      ])}"
      ]
     },
     "execution_count": 36,
     "metadata": {},
     "output_type": "execute_result"
    }
   ],
   "source": [
    "search_parameters = {'alpha': alpha_parameters}\n",
    "search_parameters"
   ]
  },
  {
   "cell_type": "markdown",
   "metadata": {},
   "source": [
    "### Perform grid search using Lasso regularisation "
   ]
  },
  {
   "cell_type": "code",
   "execution_count": 37,
   "metadata": {
    "collapsed": true
   },
   "outputs": [],
   "source": [
    "from sklearn.linear_model import Lasso"
   ]
  },
  {
   "cell_type": "code",
   "execution_count": 38,
   "metadata": {
    "scrolled": false
   },
   "outputs": [
    {
     "name": "stderr",
     "output_type": "stream",
     "text": [
      "/Users/Alistair/anaconda/envs/py36/lib/python3.6/site-packages/sklearn/model_selection/_validation.py:458: UserWarning: With alpha=0, this algorithm does not converge well. You are advised to use the LinearRegression estimator\n",
      "  estimator.fit(X_train, y_train, **fit_params)\n",
      "/Users/Alistair/anaconda/envs/py36/lib/python3.6/site-packages/sklearn/linear_model/coordinate_descent.py:477: UserWarning: Coordinate descent with no regularization may lead to unexpected results and is discouraged.\n",
      "  positive)\n",
      "/Users/Alistair/anaconda/envs/py36/lib/python3.6/site-packages/sklearn/linear_model/coordinate_descent.py:491: ConvergenceWarning: Objective did not converge. You might want to increase the number of iterations. Fitting data with very small alpha may cause precision problems.\n",
      "  ConvergenceWarning)\n",
      "/Users/Alistair/anaconda/envs/py36/lib/python3.6/site-packages/sklearn/model_selection/_validation.py:458: UserWarning: With alpha=0, this algorithm does not converge well. You are advised to use the LinearRegression estimator\n",
      "  estimator.fit(X_train, y_train, **fit_params)\n",
      "/Users/Alistair/anaconda/envs/py36/lib/python3.6/site-packages/sklearn/linear_model/coordinate_descent.py:477: UserWarning: Coordinate descent with no regularization may lead to unexpected results and is discouraged.\n",
      "  positive)\n",
      "/Users/Alistair/anaconda/envs/py36/lib/python3.6/site-packages/sklearn/linear_model/coordinate_descent.py:491: ConvergenceWarning: Objective did not converge. You might want to increase the number of iterations. Fitting data with very small alpha may cause precision problems.\n",
      "  ConvergenceWarning)\n",
      "/Users/Alistair/anaconda/envs/py36/lib/python3.6/site-packages/sklearn/model_selection/_validation.py:458: UserWarning: With alpha=0, this algorithm does not converge well. You are advised to use the LinearRegression estimator\n",
      "  estimator.fit(X_train, y_train, **fit_params)\n",
      "/Users/Alistair/anaconda/envs/py36/lib/python3.6/site-packages/sklearn/linear_model/coordinate_descent.py:477: UserWarning: Coordinate descent with no regularization may lead to unexpected results and is discouraged.\n",
      "  positive)\n",
      "/Users/Alistair/anaconda/envs/py36/lib/python3.6/site-packages/sklearn/linear_model/coordinate_descent.py:491: ConvergenceWarning: Objective did not converge. You might want to increase the number of iterations. Fitting data with very small alpha may cause precision problems.\n",
      "  ConvergenceWarning)\n",
      "/Users/Alistair/anaconda/envs/py36/lib/python3.6/site-packages/sklearn/model_selection/_validation.py:458: UserWarning: With alpha=0, this algorithm does not converge well. You are advised to use the LinearRegression estimator\n",
      "  estimator.fit(X_train, y_train, **fit_params)\n",
      "/Users/Alistair/anaconda/envs/py36/lib/python3.6/site-packages/sklearn/linear_model/coordinate_descent.py:477: UserWarning: Coordinate descent with no regularization may lead to unexpected results and is discouraged.\n",
      "  positive)\n",
      "/Users/Alistair/anaconda/envs/py36/lib/python3.6/site-packages/sklearn/linear_model/coordinate_descent.py:491: ConvergenceWarning: Objective did not converge. You might want to increase the number of iterations. Fitting data with very small alpha may cause precision problems.\n",
      "  ConvergenceWarning)\n",
      "/Users/Alistair/anaconda/envs/py36/lib/python3.6/site-packages/sklearn/model_selection/_validation.py:458: UserWarning: With alpha=0, this algorithm does not converge well. You are advised to use the LinearRegression estimator\n",
      "  estimator.fit(X_train, y_train, **fit_params)\n",
      "/Users/Alistair/anaconda/envs/py36/lib/python3.6/site-packages/sklearn/linear_model/coordinate_descent.py:477: UserWarning: Coordinate descent with no regularization may lead to unexpected results and is discouraged.\n",
      "  positive)\n",
      "/Users/Alistair/anaconda/envs/py36/lib/python3.6/site-packages/sklearn/linear_model/coordinate_descent.py:491: ConvergenceWarning: Objective did not converge. You might want to increase the number of iterations. Fitting data with very small alpha may cause precision problems.\n",
      "  ConvergenceWarning)\n"
     ]
    },
    {
     "name": "stdout",
     "output_type": "stream",
     "text": [
      "Lasso(alpha=0.0, copy_X=True, fit_intercept=True, max_iter=1000,\n",
      "   normalize=False, positive=False, precompute=False, random_state=None,\n",
      "   selection='cyclic', tol=0.0001, warm_start=False)\n"
     ]
    },
    {
     "name": "stderr",
     "output_type": "stream",
     "text": [
      "/Users/Alistair/anaconda/envs/py36/lib/python3.6/site-packages/sklearn/model_selection/_search.py:739: UserWarning: With alpha=0, this algorithm does not converge well. You are advised to use the LinearRegression estimator\n",
      "  self.best_estimator_.fit(X, y, **fit_params)\n",
      "/Users/Alistair/anaconda/envs/py36/lib/python3.6/site-packages/sklearn/linear_model/coordinate_descent.py:477: UserWarning: Coordinate descent with no regularization may lead to unexpected results and is discouraged.\n",
      "  positive)\n",
      "/Users/Alistair/anaconda/envs/py36/lib/python3.6/site-packages/sklearn/linear_model/coordinate_descent.py:491: ConvergenceWarning: Objective did not converge. You might want to increase the number of iterations. Fitting data with very small alpha may cause precision problems.\n",
      "  ConvergenceWarning)\n"
     ]
    }
   ],
   "source": [
    "# Intialize a blank model object\n",
    "lasso_reg = Lasso()\n",
    "\n",
    "# Initialize gridsearch\n",
    "estimator = GridSearchCV(\n",
    "    lasso_reg, # estimator\n",
    "    search_parameters, # hyper-parameter space to search \n",
    "    cv=5, # number of folds\n",
    "    scoring=\"neg_mean_squared_error\" # scoring metric to optimise for\n",
    ")\n",
    "\n",
    "# Fit some data\n",
    "results = estimator.fit(Xss, y)\n",
    "print( results.best_estimator_)"
   ]
  },
  {
   "cell_type": "markdown",
   "metadata": {},
   "source": [
    "### Obtain performance metrics and decide on an optimal parameter for alpha"
   ]
  },
  {
   "cell_type": "code",
   "execution_count": 42,
   "metadata": {},
   "outputs": [
    {
     "name": "stdout",
     "output_type": "stream",
     "text": [
      "Best estimator:\n",
      "Lasso(alpha=0.0, copy_X=True, fit_intercept=True, max_iter=1000,\n",
      "   normalize=False, positive=False, precompute=False, random_state=None,\n",
      "   selection='cyclic', tol=0.0001, warm_start=False)\n",
      "\n",
      "Best score:\n",
      "0.750101748615\n",
      "\n",
      "Best params:\n",
      "{'alpha': 0.0}\n",
      "\n",
      "Grid parameters\n",
      "{'alpha': array([ 0.        ,  0.00151515,  0.0030303 ,  0.00454545,  0.00606061,\n",
      "        0.00757576,  0.00909091,  0.01060606,  0.01212121,  0.01363636,\n",
      "        0.01515152,  0.01666667,  0.01818182,  0.01969697,  0.02121212,\n",
      "        0.02272727,  0.02424242,  0.02575758,  0.02727273,  0.02878788,\n",
      "        0.03030303,  0.03181818,  0.03333333,  0.03484848,  0.03636364,\n",
      "        0.03787879,  0.03939394,  0.04090909,  0.04242424,  0.04393939,\n",
      "        0.04545455,  0.0469697 ,  0.04848485,  0.05      ,  0.05151515,\n",
      "        0.0530303 ,  0.05454545,  0.05606061,  0.05757576,  0.05909091,\n",
      "        0.06060606,  0.06212121,  0.06363636,  0.06515152,  0.06666667,\n",
      "        0.06818182,  0.06969697,  0.07121212,  0.07272727,  0.07424242,\n",
      "        0.07575758,  0.07727273,  0.07878788,  0.08030303,  0.08181818,\n",
      "        0.08333333,  0.08484848,  0.08636364,  0.08787879,  0.08939394,\n",
      "        0.09090909,  0.09242424,  0.09393939,  0.09545455,  0.0969697 ,\n",
      "        0.09848485,  0.1       ,  0.10151515,  0.1030303 ,  0.10454545,\n",
      "        0.10606061,  0.10757576,  0.10909091,  0.11060606,  0.11212121,\n",
      "        0.11363636,  0.11515152,  0.11666667,  0.11818182,  0.11969697,\n",
      "        0.12121212,  0.12272727,  0.12424242,  0.12575758,  0.12727273,\n",
      "        0.12878788,  0.13030303,  0.13181818,  0.13333333,  0.13484848,\n",
      "        0.13636364,  0.13787879,  0.13939394,  0.14090909,  0.14242424,\n",
      "        0.14393939,  0.14545455,  0.1469697 ,  0.14848485,  0.15      ])}\n"
     ]
    }
   ],
   "source": [
    "print( \"Best estimator:\")\n",
    "print( results.best_estimator_)\n",
    "\n",
    "print() \n",
    "\n",
    "print( \"Best score:\")\n",
    "print( np.sqrt(-1 * results.best_score_))\n",
    "\n",
    "print()\n",
    "\n",
    "print( \"Best params:\")\n",
    "print( results.best_params_)\n",
    "\n",
    "print()\n",
    "\n",
    "print( \"Grid parameters\")\n",
    "print( results.param_grid)"
   ]
  },
  {
   "cell_type": "code",
   "execution_count": 43,
   "metadata": {},
   "outputs": [
    {
     "name": "stderr",
     "output_type": "stream",
     "text": [
      "/Users/Alistair/anaconda/envs/py36/lib/python3.6/site-packages/sklearn/utils/deprecation.py:122: FutureWarning: You are accessing a training score ('mean_train_score'), which will not be available by default any more in 0.21. If you need training scores, please set return_train_score=True\n",
      "  warnings.warn(*warn_args, **warn_kwargs)\n",
      "/Users/Alistair/anaconda/envs/py36/lib/python3.6/site-packages/sklearn/utils/deprecation.py:122: FutureWarning: You are accessing a training score ('split0_train_score'), which will not be available by default any more in 0.21. If you need training scores, please set return_train_score=True\n",
      "  warnings.warn(*warn_args, **warn_kwargs)\n",
      "/Users/Alistair/anaconda/envs/py36/lib/python3.6/site-packages/sklearn/utils/deprecation.py:122: FutureWarning: You are accessing a training score ('split1_train_score'), which will not be available by default any more in 0.21. If you need training scores, please set return_train_score=True\n",
      "  warnings.warn(*warn_args, **warn_kwargs)\n",
      "/Users/Alistair/anaconda/envs/py36/lib/python3.6/site-packages/sklearn/utils/deprecation.py:122: FutureWarning: You are accessing a training score ('split2_train_score'), which will not be available by default any more in 0.21. If you need training scores, please set return_train_score=True\n",
      "  warnings.warn(*warn_args, **warn_kwargs)\n",
      "/Users/Alistair/anaconda/envs/py36/lib/python3.6/site-packages/sklearn/utils/deprecation.py:122: FutureWarning: You are accessing a training score ('split3_train_score'), which will not be available by default any more in 0.21. If you need training scores, please set return_train_score=True\n",
      "  warnings.warn(*warn_args, **warn_kwargs)\n",
      "/Users/Alistair/anaconda/envs/py36/lib/python3.6/site-packages/sklearn/utils/deprecation.py:122: FutureWarning: You are accessing a training score ('split4_train_score'), which will not be available by default any more in 0.21. If you need training scores, please set return_train_score=True\n",
      "  warnings.warn(*warn_args, **warn_kwargs)\n",
      "/Users/Alistair/anaconda/envs/py36/lib/python3.6/site-packages/sklearn/utils/deprecation.py:122: FutureWarning: You are accessing a training score ('std_train_score'), which will not be available by default any more in 0.21. If you need training scores, please set return_train_score=True\n",
      "  warnings.warn(*warn_args, **warn_kwargs)\n"
     ]
    }
   ],
   "source": [
    "resultsdf = pd.DataFrame(results.cv_results_)"
   ]
  },
  {
   "cell_type": "markdown",
   "metadata": {},
   "source": [
    "### Plot the model scores obtained for the different alphas"
   ]
  },
  {
   "cell_type": "code",
   "execution_count": 44,
   "metadata": {},
   "outputs": [
    {
     "data": {
      "text/html": [
       "<div>\n",
       "<style>\n",
       "    .dataframe thead tr:only-child th {\n",
       "        text-align: right;\n",
       "    }\n",
       "\n",
       "    .dataframe thead th {\n",
       "        text-align: left;\n",
       "    }\n",
       "\n",
       "    .dataframe tbody tr th {\n",
       "        vertical-align: top;\n",
       "    }\n",
       "</style>\n",
       "<table border=\"1\" class=\"dataframe\">\n",
       "  <thead>\n",
       "    <tr style=\"text-align: right;\">\n",
       "      <th></th>\n",
       "      <th>mean_fit_time</th>\n",
       "      <th>mean_score_time</th>\n",
       "      <th>mean_test_score</th>\n",
       "      <th>mean_train_score</th>\n",
       "      <th>param_alpha</th>\n",
       "      <th>params</th>\n",
       "      <th>rank_test_score</th>\n",
       "      <th>split0_test_score</th>\n",
       "      <th>split0_train_score</th>\n",
       "      <th>split1_test_score</th>\n",
       "      <th>...</th>\n",
       "      <th>split2_test_score</th>\n",
       "      <th>split2_train_score</th>\n",
       "      <th>split3_test_score</th>\n",
       "      <th>split3_train_score</th>\n",
       "      <th>split4_test_score</th>\n",
       "      <th>split4_train_score</th>\n",
       "      <th>std_fit_time</th>\n",
       "      <th>std_score_time</th>\n",
       "      <th>std_test_score</th>\n",
       "      <th>std_train_score</th>\n",
       "    </tr>\n",
       "  </thead>\n",
       "  <tbody>\n",
       "    <tr>\n",
       "      <th>0</th>\n",
       "      <td>0.068830</td>\n",
       "      <td>0.000623</td>\n",
       "      <td>-0.562653</td>\n",
       "      <td>-0.534103</td>\n",
       "      <td>0</td>\n",
       "      <td>{'alpha': 0.0}</td>\n",
       "      <td>1</td>\n",
       "      <td>-0.506917</td>\n",
       "      <td>-0.555907</td>\n",
       "      <td>-0.636052</td>\n",
       "      <td>...</td>\n",
       "      <td>-0.596558</td>\n",
       "      <td>-0.523005</td>\n",
       "      <td>-0.559844</td>\n",
       "      <td>-0.531887</td>\n",
       "      <td>-0.513878</td>\n",
       "      <td>-0.545202</td>\n",
       "      <td>0.005553</td>\n",
       "      <td>0.000120</td>\n",
       "      <td>0.049058</td>\n",
       "      <td>0.014903</td>\n",
       "    </tr>\n",
       "    <tr>\n",
       "      <th>1</th>\n",
       "      <td>0.006608</td>\n",
       "      <td>0.000292</td>\n",
       "      <td>-0.563387</td>\n",
       "      <td>-0.534354</td>\n",
       "      <td>0.00151515</td>\n",
       "      <td>{'alpha': 0.00151515151515}</td>\n",
       "      <td>2</td>\n",
       "      <td>-0.507159</td>\n",
       "      <td>-0.556188</td>\n",
       "      <td>-0.637106</td>\n",
       "      <td>...</td>\n",
       "      <td>-0.598106</td>\n",
       "      <td>-0.523253</td>\n",
       "      <td>-0.560458</td>\n",
       "      <td>-0.532156</td>\n",
       "      <td>-0.514090</td>\n",
       "      <td>-0.545426</td>\n",
       "      <td>0.000749</td>\n",
       "      <td>0.000011</td>\n",
       "      <td>0.049483</td>\n",
       "      <td>0.014912</td>\n",
       "    </tr>\n",
       "    <tr>\n",
       "      <th>2</th>\n",
       "      <td>0.005301</td>\n",
       "      <td>0.000297</td>\n",
       "      <td>-0.564796</td>\n",
       "      <td>-0.535101</td>\n",
       "      <td>0.0030303</td>\n",
       "      <td>{'alpha': 0.0030303030303}</td>\n",
       "      <td>3</td>\n",
       "      <td>-0.508820</td>\n",
       "      <td>-0.557020</td>\n",
       "      <td>-0.638492</td>\n",
       "      <td>...</td>\n",
       "      <td>-0.600193</td>\n",
       "      <td>-0.523991</td>\n",
       "      <td>-0.561900</td>\n",
       "      <td>-0.532959</td>\n",
       "      <td>-0.514559</td>\n",
       "      <td>-0.546094</td>\n",
       "      <td>0.001182</td>\n",
       "      <td>0.000033</td>\n",
       "      <td>0.049704</td>\n",
       "      <td>0.014939</td>\n",
       "    </tr>\n",
       "    <tr>\n",
       "      <th>3</th>\n",
       "      <td>0.005540</td>\n",
       "      <td>0.000442</td>\n",
       "      <td>-0.566668</td>\n",
       "      <td>-0.536294</td>\n",
       "      <td>0.00454545</td>\n",
       "      <td>{'alpha': 0.00454545454545}</td>\n",
       "      <td>5</td>\n",
       "      <td>-0.511038</td>\n",
       "      <td>-0.558287</td>\n",
       "      <td>-0.640127</td>\n",
       "      <td>...</td>\n",
       "      <td>-0.602783</td>\n",
       "      <td>-0.525196</td>\n",
       "      <td>-0.564109</td>\n",
       "      <td>-0.534258</td>\n",
       "      <td>-0.515267</td>\n",
       "      <td>-0.547183</td>\n",
       "      <td>0.000908</td>\n",
       "      <td>0.000092</td>\n",
       "      <td>0.049893</td>\n",
       "      <td>0.014963</td>\n",
       "    </tr>\n",
       "    <tr>\n",
       "      <th>4</th>\n",
       "      <td>0.005245</td>\n",
       "      <td>0.000312</td>\n",
       "      <td>-0.567113</td>\n",
       "      <td>-0.537589</td>\n",
       "      <td>0.00606061</td>\n",
       "      <td>{'alpha': 0.00606060606061}</td>\n",
       "      <td>9</td>\n",
       "      <td>-0.506704</td>\n",
       "      <td>-0.559108</td>\n",
       "      <td>-0.639649</td>\n",
       "      <td>...</td>\n",
       "      <td>-0.605842</td>\n",
       "      <td>-0.526863</td>\n",
       "      <td>-0.567129</td>\n",
       "      <td>-0.536082</td>\n",
       "      <td>-0.516234</td>\n",
       "      <td>-0.548714</td>\n",
       "      <td>0.001067</td>\n",
       "      <td>0.000027</td>\n",
       "      <td>0.050994</td>\n",
       "      <td>0.014971</td>\n",
       "    </tr>\n",
       "  </tbody>\n",
       "</table>\n",
       "<p>5 rows × 21 columns</p>\n",
       "</div>"
      ],
      "text/plain": [
       "   mean_fit_time  mean_score_time  mean_test_score  mean_train_score  \\\n",
       "0       0.068830         0.000623        -0.562653         -0.534103   \n",
       "1       0.006608         0.000292        -0.563387         -0.534354   \n",
       "2       0.005301         0.000297        -0.564796         -0.535101   \n",
       "3       0.005540         0.000442        -0.566668         -0.536294   \n",
       "4       0.005245         0.000312        -0.567113         -0.537589   \n",
       "\n",
       "  param_alpha                       params  rank_test_score  \\\n",
       "0           0               {'alpha': 0.0}                1   \n",
       "1  0.00151515  {'alpha': 0.00151515151515}                2   \n",
       "2   0.0030303   {'alpha': 0.0030303030303}                3   \n",
       "3  0.00454545  {'alpha': 0.00454545454545}                5   \n",
       "4  0.00606061  {'alpha': 0.00606060606061}                9   \n",
       "\n",
       "   split0_test_score  split0_train_score  split1_test_score       ...         \\\n",
       "0          -0.506917           -0.555907          -0.636052       ...          \n",
       "1          -0.507159           -0.556188          -0.637106       ...          \n",
       "2          -0.508820           -0.557020          -0.638492       ...          \n",
       "3          -0.511038           -0.558287          -0.640127       ...          \n",
       "4          -0.506704           -0.559108          -0.639649       ...          \n",
       "\n",
       "   split2_test_score  split2_train_score  split3_test_score  \\\n",
       "0          -0.596558           -0.523005          -0.559844   \n",
       "1          -0.598106           -0.523253          -0.560458   \n",
       "2          -0.600193           -0.523991          -0.561900   \n",
       "3          -0.602783           -0.525196          -0.564109   \n",
       "4          -0.605842           -0.526863          -0.567129   \n",
       "\n",
       "   split3_train_score  split4_test_score  split4_train_score  std_fit_time  \\\n",
       "0           -0.531887          -0.513878           -0.545202      0.005553   \n",
       "1           -0.532156          -0.514090           -0.545426      0.000749   \n",
       "2           -0.532959          -0.514559           -0.546094      0.001182   \n",
       "3           -0.534258          -0.515267           -0.547183      0.000908   \n",
       "4           -0.536082          -0.516234           -0.548714      0.001067   \n",
       "\n",
       "   std_score_time  std_test_score  std_train_score  \n",
       "0        0.000120        0.049058         0.014903  \n",
       "1        0.000011        0.049483         0.014912  \n",
       "2        0.000033        0.049704         0.014939  \n",
       "3        0.000092        0.049893         0.014963  \n",
       "4        0.000027        0.050994         0.014971  \n",
       "\n",
       "[5 rows x 21 columns]"
      ]
     },
     "execution_count": 44,
     "metadata": {},
     "output_type": "execute_result"
    }
   ],
   "source": [
    "resultsdf.head()"
   ]
  },
  {
   "cell_type": "code",
   "execution_count": 45,
   "metadata": {},
   "outputs": [
    {
     "data": {
      "text/plain": [
       "Index(['mean_fit_time', 'mean_score_time', 'mean_test_score',\n",
       "       'mean_train_score', 'param_alpha', 'params', 'rank_test_score',\n",
       "       'split0_test_score', 'split0_train_score', 'split1_test_score',\n",
       "       'split1_train_score', 'split2_test_score', 'split2_train_score',\n",
       "       'split3_test_score', 'split3_train_score', 'split4_test_score',\n",
       "       'split4_train_score', 'std_fit_time', 'std_score_time',\n",
       "       'std_test_score', 'std_train_score'],\n",
       "      dtype='object')"
      ]
     },
     "execution_count": 45,
     "metadata": {},
     "output_type": "execute_result"
    }
   ],
   "source": [
    "resultsdf.columns"
   ]
  },
  {
   "cell_type": "code",
   "execution_count": 49,
   "metadata": {},
   "outputs": [
    {
     "data": {
      "text/plain": [
       "0.7885864505668625"
      ]
     },
     "execution_count": 49,
     "metadata": {},
     "output_type": "execute_result"
    }
   ],
   "source": [
    "np.sqrt((-1 * resultsdf['mean_test_score'])).max()"
   ]
  },
  {
   "cell_type": "markdown",
   "metadata": {},
   "source": [
    "### Fit a Lasso regression model on your features and target for all alpha values you used in your grid search and plot how the model coefficients change with alpha."
   ]
  },
  {
   "cell_type": "code",
   "execution_count": null,
   "metadata": {
    "collapsed": true
   },
   "outputs": [],
   "source": []
  },
  {
   "cell_type": "markdown",
   "metadata": {},
   "source": [
    "### Bonus: Ridge regression\n",
    "\n",
    "Do the same using ridge regression adjusting the grid search parameters to the appropriate range. \n",
    "\n",
    "Docs: \n",
    "\n",
    "http://scikit-learn.org/stable/modules/generated/sklearn.linear_model.Ridge.html\n",
    "\n",
    "http://scikit-learn.org/stable/modules/linear_model.html#ridge-regression"
   ]
  },
  {
   "cell_type": "code",
   "execution_count": null,
   "metadata": {
    "collapsed": true
   },
   "outputs": [],
   "source": [
    "from sklearn.linear_model import Ridge"
   ]
  },
  {
   "cell_type": "markdown",
   "metadata": {},
   "source": [
    "## Bonus: Elastic Net regression\n",
    "\n",
    "Do the same using elasticnet adjusting the grid search parameters to the appropriate range. \n",
    "\n",
    "Docs: \n",
    "\n",
    "http://scikit-learn.org/stable/modules/generated/sklearn.linear_model.ElasticNet.html#sklearn.linear_model.ElasticNet\n",
    "\n",
    "http://scikit-learn.org/stable/modules/linear_model.html#elastic-net"
   ]
  },
  {
   "cell_type": "code",
   "execution_count": null,
   "metadata": {
    "collapsed": true
   },
   "outputs": [],
   "source": [
    "from sklearn.linear_model import ElasticNet"
   ]
  },
  {
   "cell_type": "code",
   "execution_count": null,
   "metadata": {
    "collapsed": true
   },
   "outputs": [],
   "source": []
  }
 ],
 "metadata": {
  "anaconda-cloud": {},
  "kernelspec": {
   "display_name": "Python 3",
   "language": "python",
   "name": "python3"
  },
  "language_info": {
   "codemirror_mode": {
    "name": "ipython",
    "version": 3
   },
   "file_extension": ".py",
   "mimetype": "text/x-python",
   "name": "python",
   "nbconvert_exporter": "python",
   "pygments_lexer": "ipython3",
   "version": "3.6.1"
  }
 },
 "nbformat": 4,
 "nbformat_minor": 1
}
