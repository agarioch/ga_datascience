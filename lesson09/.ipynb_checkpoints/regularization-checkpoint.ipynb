{
 "cells": [
  {
   "cell_type": "markdown",
   "metadata": {},
   "source": [
    "<img src=\"http://imgur.com/1ZcRyrc.png\" style=\"float: left; margin: 20px; height: 55px\">\n",
    "\n",
    "# Introduction to Regularization\n",
    "\n",
    "---\n",
    "\n",
    "### Learning Objectives \n",
    "- Learn about regularization for regression models\n",
    "- Understand how regularization modifies the loss function\n",
    "- Understand the effect of regularization on coefficients\n",
    "- Implement and visualize the penalties using sklearn"
   ]
  },
  {
   "cell_type": "markdown",
   "metadata": {},
   "source": [
    "### Lesson Guide\n",
    "- [Overview of regularization](#intro)\n",
    "- [Review: the least-squares loss function](#lsq-loss)\n",
    "- [The Lasso penalty](#lasso)\n",
    "- [What is the effect of regularization](#effect)\n",
    "- [Standardizing predictors is required](#standardization)\n",
    "- [Visualizing the Lasso](#viz-lasso)\n",
    "- [Model performance with complex predictor matrix using regularization](#model-performance)"
   ]
  },
  {
   "cell_type": "code",
   "execution_count": null,
   "metadata": {},
   "outputs": [],
   "source": [
    "import pandas as pd\n",
    "import numpy as np\n",
    "import matplotlib\n",
    "import matplotlib.pyplot as plt\n",
    "import seaborn as sns\n",
    "\n",
    "sns.set_style('darkgrid')\n",
    "%config InlineBackend.figure_format = 'retina'\n",
    "%matplotlib inline"
   ]
  },
  {
   "cell_type": "markdown",
   "metadata": {},
   "source": [
    "<a id='intro'></a>\n",
    "\n",
    "## Overview of regularization\n",
    "\n",
    "---\n",
    "### The goal of regularisation\n",
    "\n",
    "The goal of \"regularizing\" regression models is to structurally prevent overfitting, \"learning too much noise\", by imposing a penalty on the coefficients of the model.\n",
    "\n",
    "Regularization artificially discourages complex or extreme explanations of the world even if they fit the what has been observed better. The idea is that such explanations are unlikely to generalize well to the future.\n",
    "\n",
    "Regularization methods like the Ridge and **Lasso** add this additional \"penalty\" on the size of coefficients to the loss function. When the loss function is minimized, this additional component is added to the residual sum of squares.\n",
    "\n",
    "In other words, the minimization becomes a balance between the error between predictions and true values and the size of the coefficients. \n",
    "\n",
    "The two most common types of regularization are the **Lasso**, **Ridge**. There is a mixture of them called the **Elastic Net**. We will take a look at the mathematics of regularization and the effect these penalties have on model fits.\n",
    "\n",
    "\n"
   ]
  },
  {
   "cell_type": "markdown",
   "metadata": {},
   "source": [
    "### High dimensionality\n",
    "\n",
    "Provided that the true relationship between the response and the predictors is **approximately linear**, the least squares estimates will have **low bias**. \n",
    "\n",
    "If **n >> p**, where n is the number of observations and p is the number of features,then the least squares estimates tend to also have **low variance**, and hence they will perform well on the test observations.\n",
    "\n",
    "However, **if n is not much larger than p**, then there can be a lot of variability in the least squares fit, resulting in **overfitting** and poor test performance.\n",
    "\n",
    "By constraining or shrinking the estimated coefficients, we can often substantially reduce the variance of our model at the cost of a negligible increase in bias.\n",
    "\n",
    "As a **bonus**, if that shrinkage can take the coefficients to zero, then we can also reduce the model complexity and make inference easier. "
   ]
  },
  {
   "cell_type": "markdown",
   "metadata": {},
   "source": [
    "### Collinearity\n",
    "\n",
    "Colinearity refers to the situation in which two or more predictor variables are closely related to one another. \n",
    "\n",
    "The presence of collinearity can pose problems in the regression context, since it can be difficult to separate out the individual effects of collinear variables on the target.\n",
    "\n",
    "In the context of high dimensionality, the problem of collinearity can grow to extreme levels, in which we can't really know which variables explain the target.\n",
    "\n",
    "The side effect of high collinearity in our models is that we tend to overestimate the effect of particular features, and hence the coefficient values tend to be bigger.\n",
    "Regularisation can help by reducing the dimensionality of the feature space and also by shriking the coefficient values.\n",
    "\n",
    "We can no longer interpret a coefficient on a variable as the effect on the target of a one unit increase in that variable holding the other variables constant. This is because when predictors are strongly correlated, there is not a scenario in which one variable can change without a conditional change in another variable.\n",
    "\n",
    "**The Lasso is particularly useful when you have redundant or unimportant variables.** If you have 1000 variables in a dataset the Lasso can perform \"feature selection\" automatically for you by forcing coefficients to be zero."
   ]
  },
  {
   "cell_type": "markdown",
   "metadata": {},
   "source": [
    "### When should we use regularisation?\n",
    "\n",
    "Regularisation is an appropiate tool to get better model performance in two main instances:\n",
    "\n",
    "- In the presence of a low ratio of dimensions to rows, where n >> p is not true.\n",
    "\n",
    "- In the presence of high collinearity (or multicollinearity)."
   ]
  },
  {
   "cell_type": "markdown",
   "metadata": {},
   "source": [
    "<a id='lsq-loss'></a>\n",
    "\n",
    "## Review: least squares loss function\n",
    "\n",
    "---\n",
    "\n",
    "Ordinary least squares regression minimizes the residual sum of squares (RSS) to fit the data:\n",
    "\n",
    "### $$ \\text{minimize:}\\; RSS = \\sum_{i=1}^n (y_i - \\hat{y}_i)^2 = \\sum_{i=1}^n \\left(y_i - \\left(\\beta_0 + \\sum_{j=1}^p\\beta_j x_j\\right)\\right)^2 $$\n",
    "\n",
    "Where our model predictions for $y$ are based on the sum of the $beta_0$ intercept and the products of $\\beta_i$ with $x_i$.\n",
    "\n",
    "Alternatively, in matrix notation using predictor matrix $X$, residual errors $\\epsilon$ and vector of beta coefficients $\\beta$:\n",
    "\n",
    "### $$ \\text{minimize:}\\; RSS = \\epsilon' \\epsilon = (y - \\beta X)' (y - \\beta X) $$"
   ]
  },
  {
   "cell_type": "markdown",
   "metadata": {},
   "source": [
    "<a id='lasso'></a>\n",
    "\n",
    "## The Lasso penalty\n",
    "\n",
    "---\n",
    "\n",
    "The Lasso regression adds the sum of the _absolute values_ of the $\\beta$ coefficients:\n",
    "\n",
    "### $$ \\text{minimize:}\\; RSS + Lasso = \\sum_{i=1}^n \\left(y_i - \\left(\\beta_0 + \\sum_{j=1}^p\\beta_j x_j\\right)\\right)^2 + \\lambda_1\\sum_{j=1}^p |\\beta_j|$$\n",
    "\n",
    "**Where:**\n",
    "\n",
    "$|\\beta_j|$ is the absolute value of the $\\beta$ coefficient for variable $x_j$\n",
    "\n",
    "$\\lambda_1$ is the strength of the regularization penalty component in the loss function. In lasso the lambda is denoted with a 1, in ridge the lambda is denoted with a 2.\n",
    "\n",
    "\n",
    "**In matrix format the Lasso PRSS is:**\n",
    "\n",
    "### $$ \\text{Lasso PRSS} = (y - \\beta X)' (y - \\beta X) + \\lambda_1 \\; ||\\beta|| $$\n",
    "\n",
    "There is not a closed-form solution for the Lasso beta coefficients.\n",
    "\n",
    "\n",
    "**Note**: A value of lambda/alpha of zero makes the problem equal to solving a \"normal\" Linear Regression."
   ]
  },
  {
   "cell_type": "markdown",
   "metadata": {},
   "source": [
    "<a id='effect'></a>\n",
    "\n",
    "## What is the effect of regularization?\n",
    "\n",
    "---\n",
    "\n",
    "**To demonstrate the effects we will be using a dataset on wine quality.**\n",
    "\n",
    "We will create a spurious feature matrix, with higher dimensionality and high levels of collinearity. We will see that under that context using Lasso regression will improve the generalisable power over a \"vanilla\" Linear Regression.\n",
    "\n"
   ]
  },
  {
   "cell_type": "markdown",
   "metadata": {},
   "source": [
    "### Load the wine csv\n",
    "\n",
    "This version has red and white wines concatenated together and tagged with a binary 1,0 indicator (1 is red wine). There are many other variables purportedly related to the rated quality of the wine."
   ]
  },
  {
   "cell_type": "code",
   "execution_count": null,
   "metadata": {},
   "outputs": [],
   "source": [
    "wine = pd.read_csv('winequality_merged.csv')\n",
    "\n",
    "# replace spaces in column names and convert all columns to lowercase:\n",
    "wine.columns = [x.lower().replace(' ','_') for x in wine.columns]"
   ]
  },
  {
   "cell_type": "code",
   "execution_count": null,
   "metadata": {},
   "outputs": [],
   "source": [
    "wine.head()"
   ]
  },
  {
   "cell_type": "markdown",
   "metadata": {},
   "source": [
    "**Look at the correlation between variables.**"
   ]
  },
  {
   "cell_type": "code",
   "execution_count": null,
   "metadata": {},
   "outputs": [],
   "source": [
    "wine_corr = wine.corr()\n",
    "wine_corr"
   ]
  },
  {
   "cell_type": "code",
   "execution_count": null,
   "metadata": {},
   "outputs": [],
   "source": [
    "# Set the default matplotlib figure size to 7x7:\n",
    "fix, ax = plt.subplots(figsize=(9,7))\n",
    "\n",
    "# Generate a mask for the upper triangle (taken from seaborn example gallery)\n",
    "mask = np.zeros_like(wine_corr, dtype=np.bool)\n",
    "mask[np.triu_indices_from(mask)] = True\n",
    "\n",
    "# Plot the heatmap with seaborn.\n",
    "# Assign the matplotlib axis the function returns. This will let us resize the labels.\n",
    "ax = sns.heatmap(wine_corr, mask=mask, ax=ax, vmin=-1, vmax=1)\n",
    "\n",
    "# Resize the labels.\n",
    "ax.set_xticklabels(ax.xaxis.get_ticklabels(), fontsize=14)\n",
    "ax.set_yticklabels(ax.yaxis.get_ticklabels(), fontsize=14)\n",
    "\n",
    "# If you put plt.show() at the bottom, it prevents those useless printouts from matplotlib.\n",
    "plt.show()"
   ]
  },
  {
   "cell_type": "markdown",
   "metadata": {},
   "source": [
    "<a id='standardization'></a>\n",
    "\n",
    "## Standardizing predictors is required\n",
    "\n",
    "---\n",
    "\n",
    "With Lasso, it is neccessary to standardize the predictor columns before constructing the models, even the dummy coded categorical variables. \n",
    "\n",
    "Below we define our target variable and then normalize the columns that are not the target.\n",
    "\n",
    "Recall the equation for the Lasso penalty:\n",
    "\n",
    "### $$ \\text{Lasso penalty}\\; = \\lambda_1\\sum_{j=1}^p |\\beta_j|$$\n",
    "\n",
    "**How are the $\\beta$ coefficients affected by the mean and variance of your variables?**\n",
    "\n",
    "If the mean and variance of your $x$ predictors are different, their respective $\\beta$ coefficients *scale with the mean and variance of the predictors regardless of their explanatory power.*\n",
    "\n",
    "This means that if one of your $x$ variables, for example the fixed acidity, will have a much smaller $\\beta$ value than say the citric acid – just because the scale of the two variables are so different!\n",
    "\n",
    "The Lasso penalty do not take into account to the mean and variance of your predictors, so the adjustment is up to you. All they \"care about\" are the values of the coefficients."
   ]
  },
  {
   "cell_type": "code",
   "execution_count": null,
   "metadata": {},
   "outputs": [],
   "source": [
    "# Choose a target/dependent variable that we will predict\n",
    "target = 'quality'"
   ]
  },
  {
   "cell_type": "code",
   "execution_count": null,
   "metadata": {},
   "outputs": [],
   "source": [
    "wine['quality'].value_counts().sort_index()"
   ]
  },
  {
   "cell_type": "code",
   "execution_count": null,
   "metadata": {},
   "outputs": [],
   "source": [
    "# select all the columns that are not the target\n",
    "features_columns = [x for x in wine.columns if x != target]"
   ]
  },
  {
   "cell_type": "code",
   "execution_count": null,
   "metadata": {},
   "outputs": [],
   "source": [
    "wine.head()"
   ]
  },
  {
   "cell_type": "markdown",
   "metadata": {},
   "source": [
    "- We will use the Standarscaler on wine to standarize your target variables."
   ]
  },
  {
   "cell_type": "code",
   "execution_count": null,
   "metadata": {},
   "outputs": [],
   "source": [
    "from sklearn.preprocessing import StandardScaler"
   ]
  },
  {
   "cell_type": "code",
   "execution_count": null,
   "metadata": {},
   "outputs": [],
   "source": [
    "scaler = StandardScaler()\n",
    "X = wine[features_columns]\n",
    "y = wine['quality']\n",
    "Xss = scaler.fit_transform(X)\n",
    "Xss = pd.DataFrame(Xss, index=X.index, columns=X.columns)\n",
    "Xss.head()"
   ]
  },
  {
   "cell_type": "code",
   "execution_count": null,
   "metadata": {},
   "outputs": [],
   "source": [
    "Xss.plot(kind=\"hist\", alpha=0.5)"
   ]
  },
  {
   "cell_type": "code",
   "execution_count": null,
   "metadata": {},
   "outputs": [],
   "source": [
    "wine_ss = pd.concat([y, Xss], axis=1)\n",
    "wine_ss.head()"
   ]
  },
  {
   "cell_type": "markdown",
   "metadata": {},
   "source": [
    "### Creating the target and predictor matrix with helper functions (Patsy).\n",
    "\n",
    "**Note**: [Patsy](https://patsy.readthedocs.io/en/latest/) its a library used to describe statistical models in Python. It's helpful for creating new feature matrices quickly. The use of Patsy in your projects is **completely optional**.\n",
    "\n",
    "We will be making two X, Y datasets. One of them will be dramatically more complex, with lots of collinearity (and thus will make our model overfit).\n",
    "\n",
    "1. The first is going to just be all the variables added together.\n",
    "2. The second will have all interactions between the variables included. This should overfit the target quite a bit!\n"
   ]
  },
  {
   "cell_type": "code",
   "execution_count": null,
   "metadata": {},
   "outputs": [],
   "source": [
    "import patsy\n",
    "\n",
    "# Get the non-target cols with a simple list comprehension\n",
    "non_target_cols = [c for c in wine_ss.columns if c != target]\n",
    "\n",
    "# Use some string adding and joining to make the simple model formula:\n",
    "formula_simple = target + ' ~ ' + ' + '.join(non_target_cols) + ' -1'\n",
    "print( \"Simple formula: \\n\")\n",
    "print( formula_simple)\n",
    "print( \"\\n\")\n",
    "# Make the complex formula:\n",
    "formula_complex = target + ' ~ (' + ' + '.join(non_target_cols) + ')**2 -1'\n",
    "print( \"Complex formula: \\n\")\n",
    "print( formula_complex)\n",
    "\n",
    "# Create the X and Y pairs for both!\n",
    "y, X = patsy.dmatrices(formula_simple, data=wine_ss, return_type='dataframe')\n",
    "yoverfit, Xoverfit = patsy.dmatrices(formula_complex, data=wine_ss, return_type='dataframe')\n",
    "\n",
    "y = y.values.ravel()\n",
    "yoverfit = yoverfit.values.ravel()\n"
   ]
  },
  {
   "cell_type": "markdown",
   "metadata": {},
   "source": [
    "**Look at how the shapes of the X matrices differ. You can see that the Xoverfit has considerably more columns due to the creation of all possible two-way interactions.**"
   ]
  },
  {
   "cell_type": "code",
   "execution_count": null,
   "metadata": {},
   "outputs": [],
   "source": [
    "print( X.shape)\n",
    "print( Xoverfit.shape) # check that now we have more columns"
   ]
  },
  {
   "cell_type": "markdown",
   "metadata": {},
   "source": [
    "We can plot the heatmap of the new, extended, feature matrix, and check that there's a lot of collinearity"
   ]
  },
  {
   "cell_type": "code",
   "execution_count": null,
   "metadata": {},
   "outputs": [],
   "source": [
    "# Set the default matplotlib figure size to 7x7:\n",
    "fix, ax = plt.subplots(figsize=(9,7))\n",
    "\n",
    "# Generate a mask for the upper triangle (taken from seaborn example gallery)\n",
    "mask = np.zeros_like(Xoverfit.corr(), dtype=np.bool)\n",
    "mask[np.triu_indices_from(mask)] = True\n",
    "\n",
    "# Plot the heatmap with seaborn.\n",
    "# Assign the matplotlib axis the function returns. This will let us resize the labels.\n",
    "ax = sns.heatmap(Xoverfit.corr(), mask=mask, ax=ax, vmin=-1, vmax=1)\n",
    "\n",
    "# Resize the labels.\n",
    "ax.set_xticklabels(\"\")\n",
    "ax.set_yticklabels(\"\")\n",
    "\n",
    "# If you put plt.show() at the bottom, it prevents those useless printouts from matplotlib.\n",
    "plt.show()"
   ]
  },
  {
   "cell_type": "markdown",
   "metadata": {},
   "source": [
    "<a id='viz-ridge'></a>\n",
    "\n",
    "## Visualizing the Lasso\n",
    "\n",
    "---\n",
    "\n",
    "Import the `Lasso` model class from sklearn.\n",
    "\n",
    "**Note**: For solving regression problems we need to import Lasso, which extends Linear Regression. For classification problems, the LogisticRegression class has the inbuilt option of using a lasso penalty."
   ]
  },
  {
   "cell_type": "code",
   "execution_count": null,
   "metadata": {},
   "outputs": [],
   "source": [
    "from sklearn.linear_model import Lasso"
   ]
  },
  {
   "cell_type": "markdown",
   "metadata": {},
   "source": [
    "This function iterates over a series of different alpha regularization parameters. **The alpha is sklearn's equivalent of the lambda value in the formula that multiples the square of betas from the equation.**\n",
    "\n",
    "The function stores the results of the model so that we can plot them interactively."
   ]
  },
  {
   "cell_type": "code",
   "execution_count": null,
   "metadata": {},
   "outputs": [],
   "source": [
    "# This is the same as the ridge coefficient by alpha calculator\n",
    "def lasso_coefs(X, Y, alphas):\n",
    "    coefs = []\n",
    "    lasso_reg = Lasso()\n",
    "    for a in alphas:\n",
    "        lasso_reg.set_params(alpha=a) # We set the hyperparameter alpha\n",
    "        lasso_reg.fit(X, Y)\n",
    "        coefs.append(lasso_reg.coef_)\n",
    "        \n",
    "    return coefs"
   ]
  },
  {
   "cell_type": "code",
   "execution_count": null,
   "metadata": {},
   "outputs": [],
   "source": [
    "l_alphas = np.arange(0.01, 0.15, 0.0025)\n",
    "l_coefs = lasso_coefs(Xoverfit, y, l_alphas)"
   ]
  },
  {
   "cell_type": "code",
   "execution_count": null,
   "metadata": {},
   "outputs": [],
   "source": [
    "len(l_alphas)"
   ]
  },
  {
   "cell_type": "code",
   "execution_count": null,
   "metadata": {},
   "outputs": [],
   "source": [
    "len(l_coefs)"
   ]
  },
  {
   "cell_type": "markdown",
   "metadata": {},
   "source": [
    "The plotting function below will:\n",
    "\n",
    " - Plot the effect of changing alpha on the coefficient size on a **path** graph\n",
    " - Plot the effect of changing alpha on the coefficient size on a **bar** graph\n",
    " \n",
    "Each one gives informative information. It's just two different ways of visualizing the same thing. The chart is interactive so you can play around with the values of alpha across the specified range above."
   ]
  },
  {
   "cell_type": "code",
   "execution_count": null,
   "metadata": {},
   "outputs": [],
   "source": [
    "# The cycler package lets us \"cycle\" throug colors.\n",
    "from cycler import cycler\n",
    "\n",
    "def coef_plotter(alphas, coefs, feature_names, to_alpha, regtype='ridge'):\n",
    "    \n",
    "    # Get the full range of alphas before subsetting to keep the plots from \n",
    "    # resetting axes each time. (We use these values to set static axes later).\n",
    "    amin = np.min(alphas)\n",
    "    amax = np.max(alphas)\n",
    "    \n",
    "    # Subset the alphas and coefficients to just the ones below the set limit\n",
    "    # from the interactive widget:\n",
    "    alphas = [a for a in alphas if a <= to_alpha]\n",
    "    coefs = coefs[0:len(alphas)]\n",
    "    \n",
    "    # Get some colors from seaborn:\n",
    "    colors = sns.color_palette(\"husl\", len(coefs[0]))\n",
    "    \n",
    "    # Get the figure and reset the size to be wider:\n",
    "    fig = plt.figure()\n",
    "    fig.set_size_inches(18,5)\n",
    "\n",
    "    # We have two axes this time on our figure. \n",
    "    # The fig.add_subplot adds axes to our figure. The number inside stands for:\n",
    "    #[figure_rows|figure_cols|position_of_current_axes]\n",
    "    ax1 = fig.add_subplot(121)\n",
    "    \n",
    "    # Give it the color cycler:\n",
    "    ax1.set_prop_cycle(cycler('color', colors))\n",
    "    \n",
    "    # Print a vertical line showing our current alpha threshold:\n",
    "    ax1.axvline(to_alpha, lw=2, ls='dashed', c='k', alpha=0.4)\n",
    "    \n",
    "    # Plot the lines of the alphas on x-axis and coefficients on y-axis\n",
    "    ax1.plot(alphas, coefs, lw=2)\n",
    "    \n",
    "    # set labels for axes:\n",
    "    ax1.set_xlabel('alpha', fontsize=20)\n",
    "    ax1.set_ylabel('coefficients', fontsize=20)\n",
    "    \n",
    "    # If this is for the ridge, set this to a log scale on the x-axis:\n",
    "    if regtype == 'ridge':\n",
    "        ax1.set_xscale('log')\n",
    "    \n",
    "    # Enforce the axis limits:\n",
    "    ax1.set_xlim([amin, amax])\n",
    "    \n",
    "    # Put a title on the axis\n",
    "    ax1.set_title(regtype+' coef paths\\n', fontsize=20)\n",
    "    \n",
    "    # Get the ymin and ymax for this axis to enforce it to be the same on the \n",
    "    # second chart:\n",
    "    ymin, ymax = ax1.get_ylim()\n",
    "\n",
    "    # Add our second axes for the barplot in position 2:\n",
    "    ax2 = fig.add_subplot(122)\n",
    "    \n",
    "    # Position the bars according to their index from the feature names variable:\n",
    "    ax2.bar(range(1, len(feature_names)+1), coefs[-1], align='center', color=colors) #TODO\n",
    "    ax2.set_xticks(range(1, len(feature_names)+1))\n",
    "    \n",
    "    # Reset the ticks from numbers to acutally be the names:\n",
    "    ax2.set_xticklabels(feature_names, rotation=65, fontsize=12)\n",
    "    \n",
    "    # enforce limits and add titles, labels\n",
    "    ax2.set_ylim([ymin, ymax])\n",
    "    ax2.set_title(regtype+' predictor coefs\\n', fontsize=20)\n",
    "    ax2.set_xlabel('coefficients', fontsize=20)\n",
    "    ax2.set_ylabel('alpha', fontsize=20)\n",
    "    \n",
    "    plt.show()\n"
   ]
  },
  {
   "cell_type": "markdown",
   "metadata": {},
   "source": [
    "Load the ipython widgets so we can make this plotting function interactive!"
   ]
  },
  {
   "cell_type": "code",
   "execution_count": null,
   "metadata": {
    "scrolled": false
   },
   "outputs": [],
   "source": [
    "from ipywidgets import *\n",
    "from IPython.display import display"
   ]
  },
  {
   "cell_type": "markdown",
   "metadata": {},
   "source": [
    "The function and `interact` from ipywidgets lets me take some specified alphas that we have already calculated the coefficients for and plot them out."
   ]
  },
  {
   "cell_type": "code",
   "execution_count": null,
   "metadata": {},
   "outputs": [],
   "source": [
    "def lasso_plot_runner(alpha=0):\n",
    "    coef_plotter(l_alphas, l_coefs, Xoverfit.columns, alpha, regtype='lasso')\n",
    "\n",
    "interact(lasso_plot_runner, alpha=(0.01, 0.15, 0.0025))"
   ]
  },
  {
   "cell_type": "markdown",
   "metadata": {},
   "source": [
    "## Note on choosing a range of values for alpha:"
   ]
  },
  {
   "cell_type": "markdown",
   "metadata": {},
   "source": [
    "The range of possible values for lambda/alpha can go from zero to infinity. There's no clear cut answer for the best possible values, as they will depend on the number of features and their collinearity. \n",
    "\n",
    "In practice, try to start small and build it up. Which means that if you see your test metrics still improving at the right side of your range of values, then you might need to extend the range and search for bigger alphas."
   ]
  },
  {
   "cell_type": "markdown",
   "metadata": {},
   "source": [
    "<a id='model-performance'></a>\n",
    "\n",
    "## Model performance of Lasso on the overfit data\n",
    "\n",
    "---\n",
    "\n",
    "Let's check out how the penalties affect the performance of our models. On the basic wine dataset there won't be much benefit to using regularization. We can switch over to the overfit data instead to see if regularization helps us control overfitting."
   ]
  },
  {
   "cell_type": "code",
   "execution_count": null,
   "metadata": {},
   "outputs": [],
   "source": [
    "from sklearn.model_selection import cross_val_score\n",
    "from sklearn.linear_model import LinearRegression"
   ]
  },
  {
   "cell_type": "code",
   "execution_count": null,
   "metadata": {},
   "outputs": [],
   "source": [
    "def lasso_cv_rmse(X, y, l_alphas):\n",
    "    lasso_rmse = []\n",
    "\n",
    "    # initialize model\n",
    "    lasso = Lasso()\n",
    "    # iterate through Lasso alphas\n",
    "    for la in l_alphas:\n",
    "        \n",
    "        # set the current alpha to the model\n",
    "        lasso.set_params(alpha=la)\n",
    "        \n",
    "        # keep track of fold RMSE        \n",
    "        lasso_scores = cross_val_score(lasso, X, y, scoring=\"neg_mean_squared_error\")\n",
    "        lasso_rmse.append( np.sqrt(np.mean(-1 * lasso_scores)) )\n",
    "                    \n",
    "    # We can compared against a multiple linear regression without regularisation\n",
    "    linreg = LinearRegression()\n",
    "    \n",
    "    linreg_scores = cross_val_score(linreg, X, y, scoring=\"neg_mean_squared_error\")\n",
    "    linreg_rmse = np.sqrt(np.mean(-1 * linreg_scores))\n",
    "\n",
    "                                    \n",
    "    return lasso_rmse, linreg_rmse\n",
    "    \n",
    "# Get the lasso cross-validated RMSE for the overfitted and the simple dataset:\n",
    "lasso_rmse, linreg_rmse = lasso_cv_rmse(Xoverfit, yoverfit, l_alphas)\n",
    "lasso_rmse_simple, linreg_rmse_simple = lasso_cv_rmse(X, y, l_alphas)\n"
   ]
  },
  {
   "cell_type": "code",
   "execution_count": null,
   "metadata": {},
   "outputs": [],
   "source": [
    "print( \"Best Lasso score for the feature matrix with high collinearity: \" + str(min(lasso_rmse)))\n",
    "print( \"Best Linear Regression score for the feature matrix with high collinearity: \" + str(linreg_rmse))"
   ]
  },
  {
   "cell_type": "code",
   "execution_count": null,
   "metadata": {},
   "outputs": [],
   "source": [
    "print( \"Best Lasso score for the original (standarized) feature matrix: \" + str(min(lasso_rmse_simple)))\n",
    "print( \"Best Linear Regression score for the original (standarized) feature matrix: \" + str(linreg_rmse_simple))"
   ]
  },
  {
   "cell_type": "markdown",
   "metadata": {},
   "source": [
    "Below we have a new plotting function that will track the performance of the model as the alphas increase, as measured by the RMSE across cross-validation folds."
   ]
  },
  {
   "cell_type": "code",
   "execution_count": null,
   "metadata": {},
   "outputs": [],
   "source": [
    "def rmse_plotter(lasso_alphas, lasso_to_alpha, lasso_rmse, linreg_rmse_simple):\n",
    "    \n",
    "    lasso_amin = np.min(lasso_alphas)\n",
    "    lasso_amax = np.max(lasso_alphas)\n",
    "    \n",
    "    # Subet the models' alphas and rsqs according to the currently set\n",
    "    # alpha limits for each (passed in from the interactive sliders)\n",
    "    \n",
    "    lasso_alphas = [a for a in lasso_alphas if a <= lasso_to_alpha]\n",
    "    lasso_rmse = lasso_rmse[0:len(lasso_alphas)]\n",
    "    \n",
    "    # Get some unique colors out for the Ridge R2 line, Lasso R2 line,\n",
    "    # Enet R2, and the 'max R2 achieved' line.\n",
    "    colors = sns.xkcd_palette(['windows blue', 'amber', 'dark red', 'faded green'])\n",
    "\n",
    "    # We will again be plotting two axes on the same figure:\n",
    "    fig = plt.figure()\n",
    "    fig.set_size_inches(18,7)\n",
    "\n",
    "    # The first subplot axes is for the ridge\n",
    "    ax1 = fig.add_subplot(131)\n",
    "    \n",
    "    # Plot a vertical line indicating the current alpha selected\n",
    "    ax1.axvline(lasso_to_alpha, lw=2, ls='dashed', c='k', alpha=0.4)\n",
    "    \n",
    "    # Plot a horizontal line for the vanilla linear regression RMSE\n",
    "    ax1.axhline(linreg_rmse, lw=2, c=colors[2], alpha=0.8)\n",
    "    \n",
    "    # Plot the line tracking RMSE by alpha values\n",
    "    ax1.plot(lasso_alphas, lasso_rmse, lw=3, c=colors[0])\n",
    "    \n",
    "    # Add the axis labels\n",
    "    ax1.set_xlabel('lasso alpha', fontsize=20)\n",
    "    ax1.set_ylabel('lasso CV RMSE', fontsize=20)\n",
    "        \n",
    "    # Fix the axes in place\n",
    "    ax1.set_xlim([lasso_amin, lasso_amax])\n",
    "    ax1.set_ylim([-0.05, 1])\n",
    "    \n",
    "    # set the title for the axes;\n",
    "    ax1.set_title('lasso cross-val performance\\n', fontsize=20)\n",
    "    \n",
    "    plt.show()"
   ]
  },
  {
   "cell_type": "code",
   "execution_count": null,
   "metadata": {},
   "outputs": [],
   "source": [
    "# We have our new widget where you can change both the Ridge and Lasso alphas to see how they compare:\n",
    "def rmse_plot_pipe(la):\n",
    "    rmse_plotter(l_alphas, la, lasso_rmse_simple, linreg_rmse_simple)\n",
    "    \n",
    "w = widgets.interactive(rmse_plot_pipe, \n",
    "                        la=widgets.FloatSlider(value=0, min=0., max=0.2, step=0.0025, description='Lasso alpha:'),\n",
    ")\n",
    "\n",
    "display(w)"
   ]
  },
  {
   "cell_type": "code",
   "execution_count": null,
   "metadata": {},
   "outputs": [],
   "source": []
  }
 ],
 "metadata": {
  "kernelspec": {
   "display_name": "Python 3",
   "language": "python",
   "name": "python3"
  },
  "language_info": {
   "codemirror_mode": {
    "name": "ipython",
    "version": 3
   },
   "file_extension": ".py",
   "mimetype": "text/x-python",
   "name": "python",
   "nbconvert_exporter": "python",
   "pygments_lexer": "ipython3",
   "version": "3.6.4"
  },
  "widgets": {
   "state": {
    "03860d2d80204ca295d01e93e8e99474": {
     "views": [
      {
       "cell_index": 41
      }
     ]
    },
    "b535fb165fa343b297ba42fb4a55c6fa": {
     "views": [
      {
       "cell_index": 34
      }
     ]
    },
    "f5d5ef714eee4c61b085a3bb6b96cd73": {
     "views": [
      {
       "cell_index": 55
      }
     ]
    },
    "fdc5e91596ea49fa84bf4aed6d37b849": {
     "views": [
      {
       "cell_index": 47
      }
     ]
    }
   },
   "version": "1.2.0"
  }
 },
 "nbformat": 4,
 "nbformat_minor": 1
}
