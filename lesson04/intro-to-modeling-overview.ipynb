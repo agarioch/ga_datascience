{
 "cells": [
  {
   "cell_type": "code",
   "execution_count": 1,
   "metadata": {
    "collapsed": true,
    "slideshow": {
     "slide_type": "skip"
    }
   },
   "outputs": [],
   "source": [
    "import numpy as np\n",
    "import pandas as pd\n",
    "import matplotlib.pyplot as plt\n",
    "import seaborn as sns\n",
    "%matplotlib inline"
   ]
  },
  {
   "cell_type": "markdown",
   "metadata": {
    "slideshow": {
     "slide_type": "slide"
    }
   },
   "source": [
    "<img src=\"http://imgur.com/1ZcRyrc.png\" style=\"float: left; margin: 20px; height: 55px\">\n",
    "\n",
    "# Introduction to Modeling\n",
    "\n",
    "---\n",
    "\n",
    "<a id=\"learning-objectives\"></a>\n",
    "### Learning Objectives\n",
    "*After this lesson, you will be able to:*\n",
    "- Define the terms: modeling, prediction\n",
    "- Differentiate between different types of modeling tasks\n",
    "- Understand the best line of a set of data\n",
    "- Find the best fit line by hand"
   ]
  },
  {
   "cell_type": "markdown",
   "metadata": {},
   "source": [
    "### Lesson Guide\n",
    "- [What is a model?](#what-is-a-model)\n",
    "\t- [Key takeaways](#key-takeaways)\n",
    "- [Types of Models](#types-of-models)\n",
    "- [Example: Article Topics](#example-article-topics)\n",
    "\t- [Supervised Example](#supervised-example)\n",
    "\t- [Unsupervised Example](#unsupervised-example)\n",
    "- [Continous and Categorical Values](#continous-and-categorical-values)\n",
    "- [Exercise](#exercise)\n",
    "\t- [Movie theater example follow-up](#movie-theater-example-follow-up)\n",
    "- [Intro: Linear Relationships](#intro-linear-relationships)\n",
    "\t- [Newton's Second Law of Motion](#newtons-second-law-of-motion)\n",
    "\t- [Prediction](#prediction)\n",
    "- [Predictions Don't Have to Be Accurate to be Useful](#predictions-dont-have-to-be-accurate-to-be-useful)\n",
    "- [Linear Regression Exercise](#linear-regression-exercise)\n",
    "- [Simple Linear Regression](#simple-linear-regression)\n",
    "- [Estimating (\"learning\") model coefficients](#estimating-learning-model-coefficients)\n",
    "- [Intro to Seaborn](#intro-to-seaborn)\n",
    "- [Plotting relationships](#plotting-relationships)\n",
    "- [Independent Exercise](#independent-exercise)\n"
   ]
  },
  {
   "cell_type": "markdown",
   "metadata": {
    "slideshow": {
     "slide_type": "slide"
    }
   },
   "source": [
    "<a id=\"what-is-a-model\"></a>\n",
    "## What is a model?\n",
    "---\n",
    "\n",
    "> The generation of a physical, conceptual, or mathematical representation of a real phenomenon that is difficult to observe directly. Scientific models are used to explain and predict the behaviour of real objects or systems and are used in a variety of scientific disciplines, ranging from physics and chemistry to ecology and the Earth sciences. Although modeling is a central component of modern science, scientific models at best are approximations of the objects and systems that they represent—they are not exact replicas. -- Encyclopedia Britannica"
   ]
  },
  {
   "cell_type": "markdown",
   "metadata": {
    "slideshow": {
     "slide_type": "fragment"
    }
   },
   "source": [
    "<a id=\"key-takeaways\"></a>\n",
    "### Key takeaways\n",
    "\n",
    "- Models explain and predict (through quantifying relationships, i.e., they represent)\n",
    "- Models are approximations (i.e., they are not perfect representations)"
   ]
  },
  {
   "cell_type": "markdown",
   "metadata": {
    "slideshow": {
     "slide_type": "slide"
    }
   },
   "source": [
    "<a id=\"types-of-models\"></a>\n",
    "## Types of Models\n",
    "\n",
    "---\n",
    "\n",
    "- Supervised\n",
    "- Unsupervised\n",
    "\n",
    "| Model Type | Usage|\n",
    "| :-------------: |:-------------:|\n",
    "|Supervised Models | Making Predictions|\n",
    "|Unsupervised Models | Discovering Patterns|"
   ]
  },
  {
   "cell_type": "markdown",
   "metadata": {
    "slideshow": {
     "slide_type": "fragment"
    }
   },
   "source": [
    "\n",
    "| Model Type | Examples|\n",
    "| :-------------: |:-------------:|\n",
    "|Supervised Models | Labeled |\n",
    "|Unsupervised Models | Have No Labels|\n"
   ]
  },
  {
   "cell_type": "markdown",
   "metadata": {
    "slideshow": {
     "slide_type": "slide"
    }
   },
   "source": [
    "<a id=\"example-article-topics\"></a>\n",
    "## Example: Article Topics\n",
    "---\n",
    "\n",
    "\n",
    "<a id=\"supervised-example\"></a>\n",
    "### Supervised Example\n",
    "\n",
    "| Article Text | Topic|\n",
    "| :-------------: |:-------------:|\n",
    "|Building your own tiny home... |  DIY News|\n",
    "|iPhone sales have fallen... | Mobile Device News|\n",
    "|The Jets have continued... | Football News|\n",
    "\n",
    "> **In this case, we have an explicit label that we will be associating the words in each article with. In other words, we learn to represent certain words to a specific label. It is not required that those words actually appear in the article.**"
   ]
  },
  {
   "cell_type": "markdown",
   "metadata": {
    "slideshow": {
     "slide_type": "slide"
    }
   },
   "source": [
    "<a id=\"unsupervised-example\"></a>\n",
    "### Unsupervised Example\n",
    "\n",
    "| Article Text | Topic|\n",
    "| :-------------: |:-------------: \n",
    "|Building your own tiny home... |Cluster 1|\n",
    "|iPhone sales have fallen... |Cluster 2|\n",
    "|The Jets have continued... |Cluster 3|\n",
    "|Apple has just release a ...|Cluster 2|\n",
    "\n",
    "> **In the case of unsupervised topic learning, we have no explicit labels, we have to look at the text of each article and group it to similar articles. We can then find the words that are most salient for those similar articles and try to use them to find \"distances\" between articles**"
   ]
  },
  {
   "cell_type": "markdown",
   "metadata": {
    "slideshow": {
     "slide_type": "slide"
    }
   },
   "source": [
    "<a id=\"continous-and-categorical-values\"></a>\n",
    "## Continous and Categorical Values\n",
    "---\n",
    "\n",
    "\n",
    "|Type| Continous|Categorical|\n",
    "|:-------------: |:-------------: |:-------------: |\n",
    "|Colors|RGB Values (0-255) |{red, blue}|\n",
    "|Ratings|0-100|1 to 5 stars|\n",
    "|Animals|----|{cat, dog, elephant}|\n",
    "|Temperature|0 to infinity K|{cold, warm, ...}|"
   ]
  },
  {
   "cell_type": "markdown",
   "metadata": {
    "slideshow": {
     "slide_type": "slide"
    }
   },
   "source": [
    "<a id=\"exercise\"></a>\n",
    "## Exercises\n",
    "---\n",
    "\n",
    "1: Pair up and decide what type of problem (classification, regression or  clustering) each of these are.\n",
    "\n",
    "- Predicting the price of apartments based on their size and location from prior sales data\n",
    "- Predicting if a tumor is benign or malignant based on its characteristics\n",
    "- Finding groups of similar wines based on their ratings\n",
    "- Identifying the species of a fish in an image\n",
    "- Identifying groupings of customers based on their buying behavior \n",
    "\n"
   ]
  },
  {
   "cell_type": "markdown",
   "metadata": {
    "slideshow": {
     "slide_type": "slide"
    }
   },
   "source": [
    "<a id=\"movie-theater-example-follow-up\"></a>\n",
    "### Movie theater example follow-up\n",
    "2: **Pair up and consider the situation of the movie theather owner described below. Apart from the models mentioned below, what are some other things that it would be useful to model/predict for this person and her business? What types of models we discussed could be used?**\n",
    "\n",
    "\n",
    "For example, if you own a movie theatre, you need need to make sure you have enough\n",
    "staff on nights and weekends to handle the increased number of patrons. A model\n",
    "to **predict how many movie-goers will show up on a given night** will help you\n",
    "predict the amount of employees that you'll need -- enough to handle the customers\n",
    "but not too many so that you keep labor costs reasonable. Too few employees and\n",
    "you won't be able to serve all the customers; too many and you've spent too much\n",
    "on labor. The better the estimate the better your business runs, and even if\n",
    "the estimate is off a bit you are still more prepared than if you had no\n",
    "model at all.\n",
    "\n",
    "Similarly, other models might **predict**:\n",
    "- **How much** inventory to **stock**\n",
    "- **How much** a component or raw material will **cost** during **different times of year**\n",
    "- The **percentage of clients** that will show up in various **weather conditions** \n",
    "- and just about anything else\n",
    "\n",
    "With models we can make predictions.  Good predictions are extremely valuable for a wide variety of purposes."
   ]
  },
  {
   "cell_type": "markdown",
   "metadata": {
    "slideshow": {
     "slide_type": "slide"
    }
   },
   "source": [
    "<a id=\"intro-linear-relationships\"></a>\n",
    "## Intro: Linear Relationships\n",
    "---\n",
    "\n",
    "Linear relationships are ubiquitous in our lives and our data but we don't always know\n",
    "how two quantities are related. Linear regression is a way to determine the\n",
    "relationship from a set of data.\n",
    "\n",
    "* Models are relationships between quantities\n",
    "* Linear regression is a method to determine the coefficients of linear\n",
    "relationships\n",
    "\n",
    "![](http://www.comfsm.fm/~dleeling/statistics/relationships.gif)"
   ]
  },
  {
   "cell_type": "markdown",
   "metadata": {
    "slideshow": {
     "slide_type": "slide"
    }
   },
   "source": [
    "# Time/Direction Example\n",
    "---\n",
    "\n",
    "When we drive a constant speed in a single direction, what happens?"
   ]
  },
  {
   "cell_type": "markdown",
   "metadata": {
    "slideshow": {
     "slide_type": "fragment"
    }
   },
   "source": [
    "**When you drive at a constant speed `s` for `t` hours, the distance you travel is**\n",
    "\n",
    "<span style=\"font-size: 20pt;\">\n",
    "$$ \n",
    "d = st \n",
    "$$\n",
    "</span>\n"
   ]
  },
  {
   "cell_type": "markdown",
   "metadata": {
    "slideshow": {
     "slide_type": "-"
    }
   },
   "source": [
    "* The quantities of distance and time are in a **linear relationship**\n",
    "because the graph is a line with **slope (rate) `s`**.\n",
    "* This equation is a **model** between the **distance travelled** and the **time travelled**."
   ]
  },
  {
   "cell_type": "markdown",
   "metadata": {
    "slideshow": {
     "slide_type": "slide"
    }
   },
   "source": [
    "<a id=\"newtons-second-law-of-motion\"></a>\n",
    "### Newton's Second Law of Motion\n",
    "\n",
    "$$ F = ma $$\n",
    "\n",
    "- The sum of forces on an object is equal to the mass of the object times the acceleration\n",
    "- Again we see a linear relationship"
   ]
  },
  {
   "cell_type": "markdown",
   "metadata": {
    "slideshow": {
     "slide_type": "slide"
    }
   },
   "source": [
    "<a id=\"prediction\"></a>\n",
    "### Prediction\n",
    "\n",
    "**With a model we can make _predictions_.**\n",
    "\n",
    "If you are going 35 miles per hour for 2 hours, then I can predict that you will travel ?? miles.\n",
    "\n",
    "<br><br>\n",
    "\n",
    "<div style=\"font-size: 20pt;\">\n",
    "$$\n",
    "d=st\n",
    "$$\n",
    "</div>"
   ]
  },
  {
   "cell_type": "markdown",
   "metadata": {
    "slideshow": {
     "slide_type": "-"
    }
   },
   "source": [
    "<div style=\"font-size: 20pt;\">\n",
    "\n",
    "<center>distance = 35 miles * 2 hours</center>\n",
    "\n",
    "</div>"
   ]
  },
  {
   "cell_type": "markdown",
   "metadata": {
    "slideshow": {
     "slide_type": "-"
    }
   },
   "source": [
    "<div style=\"font-size: 20pt;\">\n",
    "<center>\n",
    "70 miles = 35 mph * 2 hours\n",
    "</center>\n",
    "</div>"
   ]
  },
  {
   "cell_type": "markdown",
   "metadata": {
    "slideshow": {
     "slide_type": "slide"
    }
   },
   "source": [
    "<a id=\"predictions-dont-have-to-be-accurate-to-be-useful\"></a>\n",
    "## Predictions Don't Have to Be Accurate to be Useful\n",
    "---\n",
    "\n",
    "> **\"All models are wrong but some are useful\" - George Box**\n",
    "\n",
    "In general our models are not so precise if the relationship between our quantities are not perfect, but we can still make a reasonable guess using our models.\n",
    "\n",
    "* They have to generalize well to be useful.\n",
    "* Real life data comes with lots of unexpected variation.\n",
    "* Nothing in life is 100% certain."
   ]
  },
  {
   "cell_type": "markdown",
   "metadata": {
    "slideshow": {
     "slide_type": "slide"
    }
   },
   "source": [
    "# Linear Regression By Eye\n",
    "---\n",
    "\n",
    "One way we can approximate a slope, is by drawing a line seperating a set of datapoints approximately, then calculating the intercept and slope using a simple equation:\n",
    "\n",
    "$$ y = mx + b $$\n",
    "\n",
    "The basic steps:\n",
    "\n",
    " - Draw a line that splits the data in half\n",
    " - Find the intercept \"b\"\n",
    " - Calculate the slope (the increase in y / increase in x)\n",
    "\n",
    "**Let's consider the points (0,1) and (2,2).**"
   ]
  },
  {
   "cell_type": "code",
   "execution_count": 2,
   "metadata": {
    "slideshow": {
     "slide_type": "-"
    }
   },
   "outputs": [
    {
     "data": {
      "image/png": "[encoded data removed]",
      "text/plain": [
       "<matplotlib.figure.Figure at 0x107a845c0>"
      ]
     },
     "metadata": {},
     "output_type": "display_data"
    }
   ],
   "source": [
    "# (x0, x1), (y0, y1)\n",
    "data = [[0,2], [1, 2]]\n",
    "\n",
    "plt.plot(data[0], data[1], \"k-\")\n",
    "plt.show()\n",
    "#plt.plot(data[0], data[1], \"o-\")"
   ]
  },
  {
   "cell_type": "markdown",
   "metadata": {
    "slideshow": {
     "slide_type": "slide"
    }
   },
   "source": [
    "We can find the slope by taking the difference of _x_ points / difference in _y_ points:\n",
    "\n",
    "$$ \\frac{y_0-y_1}{x_0-x_1} $$ \n",
    "\n",
    "With our points **[0,1] and [2,2]** respectively, we should have something that looks like this:\n",
    "\n",
    "$$ \\frac{1-2}{0-2} $$\n",
    "\n",
    "Our slope ends up being:\n",
    "\n",
    "$$ .5 $$\n",
    "\n",
    "Completing our equation _(intercept is 1, where the x crosses the y boundary)_:\n",
    "\n",
    "$$ y = .5x + 1 $$"
   ]
  },
  {
   "cell_type": "markdown",
   "metadata": {
    "slideshow": {
     "slide_type": "slide"
    }
   },
   "source": [
    "<a id=\"linear-regression-exercise\"></a>\n",
    "## Linear Regression Exercise\n",
    "---\n",
    "\n",
    "Using this dataset:\n",
    "[1, 2.5], [1.5, 3.5], [2, 3.0], [3, 3], [4, 5.2], [5, 4.5], [6, 5.9]\n",
    "\n",
    "- Find the line of best fit by eye on your desk or the whiteboard\n",
    "- We'll come together to compare results"
   ]
  },
  {
   "cell_type": "code",
   "execution_count": 3,
   "metadata": {
    "scrolled": false,
    "slideshow": {
     "slide_type": "slide"
    }
   },
   "outputs": [
    {
     "data": {
      "text/plain": [
       "<matplotlib.axes._subplots.AxesSubplot at 0x107a7afd0>"
      ]
     },
     "execution_count": 3,
     "metadata": {},
     "output_type": "execute_result"
    },
    {
     "data": {
      "image/png": "[encoded data removed]",
      "text/plain": [
       "<matplotlib.figure.Figure at 0x1019fe390>"
      ]
     },
     "metadata": {},
     "output_type": "display_data"
    }
   ],
   "source": [
    "sample_data = [[1,2.5], [1.5,3.5], [2,3.0], [3,3], [4, 5.2], [5, 4.5], [6, 5.9]]\n",
    "pd.DataFrame(sample_data).plot(kind=\"scatter\", x=0, y=1, figsize=(10, 5))"
   ]
  },
  {
   "cell_type": "markdown",
   "metadata": {
    "slideshow": {
     "slide_type": "slide"
    }
   },
   "source": [
    "<a id=\"simple-linear-regression\"></a>\n",
    "## Simple Linear Regression\n",
    "---\n",
    "\n",
    "Simple linear regression is an approach for predicting a **continuous response** using a **single feature**. It takes the following form:\n",
    "\n",
    "$y = \\beta_0 + \\beta_1x$\n",
    "\n",
    "- $y$ is the response\n",
    "- $x$ is the feature\n",
    "- $\\beta_0$ is the intercept\n",
    "- $\\beta_1$ is the coefficient for x\n",
    "\n",
    "$\\beta_0$ and $\\beta_1$ are called the **model coefficients**:\n",
    "\n",
    "- We must \"learn\" the values of these coefficients to create our model.\n",
    "- And once we've learned these coefficients, we can use the model to predict **something**.\n"
   ]
  },
  {
   "cell_type": "markdown",
   "metadata": {
    "slideshow": {
     "slide_type": "slide"
    }
   },
   "source": [
    "[Wikipedia](https://en.wikipedia.org/wiki/Simple_linear_regression) has a great explanation about how to get the best fit line from the least squares method.  \n",
    "\n",
    "_In other words, α (the y-intercept) and β (the slope)._\n",
    "\n",
    "![Best fit coefficients](https://upload.wikimedia.org/math/e/e/d/eed68731d1230938d457c576deee1bcf.png)\n",
    "\n",
    "Looks messy.  This is the fun part of statistics.  Generally, you don't want to calculate these by hand.  Fortunately, you likely never will."
   ]
  },
  {
   "cell_type": "markdown",
   "metadata": {
    "slideshow": {
     "slide_type": "slide"
    }
   },
   "source": [
    "<a id=\"estimating-learning-model-coefficients\"></a>\n",
    "## Estimating (\"learning\") model coefficients\n",
    "---\n",
    "\n",
    "- Coefficients are estimated during the model fitting process using the least squares criterion.\n",
    "- We find the line (mathematically) which minimizes the sum of squared residuals (or \"sum of squared errors\").\n",
    "\n",
    "![](https://snag.gy/9R57Or.jpg)\n",
    "\n",
    "_Residuals: The difference between the observed value of the dependent variable (y) and the predicted value (ŷ) is called the residual (e). Each data point has one residual._"
   ]
  },
  {
   "cell_type": "markdown",
   "metadata": {},
   "source": [
    "## Coming next... \n",
    "\n",
    "We have just go through the basic taxonomy of Data Science models (supervised vs unsupervised) and walk you through an example of how this works at the mathematical level (using Linear Regression). \n",
    "\n",
    "Next, we will start looking into the implementation of this models using python libraries."
   ]
  }
 ],
 "metadata": {
  "anaconda-cloud": {},
  "celltoolbar": "Slideshow",
  "kernelspec": {
   "display_name": "Python 3",
   "language": "python",
   "name": "python3"
  },
  "language_info": {
   "codemirror_mode": {
    "name": "ipython",
    "version": 3
   },
   "file_extension": ".py",
   "mimetype": "text/x-python",
   "name": "python",
   "nbconvert_exporter": "python",
   "pygments_lexer": "ipython3",
   "version": "3.6.4"
  }
 },
 "nbformat": 4,
 "nbformat_minor": 1
}
