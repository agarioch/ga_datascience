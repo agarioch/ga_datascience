{
 "cells": [
  {
   "cell_type": "markdown",
   "metadata": {},
   "source": [
    "<img src=\"http://imgur.com/1ZcRyrc.png\" style=\"float: left; margin: 20px; height: 55px\">\n",
    "\n",
    "# Intro to Spark\n",
    "\n",
    "---\n",
    "\n",
    "![](https://snag.gy/ieVW98.jpg)"
   ]
  },
  {
   "cell_type": "markdown",
   "metadata": {},
   "source": [
    "### Learning Objectives\n",
    "*After this lesson, you will be able to:*\n",
    "- Identify major data types used within Spark\n",
    "- Basic data munging\n",
    "- Work with SparkUI to evaluate \"jobs\"\n",
    "- Use Spark via python"
   ]
  },
  {
   "cell_type": "markdown",
   "metadata": {},
   "source": [
    "### Lesson Guide\n",
    "- [What is spark?](#intro)\n",
    "    - [Spark is a distributed framework for parallelized applications](#dist)\n",
    "    - [Spark is an API](#api)\n",
    "    - [Spark is machine learning](#ml)\n",
    "    - [Spark is a framework for building high volume stream processors](#stream)\n",
    "    - [Spark is a SQL interface](#sql)\n",
    "    - [Spark is parallel graph processing](#graph)\n",
    "- [Programming with Spark](#prog)\n",
    "- [Spark UI](#sparkui)\n",
    "- [Using Spark via Pyspark](#using)\n",
    "    - [Spark installation guide](#guide)\n",
    "    - [The spark context](#spark-context)\n",
    "- [RDDs vs DataFrames](#rdd)\n",
    "- [Transformations and Actions](#ta)\n",
    "    - [Common Spark transformations](#common-transformations)\n",
    "    - [Common Spark actions](#common-actions)\n",
    "- [Spark data types](#dtypes)\n",
    "    - [Resilient Distributed Dataset](#rdds)\n",
    "    - [DataFrames](#df)\n",
    "- [Common DataFrame operations and characteristics](#common-df)\n",
    "- [Some basic stats in Spark](#stats)\n",
    "- [Limiting results](#limiting)\n",
    "- [More DataFrame and Series operations](#more-ops)\n",
    "- [Activity: check out another dataset using Spark](#activity)\n",
    "- [Practical tips](#practical-tips)"
   ]
  },
  {
   "cell_type": "markdown",
   "metadata": {},
   "source": [
    "<a id='intro'></a>\n",
    "## What is Spark?\n",
    "---\n",
    "\n",
    "**How is it different and similar to:**\n",
    "\n",
    "- Hadoop\n",
    "- Map reduce\n",
    "- Random Forrests\n"
   ]
  },
  {
   "cell_type": "markdown",
   "metadata": {},
   "source": [
    "### What is this, \"Spark\" you speak of?\n",
    "![](https://snag.gy/4oxeiA.jpg)"
   ]
  },
  {
   "cell_type": "markdown",
   "metadata": {},
   "source": [
    "### Spark is many things.  \n",
    "\n",
    "- It's a set of tools for developing applications.  \n",
    "- It's parallel processing of applications, in a distributed environment.\n",
    "\n",
    "![](https://snag.gy/c9b1Kx.jpg)\n"
   ]
  },
  {
   "cell_type": "markdown",
   "metadata": {},
   "source": [
    "<a id='dist'></a>\n",
    "### Spark is a distributed computer framework for parallelized applications like _Hadoop_.\n",
    "\n",
    "_Spark can interact with Hadoop's HDFS to access large amounts of data using high volume, distributed I/O._\n",
    "\n",
    "![](https://snag.gy/s8gSlG.jpg)"
   ]
  },
  {
   "cell_type": "markdown",
   "metadata": {},
   "source": [
    "<a id='api'></a>\n",
    "### Spark is an API for handling large data tranformations like _Map Reduce_.\n",
    "\n",
    "_It is a data transformation and selection tool like **Pandas**.  You can develop transformations through an API that allows you to chain operations together in a modular fashion, similar to **Pandas**._\n",
    "\n",
    "![](https://snag.gy/9G4gJO.jpg)\n",
    "\n",
    "> However, Spark delivers the idea of data manipulation through the framework of **transformations** and **actions**.  These transformations and actions are performed in parallel, using many different worker nodes (which may be distributed on multiple machines).\n",
    "\n",
    "> Mapreduce is broken down into two main functions \"map\" and \"reduce\".  Spark on the other hand, operates through a set of operations determined through a **Directed Acyclic Graph** (or DAG for short)."
   ]
  },
  {
   "cell_type": "markdown",
   "metadata": {},
   "source": [
    "<a id='ml'></a>\n",
    "### Spark is machine learning like _Scikit Learn_.\n",
    "\n",
    "![](https://snag.gy/RnuX6h.jpg)\n",
    "\n",
    "_Spark provides an interface to MLib via Scala, Java, Python, and R.  The most common methods are provided such as regression, support vector machines, and random forrests, however, not all evaluation metrics are available in Python yet.  Spark is written in Scala, so features are prioritized to Scala first throughout the Spark ecosystem._\n",
    "\n",
    "> <i class=\"fa fa-question-circe\"></i> Anyone remember specific limitations? (You might not if you haven't done MLlib with Spark yet)"
   ]
  },
  {
   "cell_type": "markdown",
   "metadata": {},
   "source": [
    "<a id='stream'></a>\n",
    "### Spark is a framework for building high volume stream processors.\n",
    "![](https://snag.gy/RCikuU.jpg)\n",
    "\n",
    "With Spark streaming, it's possible to build a proccess that can respond to data in real-time, using any of Spark's features including Mlib, GraphX, or any kinds of transformations you could do within the Spark context.  The streaming capabilities of Spark core make it possible to prodice real-time applications such as ETL, analytics dashboards, data mining, or large scale aggregations.\n",
    "\n",
    "In short, you can create a \"streaming context\" that listens on a specific port, and tie to to any number of operations that can be programed with spark.\n",
    "\n",
    ">```python\n",
    "># Save this as a file called \"network_streaming.py\"\n",
    ">from pyspark import SparkContext\n",
    ">from pyspark.streaming import StreamingContext\n",
    ">\n",
    "># Create a local StreamingContext with two working thread and batch interval of 1 second\n",
    ">sc = SparkContext(\"local[2]\", \"NetworkWordCount\")\n",
    ">ssc = StreamingContext(sc, 1)\n",
    ">\n",
    "># Create a DStream that will connect to hostname:port, like localhost:9999\n",
    ">lines = ssc.socketTextStream(\"localhost\", 9999)\n",
    ">\n",
    "># Split each line into words\n",
    ">words = lines.flatMap(lambda line: line.split(\" \"))\n",
    ">\n",
    "># Count each word in each batch\n",
    ">pairs = words.map(lambda word: (word, 1))\n",
    ">wordCounts = pairs.reduceByKey(lambda x, y: x + y)\n",
    ">\n",
    "># Print the first ten elements of each RDD generated in this DStream to the console\n",
    ">wordCounts.pprint()\n",
    ">\n",
    ">ssc.start()             # Start the computation\n",
    ">ssc.awaitTermination()  # Wait for the computation to terminate\n",
    ">```\n",
    "\n",
    "Then you can have Spark run this stream using the unix utility called **netcat** to route your service once you run spark-submit.\n",
    "\n",
    ">```bash\n",
    ">$ nc -lk 9999\n",
    ">```\n",
    "\n",
    "Running spark-submit launches applications onto your Spark cluster.\n",
    "\n",
    ">```bash\n",
    ">./bin/spark-submit examples/src/main/python/streaming/network_wordcount.py localhost 9999\n",
    ">```"
   ]
  },
  {
   "cell_type": "markdown",
   "metadata": {},
   "source": [
    "<a id='sql'></a>\n",
    "### Spark is an SQL interface into dataframes like _Hive_.\n",
    "\n",
    "Spark isn't actually **Hive**, but it uses components from Hive.  However, you can use Spark dataframes easier to create temporary SQL views.\n",
    "\n",
    ">```python\n",
    "># Load a dataset as a Spark DataFrame\n",
    ">df = spark.read.csv(\"datasets/somedataset/hamburgers_eaten_per_hour.csv\")\n",
    ">df.createOrReplaceTempView(\"hamburgers\")\n",
    ">```\n",
    "\n",
    "\n",
    "\n",
    "Then viola, you can slice and dice your dataframe as SQL:\n",
    "\n",
    ">```python\n",
    ">spark.sql(\"SELECT * FROM hamburgers\").show()\n",
    ">\n",
    "># +------+---------+\n",
    "># | eaten|     name|\n",
    "># +------+---------+\n",
    "># |null  |     Jeff|\n",
    "># |  30  |   Kiefer|\n",
    "># |  19  |     Hang|\n",
    "># +------+---------+\n",
    ">```"
   ]
  },
  {
   "cell_type": "markdown",
   "metadata": {},
   "source": [
    "<a id='graph'></a>\n",
    "### Spark is also parallel graph processing.\n",
    "\n",
    "![](https://snag.gy/0KvrCw.jpg)\n",
    "\n",
    "Graph processing provides the ability to process data in terms of relationships.  The area of applications where traditional RDBMS systems fail to provide involve calculating relationships between entities that don't have a predetermined depth between sets.  \n",
    "\n",
    "Using graphs, you can represent irregular relationship shapes within data and apply functions recurvively and/or arbirarily on any depth of relationships.\n",
    "\n",
    "Both RDBMS and Graphs can be abused to equate features of the other but each have their strengths and tradeoffs depending on application.\n"
   ]
  },
  {
   "cell_type": "markdown",
   "metadata": {},
   "source": [
    "<a id='prog'></a>\n",
    "## Programming with Spark\n",
    "---\n",
    "\n",
    "Running applications build with Spark has a variety of options:\n",
    "\n",
    "- Pyspark\n",
    "- spark-submit\n",
    "\n",
    "### Pyspark\n",
    "Pyspark is a real-time interpreter for Spark for Python.  You can integrate operations with the Spark Python libraries in real-time.  This is a great way to prototype applications much in the same way we do with Jupyter notebook.  It's also possible to connect Pyspark to Jupyter.\n",
    "\n",
    "### Spark-submit\n",
    "Spark-submit, on the other hand, is a way to run a set of application instructions bundled in a single file. It's possible to write these in Python, Scala, or Java.  Typically, it's convienient to prototype a set of operations that you want performed on a dataset with Pyspark, debug them to a high level of quality, then run them with Spark-submit.\n",
    "\n",
    "> With spark-submit, it's also possible to tune the paramters in which your application will run to a very granular degree including memory, number of total cores, and specific cluster modes to control test vs production deployments.\n",
    ">\n",
    "> [Read more about submitting applications](http://spark.apache.org/docs/latest/submitting-applications.html)."
   ]
  },
  {
   "cell_type": "markdown",
   "metadata": {},
   "source": [
    "<a id='sparkui'></a>\n",
    "## Spark UI\n",
    "---\n",
    "\n",
    "Anytime a \"spark context\" is created, a cooresponding spark UI is launched.  Whenever you launch a Spark standalone instance, Pyspark, a Spark UI will be created.  Through the web UI, you can monitor how your applications run.  Anything that the Spark context handles, even the one line operations from PySpark can be observed as seperate jobs in Spark UI.\n",
    "\n",
    "Check: http://localhost:4040/jobs/\n",
    "\n",
    "### Spark Jobs\n",
    "![](https://snag.gy/JnuSKC.jpg)\n",
    "\n",
    "### Job Metrics\n",
    "![](https://snag.gy/JW2fOb.jpg)"
   ]
  },
  {
   "cell_type": "markdown",
   "metadata": {},
   "source": [
    "<a id='using'></a>\n",
    "## Using Spark via Pyspark\n",
    "---\n",
    "\n",
    "If you haven't done so yet, it's nice to be able to install Spark manually so you can get familliar with how to use it locally.  The advantage of this, as apposed to using a virtual machine, is that you should be able to run Spark without the overhead of an additional virtual operating system running on top of your already \"actual\" operating system.\n",
    "\n",
    "<a id='guide'></a>\n",
    "### Spark installation guide\n",
    "> This is a good time to review or install Spark from our guide:\n",
    ">\n",
    ">Make sure you have scala 2.11 (scala on bash, tells you version, you can quit with :quit).\n",
    "http://spark.apache.org/docs/2.1.0/ (installation instructions)\n",
    ">\n",
    ">Run to check you can access the shell: \n",
    ">./bin/spark-shell —master local[2]\n",
    ">\n",
    ">To omit the INFO logs, change conf log4j file from INFO to error and then cp to a file >without the .template\n",
    ">Pip install findspark so we can easily point to our pyspark installation"
   ]
  },
  {
   "cell_type": "markdown",
   "metadata": {},
   "source": [
    "<a id='spark-context'></a>\n",
    "### Pyspark is all about \"sc\""
   ]
  },
  {
   "cell_type": "code",
   "execution_count": 1,
   "metadata": {
    "collapsed": true
   },
   "outputs": [],
   "source": [
    "# sc"
   ]
  },
  {
   "cell_type": "markdown",
   "metadata": {},
   "source": [
    "**\"sc\"** represents your interface to a running spark cluster manager.  A Spark context is defined as a preconfigured cluster, an application name connected to it.  All **transformations** and **actions** performed by Spark, are handled through the Spark context (aka: **sc**).\n",
    "\n",
    ">**Context for standalone Spark apps**\n",
    ">\n",
    ">If we where to write a standalone app for spark-submit, we would need to create the context manually.\n",
    "\n",
    ">```python\n",
    ">from pyspark import SparkContext\n",
    ">sc = SparkContext(\"local\", \"Simple App\")\n",
    ">```\n",
    "\n",
    "<img src=\"https://snag.gy/iCm4G1.jpg\" width=\"600\">"
   ]
  },
  {
   "cell_type": "markdown",
   "metadata": {},
   "source": [
    "<a id='rdd'></a>\n",
    "## RDDs vs DataFrames\n",
    "\n",
    "---\n",
    "\n",
    "The two main types of data objects in Spark are the **Resilient Distributed Dataset** and the **DataFrame**.  Both types represent data in a distributed state.  RDDs store data in a more primitive state such as a list of pairs, integers, floats, or strings.  DataFrames have a rich structure defintion called a **schema** much like a Pandas dataframe.\n",
    "\n",
    "- You use **RDDs** to manage semi-structured data.\n",
    "- You use **DataFrames** to operate on typed series.\n",
    "\n",
    "Both RDDs and DataFrames can contain multiple types of objects.  **DataFrames** are much more constrained because data is represented by a 2 deminsional tabular structure where columns represent variables, and rows as observations.  **RDDs** are much more flexible if your data requires much less structure than a DataFrame while still being able to use _transformation_ methods such as **`map()`** and _action_ methods such as **`reduce()`**.\n",
    "\n",
    ">_Distributed Data in Spark_\n",
    ">![](https://snag.gy/vxVhri.jpg)"
   ]
  },
  {
   "cell_type": "markdown",
   "metadata": {},
   "source": [
    "<a id='ta'></a>\n",
    "\n",
    "## _Transformations_ and _Actions_\n",
    "\n",
    "---\n",
    "\n",
    "<a id='common-transformations'></a>\n",
    "### <i class=\"fa fa-cogs\" aria-hidden=\"true\"></i> Common Spark transformations\n",
    "\n",
    "\n",
    "Generally, **transformations** in Spark, modify data as new copies of whichever dataset that is used as input.  An analogy you will find the default docs talking about is _map_ as a **transformation**, and _reduce_ as an **action**.  **Transformations are lazy**, so no computations are performed until an **action** is requested.\n",
    "\n",
    "<style>\n",
    ".no-border:table, th, td {\n",
    "    border: none;\n",
    "    border-left: none;\n",
    "    margin: 10px;\n",
    "}\n",
    "</style>\n",
    "\n",
    "<table class=\"no-border\" style=\"border: none;\">\n",
    "<tbody class=\"no-border\" style=\"border: none;\"><tr class=\"no-border\" style=\" background: #000000; color: #FFFFFF;\"><th>Transformation</th><th style=\"border: none; text-align: center;\">Meaning</th></tr>\n",
    "<tr style=\"border-left: none; border-right: none;\">\n",
    "  <td style=\"border: none;\"> <b>map</b>(<i>func</i>) </td>\n",
    "  <td stye=\"border-right: none;\"> Return a new distributed dataset formed by passing each element of the source through a function <i>func</i>. </td>\n",
    "</tr>\n",
    "<tr style=\"border-left: none; border-right: none;\">\n",
    "  <td style=\"border-left: none;\"> <b>filter</b>(<i>func</i>) </td>\n",
    "  <td style=\"border-right: none;\"> Return a new dataset formed by selecting those elements of the source on which <i>func</i> returns true. </td>\n",
    "</tr>\n",
    "<tr style=\"border-left: none; border-right: none;\">\n",
    "  <td style=\"border-left: none;\"> <b>sample</b>(<i>withReplacement</i>, <i>fraction</i>, <i>seed</i>) </td>\n",
    "  <td style=\"border-right: none;\"> Sample a fraction <i>fraction</i> of the data, with or without replacement, using a given random number generator seed. </td>\n",
    "</tr>\n",
    "<tr style=\"border-left: none; border-right: none;\">\n",
    "  <td style=\"border-left: none;\"> <b>distinct</b>([<i>numTasks</i>])) </td>\n",
    "  <td style=\"border-right: none;\"> Return a new dataset that contains the distinct elements of the source dataset.</td>\n",
    "</tr>\n",
    "<tr style=\"border-left: none; border-right: none;\">\n",
    "  <td style=\"border-left: none;\"> <b>groupByKey</b>([<i>numTasks</i>]) <a name=\"GroupByLink\"></a> </td>\n",
    "  <td style=\"border-right: none;\"> When called on a dataset of (K, V) pairs, returns a dataset of (K, Iterable&lt;V&gt;) pairs. <br>\n",
    "    <b>Note:</b> If you are grouping in order to perform an aggregation (such as a sum or\n",
    "      average) over each key, using <code>reduceByKey</code> or <code>aggregateByKey</code> will yield much better\n",
    "      performance.\n",
    "    <br>\n",
    "    <b>Note:</b> By default, the level of parallelism in the output depends on the number of partitions of the parent RDD.\n",
    "      You can pass an optional <code>numTasks</code> argument to set a different number of tasks.\n",
    "  </td>\n",
    "</tr>\n",
    "<tr style=\"border-left: none; border-right: none;\">\n",
    "  <td style=\"border-left: none;\"> <b>reduceByKey</b>(<i>func</i>, [<i>numTasks</i>]) <a name=\"ReduceByLink\"></a> </td>\n",
    "  <td style=\"border-right: none;\"> When called on a dataset of (K, V) pairs, returns a dataset of (K, V) pairs where the values for each key are aggregated using the given reduce function <i>func</i>, which must be of type (V,V) =&gt; V. Like in <code>groupByKey</code>, the number of reduce tasks is configurable through an optional second argument. </td>\n",
    "</tr>\n",
    "<tr style=\"border-left: none; border-right: none;\">\n",
    "  <td style=\"border-left: none;\"> <b>aggregateByKey</b>(<i>zeroValue</i>)(<i>seqOp</i>, <i>combOp</i>, [<i>numTasks</i>]) <a name=\"AggregateByLink\"></a> </td>\n",
    "  <td style=\"border-right: none;\"> When called on a dataset of (K, V) pairs, returns a dataset of (K, U) pairs where the values for each key are aggregated using the given combine functions and a neutral \"zero\" value. Allows an aggregated value type that is different than the input value type, while avoiding unnecessary allocations. Like in <code>groupByKey</code>, the number of reduce tasks is configurable through an optional second argument. </td>\n",
    "</tr>\n",
    "<tr style=\"border-left: none; border-right: none;\">\n",
    "  <td style=\"border-left: none;\"> <b>sortByKey</b>([<i>ascending</i>], [<i>numTasks</i>]) <a name=\"SortByLink\"></a> </td>\n",
    "  <td style=\"border-right: none;\"> When called on a dataset of (K, V) pairs where K implements Ordered, returns a dataset of (K, V) pairs sorted by keys in ascending or descending order, as specified in the boolean <code>ascending</code> argument.</td>\n",
    "</tr>\n",
    "<tr style=\"border-left: none; border-right: none;\">\n",
    "  <td style=\"border-left: none;\"> <b>join</b>(<i>otherDataset</i>, [<i>numTasks</i>]) <a name=\"JoinLink\"></a> </td>\n",
    "  <td style=\"border-right: none;\"> When called on datasets of type (K, V) and (K, W), returns a dataset of (K, (V, W)) pairs with all pairs of elements for each key.\n",
    "    Outer joins are supported through <code>leftOuterJoin</code>, <code>rightOuterJoin</code>, and <code>fullOuterJoin</code>.\n",
    "  </td>\n",
    "</tr>\n",
    "<tr style=\"border-left: none; border-right: none;\">\n",
    "  <td style=\"border-left: none;\"> <b>pipe</b>(<i>command</i>, <i>[envVars]</i>) </td>\n",
    "  <td style=\"border-right: none;\"> Pipe each partition of the RDD through a shell command, e.g. a Perl or bash script. RDD elements are written to the\n",
    "    process's stdin and lines output to its stdout are returned as an RDD of strings. </td>\n",
    "</tr>\n",
    "</tbody></table>\n",
    "\n",
    "> <i class=\"fa fa-info-circle\" aria-hidden=\"true\"></i> For more info on **transformations**, check out the [<i class=\"fa fa-external-link\" aria-hidden=\"true\"></i> Spark programming guide on #trasformations](http://spark.apache.org/docs/latest/programming-guide.html#transformations)\n",
    "\n",
    "> A great visual guide for common Spark transformations is available by [<i class=\"fa fa-external-link\" aria-hidden=\"true\"></i> Jeff Thompson @ Databricks](http://training.databricks.com/visualapi.pdf)\n",
    "\n",
    "\n"
   ]
  },
  {
   "cell_type": "markdown",
   "metadata": {},
   "source": [
    "<a id='common-actions'></a>\n",
    "### <i class=\"fa fa-wrench\" aria-hidden=\"true\"></i> Common Spark Actions\n",
    "\n",
    "Spark **actions** are not performed until they are called (like a function) -- common sense right?  Careful, because in _Pandas_ we're accustomed to getting results as a result of most transformations performed.  So, if we have a few operations programmed out, nothing will actually be transformed until we call an **action**.\n",
    "\n",
    "```python\n",
    "# 1. Read text file\n",
    "#########\n",
    "# This line reads a text file from the filesystem.  Each line becomes an element in a list-like object (RDD).\n",
    "# No operations have been done as of yet.  We don't know if the text file actually exists or read any data.\n",
    "#############################################################################################################\n",
    "\n",
    "text_lines = sc.textFile(\"somefile.txt\")\n",
    "\n",
    "# 2. Map lengths of each line\n",
    "#########\n",
    "# Once data is available, we simply count the length of lines (length of string), and create a new RDD \n",
    "# which only has the length of each line as a new object.\n",
    "#############################################################################################################\n",
    "\n",
    "text_line_lengths = text_lines.map(lambda s: len(s))\n",
    "\n",
    "# 3. Reduce to find total sum of lengths\n",
    "#########\n",
    "# Once reduce is called, all prior operations are run.  Meaning, we actually sc.textFile(), \n",
    "# and text_lines.Map(), before finally text_line_lengths.reduce() is ran.\n",
    "#############################################################################################################\n",
    "\n",
    "total_length = text_line_lengths.reduce(lambda a, b: a + b)\n",
    "```"
   ]
  },
  {
   "cell_type": "markdown",
   "metadata": {},
   "source": [
    "<table class=\"table\" style=\"border-left: none; border-right: none;\">\n",
    "<tbody style=\"border-left: none;\"><tr style=\"background: black; color: white;\"><th>Action</th><th style=\"text-align: center;\">Meaning</th></tr>\n",
    "<tr style=\"border-left: none; border-right: none;\">\n",
    "  <td style=\"border-left: none;\"> <b>reduce</b>(<i>func</i>) </td>\n",
    "  <td style=\"border-right: none;\"> Aggregate the elements of the dataset using a function <i>func</i> (which takes two arguments and returns one). The function should be commutative and associative so that it can be computed correctly in parallel. </td>\n",
    "</tr>\n",
    "<tr style=\"border-left: none; border-right: none;\">\n",
    "  <td style=\"border-left: none;\"> <b>collect</b>() </td>\n",
    "  <td style=\"border-right: none;\"> Return all the elements of the dataset as an array at the driver program. This is usually useful after a filter or other operation that returns a sufficiently small subset of the data. </td>\n",
    "</tr>\n",
    "<tr style=\"border-left: none; border-right: none;\">\n",
    "  <td style=\"border-left: none;\"> <b>count</b>() </td>\n",
    "  <td style=\"border-right: none;\"> Return the number of elements in the dataset. </td>\n",
    "</tr>\n",
    "<tr style=\"border-left: none; border-right: none;\">\n",
    "  <td style=\"border-left: none;\"> <b>first</b>() </td>\n",
    "  <td style=\"border-right: none;\"> Return the first element of the dataset (similar to take(1)). </td>\n",
    "</tr>\n",
    "<tr style=\"border-left: none; border-right: none;\">\n",
    "  <td style=\"border-left: none;\"> <b>take</b>(<i>n</i>) </td>\n",
    "  <td style=\"border-right: none;\"> Return an array with the first <i>n</i> elements of the dataset. </td>\n",
    "</tr>\n",
    "<tr style=\"border-left: none; border-right: none;\">\n",
    "  <td style=\"border-left: none;\"> <b>takeSample</b>(<i>withReplacement</i>, <i>num</i>, [<i>seed</i>]) </td>\n",
    "  <td style=\"border-right: none;\"> Return an array with a random sample of <i>num</i> elements of the dataset, with or without replacement, optionally pre-specifying a random number generator seed.</td>\n",
    "</tr>\n",
    "<tr style=\"border-left: none; border-right: none;\">\n",
    "  <td style=\"border-left: none;\"> <b>takeOrdered</b>(<i>n</i>, <i>[ordering]</i>) </td>\n",
    "  <td style=\"border-right: none;\"> Return the first <i>n</i> elements of the RDD using either their natural order or a custom comparator. </td>\n",
    "</tr>\n",
    "<tr style=\"border-left: none; border-right: none;\">\n",
    "  <td style=\"border-left: none;\"> <b>saveAsTextFile</b>(<i>path</i>) </td>\n",
    "  <td style=\"border-right: none; border-right: none;\"> Write the elements of the dataset as a text file (or set of text files) in a given directory in the local filesystem, HDFS or any other Hadoop-supported file system. Spark will call toString on each element to convert it to a line of text in the file. </td>\n",
    "</tr>\n",
    "<tr style=\"border-left: none; border-right: none;\">\n",
    "  <td style=\"border-left: none;\"> <b>countByKey</b>() <a name=\"CountByLink\"></a> </td>\n",
    "  <td style=\"border-right: none;\"> Only available on RDDs of type (K, V). Returns a hashmap of (K, Int) pairs with the count of each key. </td>\n",
    "</tr>\n",
    "<tr style=\"border-left: none; border-right: none;\">\n",
    "  <td style=\"border-left: none;\"> <b>foreach</b>(<i>func</i>) </td>\n",
    "  <td style=\"border-right: none;\"> Run a function <i>func</i> on each element of the dataset. This is usually done for side effects such as updating an <a href=\"#accumulators\">Accumulator</a> or interacting with external storage systems.\n",
    "  <br><b>Note</b>: modifying variables other than Accumulators outside of the <code>foreach()</code> may result in undefined behavior. See <a href=\"#understanding-closures-a-nameclosureslinka\">Understanding closures </a> for more details.</td>\n",
    "</tr>\n",
    "</tbody></table>\n",
    "\n",
    "> <i class=\"fa fa-info-circle\" aria-hidden=\"true\"></i> For more info on **actions**, check out the [<i class=\"fa fa-external-link\" aria-hidden=\"true\"></i> Spark programming guide on #actions](http://spark.apache.org/docs/latest/programming-guide.html#actions)"
   ]
  },
  {
   "cell_type": "markdown",
   "metadata": {
    "collapsed": true
   },
   "source": [
    "# <i class=\"fa fa-question-circle\" aria-hidden=\"true\"></i>  How might you approach programming with Spark vs Pandas?\n",
    "\n",
    "_Given that operations are \"lazy\"?_"
   ]
  },
  {
   "cell_type": "markdown",
   "metadata": {},
   "source": [
    "<a id='dtypes'></a>\n",
    "## Spark data types\n",
    "---\n",
    "\n",
    "### RDD's\n",
    "\n",
    "It's best to think of RDDs as primitive objects that are distributed.  RDDs can contain any type of Python, Java, or Scala objects, including user-defined classes.  The RDD type is the oldest type and has been around the Spark codebase since the version 1.0 days.\n",
    "\n",
    "> Neat trick:  Since RDDs can be Python class types, it's possible to do things like run scikit-learn's `GridSearch` over an existing scikit model and paramter search over a massage amount of permutations in a clustered Spark setup.\n",
    "\n",
    "### DataFrames\n",
    "\n",
    "As part of the \"Tungsten Initiative\", which sought to improve the performance of Spark, DataFrames entered the Spark codebase in version 1.3.  The big difference between RDD's and DataFrames, is that DataFrames introduce the idea of a \"schema\" much like Pandas.  "
   ]
  },
  {
   "cell_type": "markdown",
   "metadata": {},
   "source": [
    "<a id='rdds'></a>\n",
    "<span style=\"font-size: 25pt; font-weight: light;\"><strong>R</strong>eslient <strong>D</strong>istributed <strong>D</strong>ataset</span>\n",
    "<hr>\n",
    "\n",
    "\n",
    "Everything in Spark revolves around the **RDD**.\n",
    "\n",
    "> \"..a fault-tolerant collection of elements that can be operated on in parallel...\"\n",
    "> _-Spark Documentation_\n",
    "\n",
    "Most datasets that can be loaded externally (csv, HDFS/hadoop, text files, RDBMS/SQL, etc), become an RDD and thus operated on in parallel within a distruted system (Spark!).  Otherwise, you can `sc.parallelize(my_data)` a dataset through a Spark context (aka a driver program as it's sometimes called)."
   ]
  },
  {
   "cell_type": "code",
   "execution_count": 2,
   "metadata": {
    "collapsed": true
   },
   "outputs": [],
   "source": [
    "# TBD:  More examples with RDD's.. we will have more fun with DataFrames for now since they are more relatable\n",
    "# RDD's are great for custom jobs and operations that require a more open format."
   ]
  },
  {
   "cell_type": "markdown",
   "metadata": {},
   "source": [
    "> Check out this Gridsearch with Spark package on [<i class=\"fa fa-external-link\" aria-hidden=\"true\"></i> Github: spark-sklearn](https://github.com/databricks/spark-sklearn)"
   ]
  },
  {
   "cell_type": "markdown",
   "metadata": {},
   "source": [
    "<a id='df'></a>\n",
    "### DataFrames\n",
    "\n",
    "The big plus is that Spark DataFrames serializes its data at a lower level to native Java/Scala, so when it's passed between nodes, it's much more performant, requiring fewer processes to handle computations.  Mainly data can be processed faster when it's optimized to a common format [the schema] that Spark doesn't have to convert to in order to perform tasks on it.\n",
    "\n",
    "Outside of the performance optimizations introduced with a schema-based datastructure, the **DataFrame API** provides a convienient set of selectors for transforming data, much like Pandas.  Lastly, it's possible to create temporary views in which **DataFrames** can be queried with SQL - **SparkSQL**."
   ]
  },
  {
   "cell_type": "code",
   "execution_count": 3,
   "metadata": {},
   "outputs": [],
   "source": [
    "import findspark\n",
    "findspark.init(\"/Users/cave/spark-2.3.0-bin-hadoop2.7\")\n",
    "\n",
    "import pyspark\n",
    "sc = pyspark.SparkContext(\"local\", appName=\"myAppNameSolution\")\n",
    "spark = pyspark.sql.SparkSession(sc)"
   ]
  },
  {
   "cell_type": "code",
   "execution_count": 4,
   "metadata": {},
   "outputs": [],
   "source": [
    "df = spark.read.csv(\n",
    "    path        =   \"datasets/sentiment_words_simple.csv\",\n",
    "    header      =   True, \n",
    "    mode        =   \"DROPMALFORMED\",   # Poorly formed rows in CSV are dropped rather than erroring entire operation\n",
    "    inferSchema =   True               # Not always perfect but works well in most cases as of 2.1+\n",
    ")"
   ]
  },
  {
   "cell_type": "code",
   "execution_count": 5,
   "metadata": {},
   "outputs": [
    {
     "name": "stdout",
     "output_type": "stream",
     "text": [
      "root\n",
      " |-- pos: string (nullable = true)\n",
      " |-- word: string (nullable = true)\n",
      " |-- pos_score: double (nullable = true)\n",
      " |-- neg_score: double (nullable = true)\n",
      "\n"
     ]
    }
   ],
   "source": [
    "df.printSchema()"
   ]
  },
  {
   "cell_type": "markdown",
   "metadata": {},
   "source": [
    "<a id='common-df'></a>\n",
    "## Common DataFrame operations and characteristics\n",
    "---\n",
    "\n",
    "Let's have a look at some familliar and new functions and properties."
   ]
  },
  {
   "cell_type": "markdown",
   "metadata": {},
   "source": [
    "### Inspect variable / column space of a DataFrame"
   ]
  },
  {
   "cell_type": "code",
   "execution_count": 6,
   "metadata": {},
   "outputs": [
    {
     "data": {
      "text/plain": [
       "['pos', 'word', 'pos_score', 'neg_score']"
      ]
     },
     "execution_count": 6,
     "metadata": {},
     "output_type": "execute_result"
    }
   ],
   "source": [
    "df.columns"
   ]
  },
  {
   "cell_type": "markdown",
   "metadata": {},
   "source": [
    "### DTypes\n",
    "Inspect schema programatically."
   ]
  },
  {
   "cell_type": "code",
   "execution_count": 7,
   "metadata": {},
   "outputs": [
    {
     "data": {
      "text/plain": [
       "[('pos', 'string'),\n",
       " ('word', 'string'),\n",
       " ('pos_score', 'double'),\n",
       " ('neg_score', 'double')]"
      ]
     },
     "execution_count": 7,
     "metadata": {},
     "output_type": "execute_result"
    }
   ],
   "source": [
    "df.dtypes"
   ]
  },
  {
   "cell_type": "markdown",
   "metadata": {},
   "source": [
    "### Explain DataFrame\n",
    "Show details about DataFrame type, schema, and origin of data."
   ]
  },
  {
   "cell_type": "code",
   "execution_count": 8,
   "metadata": {},
   "outputs": [
    {
     "name": "stdout",
     "output_type": "stream",
     "text": [
      "== Physical Plan ==\n",
      "*FileScan csv [pos#0,word#1,pos_score#2,neg_score#3] Batched: false, Format: CSV, Location: InMemoryFileIndex[file:/Users/juan/project/work/general_assembly/DSI-LDN-3/resource-datasets/sent..., PartitionFilters: [], PushedFilters: [], ReadSchema: struct<pos:string,word:string,pos_score:double,neg_score:double>\n"
     ]
    }
   ],
   "source": [
    "df.explain()"
   ]
  },
  {
   "cell_type": "markdown",
   "metadata": {},
   "source": [
    "### Describe\n",
    "Describe will look similar to synonymous Pandas **Describe** function"
   ]
  },
  {
   "cell_type": "code",
   "execution_count": 9,
   "metadata": {},
   "outputs": [
    {
     "name": "stdout",
     "output_type": "stream",
     "text": [
      "+-------+------+--------------------+-------------------+-------------------+\n",
      "|summary|   pos|                word|          pos_score|          neg_score|\n",
      "+-------+------+--------------------+-------------------+-------------------+\n",
      "|  count|155287|              155287|             155287|             155287|\n",
      "|   mean|  null| 5.687506389495568E9|0.03865380738372139|0.05048873043068892|\n",
      "| stddev|  null|7.537744261701462E10|0.11118246263109259| 0.1392276319041252|\n",
      "|    min|   adj|               'hood|                0.0|                0.0|\n",
      "|    max|  verb|              zyrian|                1.0|                1.0|\n",
      "+-------+------+--------------------+-------------------+-------------------+\n",
      "\n"
     ]
    }
   ],
   "source": [
    "df.describe().show()"
   ]
  },
  {
   "cell_type": "code",
   "execution_count": 10,
   "metadata": {},
   "outputs": [
    {
     "data": {
      "text/html": [
       "<div>\n",
       "<style>\n",
       "    .dataframe thead tr:only-child th {\n",
       "        text-align: right;\n",
       "    }\n",
       "\n",
       "    .dataframe thead th {\n",
       "        text-align: left;\n",
       "    }\n",
       "\n",
       "    .dataframe tbody tr th {\n",
       "        vertical-align: top;\n",
       "    }\n",
       "</style>\n",
       "<table border=\"1\" class=\"dataframe\">\n",
       "  <thead>\n",
       "    <tr style=\"text-align: right;\">\n",
       "      <th></th>\n",
       "      <th>pos_score</th>\n",
       "      <th>neg_score</th>\n",
       "    </tr>\n",
       "  </thead>\n",
       "  <tbody>\n",
       "    <tr>\n",
       "      <th>count</th>\n",
       "      <td>155287.000000</td>\n",
       "      <td>155287.000000</td>\n",
       "    </tr>\n",
       "    <tr>\n",
       "      <th>mean</th>\n",
       "      <td>0.038654</td>\n",
       "      <td>0.050489</td>\n",
       "    </tr>\n",
       "    <tr>\n",
       "      <th>std</th>\n",
       "      <td>0.111182</td>\n",
       "      <td>0.139228</td>\n",
       "    </tr>\n",
       "    <tr>\n",
       "      <th>min</th>\n",
       "      <td>0.000000</td>\n",
       "      <td>0.000000</td>\n",
       "    </tr>\n",
       "    <tr>\n",
       "      <th>25%</th>\n",
       "      <td>0.000000</td>\n",
       "      <td>0.000000</td>\n",
       "    </tr>\n",
       "    <tr>\n",
       "      <th>50%</th>\n",
       "      <td>0.000000</td>\n",
       "      <td>0.000000</td>\n",
       "    </tr>\n",
       "    <tr>\n",
       "      <th>75%</th>\n",
       "      <td>0.000000</td>\n",
       "      <td>0.000000</td>\n",
       "    </tr>\n",
       "    <tr>\n",
       "      <th>max</th>\n",
       "      <td>1.000000</td>\n",
       "      <td>1.000000</td>\n",
       "    </tr>\n",
       "  </tbody>\n",
       "</table>\n",
       "</div>"
      ],
      "text/plain": [
       "           pos_score      neg_score\n",
       "count  155287.000000  155287.000000\n",
       "mean        0.038654       0.050489\n",
       "std         0.111182       0.139228\n",
       "min         0.000000       0.000000\n",
       "25%         0.000000       0.000000\n",
       "50%         0.000000       0.000000\n",
       "75%         0.000000       0.000000\n",
       "max         1.000000       1.000000"
      ]
     },
     "execution_count": 10,
     "metadata": {},
     "output_type": "execute_result"
    }
   ],
   "source": [
    "## Check Pandas version here!!!\n",
    "df.toPandas().describe()"
   ]
  },
  {
   "cell_type": "markdown",
   "metadata": {},
   "source": [
    "### printSchema\n",
    "The schema is a very import characteristic of a Spark DataFrame.  It tells us what's possible in terms of transformation.  Also, it's the reason DataFrames are so fast since they are typed to a set number of types that are serialized and optimized in Java/Scala behind the scenes.\n",
    "\n",
    "><i class=\"fa fa-exclamation-triangle\" aria-hidden=\"true\"></i> The \"schema\" that we've been so excited to see is finally here to explore.  Feel free to take a screenshot and show your friends."
   ]
  },
  {
   "cell_type": "code",
   "execution_count": 11,
   "metadata": {},
   "outputs": [
    {
     "name": "stdout",
     "output_type": "stream",
     "text": [
      "root\n",
      " |-- pos: string (nullable = true)\n",
      " |-- word: string (nullable = true)\n",
      " |-- pos_score: double (nullable = true)\n",
      " |-- neg_score: double (nullable = true)\n",
      "\n"
     ]
    }
   ],
   "source": [
    "df.printSchema()"
   ]
  },
  {
   "cell_type": "markdown",
   "metadata": {},
   "source": [
    "### Count\n",
    "Count with caveat:  This will return the count of all rows, including _non-NaN_ values.  Pandas will omit these."
   ]
  },
  {
   "cell_type": "code",
   "execution_count": 12,
   "metadata": {},
   "outputs": [
    {
     "data": {
      "text/plain": [
       "155287"
      ]
     },
     "execution_count": 12,
     "metadata": {},
     "output_type": "execute_result"
    }
   ],
   "source": [
    "df.count()"
   ]
  },
  {
   "cell_type": "markdown",
   "metadata": {},
   "source": [
    "<a id='stats'></a>\n",
    "## Some basic stats in spark\n",
    "---\n",
    "\n",
    "### Covariance\n",
    "<span style=\"font-size: 20pt;\">\n",
    "$\\operatorname{cov}(X,Y) = \\operatorname{E}{\\big[(X - \\operatorname{E}[X])(Y - \\operatorname{E}[Y])\\big]}$\n",
    "</span>\n",
    "> \"Covariance is a measure of the joint variability of two random variables. If the greater values of one variable mainly correspond with the greater values of the other variable, and the same holds for the lesser values, i.e., the variables tend to show similar behavior, the covariance is positive.\""
   ]
  },
  {
   "cell_type": "code",
   "execution_count": 13,
   "metadata": {},
   "outputs": [
    {
     "data": {
      "text/plain": [
       "0.0019032076361625806"
      ]
     },
     "execution_count": 13,
     "metadata": {},
     "output_type": "execute_result"
    }
   ],
   "source": [
    "df.cov(\"pos_score\", \"neg_score\")"
   ]
  },
  {
   "cell_type": "markdown",
   "metadata": {},
   "source": [
    "### Pearson Score\n",
    "<span style=\"font-size: 20pt;\">\n",
    "$\\rho_{X,Y}= \\frac{\\operatorname{cov}(X,Y)}{\\sigma_X \\sigma_Y} $\n",
    "</span>\n",
    "> The normalized version of the covariance, the correlation coefficient, however, shows by its magnitude the strength of the linear relation."
   ]
  },
  {
   "cell_type": "code",
   "execution_count": 14,
   "metadata": {},
   "outputs": [
    {
     "data": {
      "text/plain": [
       "0.12294884293406051"
      ]
     },
     "execution_count": 14,
     "metadata": {},
     "output_type": "execute_result"
    }
   ],
   "source": [
    "df.corr(\"pos_score\", \"neg_score\")"
   ]
  },
  {
   "cell_type": "markdown",
   "metadata": {},
   "source": [
    "<a id='limiting'></a>\n",
    "## Limiting results\n",
    "\n",
    "---\n",
    "\n",
    "### Head"
   ]
  },
  {
   "cell_type": "code",
   "execution_count": 15,
   "metadata": {},
   "outputs": [
    {
     "data": {
      "text/plain": [
       "[Row(pos=u'adj', word=u'.22-caliber', pos_score=0.0, neg_score=0.0),\n",
       " Row(pos=u'adj', word=u'.22-calibre', pos_score=0.0, neg_score=0.0),\n",
       " Row(pos=u'adj', word=u'.22_caliber', pos_score=0.0, neg_score=0.0),\n",
       " Row(pos=u'adj', word=u'.22_calibre', pos_score=0.0, neg_score=0.0),\n",
       " Row(pos=u'adj', word=u'.38-caliber', pos_score=0.0, neg_score=0.0)]"
      ]
     },
     "execution_count": 15,
     "metadata": {},
     "output_type": "execute_result"
    }
   ],
   "source": [
    "df.head(5) # all the data is loaded into an instances memory -- use for small datasets"
   ]
  },
  {
   "cell_type": "markdown",
   "metadata": {},
   "source": [
    "### Show limited results\n",
    "\n",
    "With Pandas we're used to the `df.head()` as a first step in exploring a dataset.  With Spark this isn't exactly the same.  You need to use the `df.show()`, operation in order to explore data as a first step.  Where Pandas formats its DataFrame output for display in nice HTML tables with sensible defaults for output, you have have to be a bit more specific about what you're looking at with `show()` when using Spark.\n",
    "\n",
    "\n",
    "> The paramters `truncate` is helpful for truncating attributes for display."
   ]
  },
  {
   "cell_type": "code",
   "execution_count": 16,
   "metadata": {},
   "outputs": [
    {
     "name": "stdout",
     "output_type": "stream",
     "text": [
      "+---+-----------+---------+---------+\n",
      "|pos|       word|pos_score|neg_score|\n",
      "+---+-----------+---------+---------+\n",
      "|adj|.22-caliber|      0.0|      0.0|\n",
      "|adj|.22-calibre|      0.0|      0.0|\n",
      "|adj|.22_caliber|      0.0|      0.0|\n",
      "|adj|.22_calibre|      0.0|      0.0|\n",
      "|adj|.38-caliber|      0.0|      0.0|\n",
      "|adj|.38-calibre|      0.0|      0.0|\n",
      "+---+-----------+---------+---------+\n",
      "only showing top 6 rows\n",
      "\n"
     ]
    }
   ],
   "source": [
    "df.show(6)"
   ]
  },
  {
   "cell_type": "code",
   "execution_count": 17,
   "metadata": {},
   "outputs": [
    {
     "name": "stdout",
     "output_type": "stream",
     "text": [
      "+---+--------+---------+---------+\n",
      "|pos|    word|pos_score|neg_score|\n",
      "+---+--------+---------+---------+\n",
      "|adj|.22-c...|      0.0|      0.0|\n",
      "|adj|.22-c...|      0.0|      0.0|\n",
      "|adj|.22_c...|      0.0|      0.0|\n",
      "|adj|.22_c...|      0.0|      0.0|\n",
      "|adj|.38-c...|      0.0|      0.0|\n",
      "+---+--------+---------+---------+\n",
      "only showing top 5 rows\n",
      "\n"
     ]
    }
   ],
   "source": [
    "df.show(5, truncate=8)"
   ]
  },
  {
   "cell_type": "code",
   "execution_count": 5,
   "metadata": {},
   "outputs": [
    {
     "name": "stdout",
     "output_type": "stream",
     "text": [
      "+---+-----------+---------+---------+\n",
      "|pos|       word|pos_score|neg_score|\n",
      "+---+-----------+---------+---------+\n",
      "|adj|.22-caliber|      0.0|      0.0|\n",
      "|adj|.22-calibre|      0.0|      0.0|\n",
      "|adj|.22_caliber|      0.0|      0.0|\n",
      "|adj|.22_calibre|      0.0|      0.0|\n",
      "|adj|.38-caliber|      0.0|      0.0|\n",
      "|adj|.38-calibre|      0.0|      0.0|\n",
      "|adj|.38_caliber|      0.0|      0.0|\n",
      "|adj|.38_calibre|      0.0|      0.0|\n",
      "|adj|.45-caliber|      0.0|      0.0|\n",
      "|adj|.45-calibre|      0.0|      0.0|\n",
      "|adj|.45_caliber|      0.0|      0.0|\n",
      "|adj|.45_calibre|      0.0|      0.0|\n",
      "|adj|          0|      0.0|      0.5|\n",
      "|adj|          1|      0.0|     0.25|\n",
      "|adj|         10|      0.0|      0.0|\n",
      "|adj|10-membered|      0.0|      0.0|\n",
      "|adj|        100|      0.0|      0.0|\n",
      "|adj|       1000|      0.0|      0.0|\n",
      "|adj|     1000th|      0.0|      0.0|\n",
      "+---+-----------+---------+---------+\n",
      "\n"
     ]
    }
   ],
   "source": [
    "df.limit(19).show() \n",
    "#`show()` can also be chained to certain outputs like `limit`.  \n",
    "#`show` by itself is a compound operation for displaying data."
   ]
  },
  {
   "cell_type": "markdown",
   "metadata": {},
   "source": [
    "### <i class=\"fa fa-question-circle\" aria-hidden=\"true\"></i> Why should you need to be careful when displaying data in Spark?\n",
    "\n",
    "Hopefully you can see why Pandas is so nice to use for EDA."
   ]
  },
  {
   "cell_type": "markdown",
   "metadata": {},
   "source": [
    "<a id='more-ops'></a>\n",
    "## More DataFrame and Series operations\n",
    "---\n",
    "\n",
    "### Convert from list of Row objects to list of dictionaries"
   ]
  },
  {
   "cell_type": "code",
   "execution_count": 19,
   "metadata": {},
   "outputs": [
    {
     "data": {
      "text/plain": [
       "[{'neg_score': 0.0, 'pos': u'adj', 'pos_score': 0.0, 'word': u'.22-caliber'},\n",
       " {'neg_score': 0.0, 'pos': u'adj', 'pos_score': 0.0, 'word': u'.22-calibre'},\n",
       " {'neg_score': 0.0, 'pos': u'adj', 'pos_score': 0.0, 'word': u'.22_caliber'},\n",
       " {'neg_score': 0.0, 'pos': u'adj', 'pos_score': 0.0, 'word': u'.22_calibre'},\n",
       " {'neg_score': 0.0, 'pos': u'adj', 'pos_score': 0.0, 'word': u'.38-caliber'},\n",
       " {'neg_score': 0.0, 'pos': u'adj', 'pos_score': 0.0, 'word': u'.38-calibre'},\n",
       " {'neg_score': 0.0, 'pos': u'adj', 'pos_score': 0.0, 'word': u'.38_caliber'},\n",
       " {'neg_score': 0.0, 'pos': u'adj', 'pos_score': 0.0, 'word': u'.38_calibre'},\n",
       " {'neg_score': 0.0, 'pos': u'adj', 'pos_score': 0.0, 'word': u'.45-caliber'},\n",
       " {'neg_score': 0.0, 'pos': u'adj', 'pos_score': 0.0, 'word': u'.45-calibre'}]"
      ]
     },
     "execution_count": 19,
     "metadata": {},
     "output_type": "execute_result"
    }
   ],
   "source": [
    "[row.asDict() for row in df.take(10)]"
   ]
  },
  {
   "cell_type": "markdown",
   "metadata": {},
   "source": [
    "### Selecting DataFrame Series"
   ]
  },
  {
   "cell_type": "markdown",
   "metadata": {},
   "source": [
    "Selecting variables with Spark **DataFrames API** works very similliarly to Pandas DataFrames.  When selecting variables in Pandas use use a `list` object, passed to a DataFrame object via `[]` brackets like so:\n",
    "\n",
    ">```df[['col1', 'col2']]```\n",
    "\n",
    "The equivalent in spark is using the `.select()` method which takes flat parameters.\n",
    "\n",
    "> <i class=\"fa fa-info-circle\" aria-hidden=\"true\"></i> DataFrames in Pandas are implemented with an overloaded brackets operator so whenever we reference any Pandas DataFrames object with brackets, it get's passed down to a function that handles the column references (as a list), as the input to a function."
   ]
  },
  {
   "cell_type": "markdown",
   "metadata": {},
   "source": [
    "#### Select all features / variables / columns"
   ]
  },
  {
   "cell_type": "code",
   "execution_count": 20,
   "metadata": {},
   "outputs": [
    {
     "data": {
      "text/plain": [
       "DataFrame[pos: string, word: string, pos_score: double, neg_score: double]"
      ]
     },
     "execution_count": 20,
     "metadata": {},
     "output_type": "execute_result"
    }
   ],
   "source": [
    "df.select(df.columns)"
   ]
  },
  {
   "cell_type": "code",
   "execution_count": 21,
   "metadata": {},
   "outputs": [
    {
     "name": "stdout",
     "output_type": "stream",
     "text": [
      "+---+-----------+---------+---------+\n",
      "|pos|       word|pos_score|neg_score|\n",
      "+---+-----------+---------+---------+\n",
      "|adj|.22-caliber|      0.0|      0.0|\n",
      "|adj|.22-calibre|      0.0|      0.0|\n",
      "|adj|.22_caliber|      0.0|      0.0|\n",
      "|adj|.22_calibre|      0.0|      0.0|\n",
      "|adj|.38-caliber|      0.0|      0.0|\n",
      "+---+-----------+---------+---------+\n",
      "only showing top 5 rows\n",
      "\n"
     ]
    }
   ],
   "source": [
    "df.select(df.columns).show(5)"
   ]
  },
  {
   "cell_type": "markdown",
   "metadata": {},
   "source": [
    "#### Select specific features / variables / columns"
   ]
  },
  {
   "cell_type": "code",
   "execution_count": 22,
   "metadata": {},
   "outputs": [
    {
     "name": "stdout",
     "output_type": "stream",
     "text": [
      "+-----------+---------+\n",
      "|       word|pos_score|\n",
      "+-----------+---------+\n",
      "|.22-caliber|      0.0|\n",
      "|.22-calibre|      0.0|\n",
      "|.22_caliber|      0.0|\n",
      "|.22_calibre|      0.0|\n",
      "|.38-caliber|      0.0|\n",
      "|.38-calibre|      0.0|\n",
      "|.38_caliber|      0.0|\n",
      "|.38_calibre|      0.0|\n",
      "|.45-caliber|      0.0|\n",
      "|.45-calibre|      0.0|\n",
      "|.45_caliber|      0.0|\n",
      "|.45_calibre|      0.0|\n",
      "|          0|      0.0|\n",
      "|          1|      0.0|\n",
      "|         10|      0.0|\n",
      "|10-membered|      0.0|\n",
      "|        100|      0.0|\n",
      "|       1000|      0.0|\n",
      "|     1000th|      0.0|\n",
      "|      100th|      0.0|\n",
      "+-----------+---------+\n",
      "only showing top 20 rows\n",
      "\n"
     ]
    }
   ],
   "source": [
    "df.select(\"word\", \"pos_score\").show()"
   ]
  },
  {
   "cell_type": "markdown",
   "metadata": {},
   "source": [
    "#### Series Operations\n",
    "\n",
    "With Pandas, you can easily create a new series that's the sum of every row in **\"col1\"**, to **\"col2\"** like so:\n",
    "\n",
    "> `df['col1'] + df['col2']`\n",
    "\n",
    "In Spark, we have to do this through the select function."
   ]
  },
  {
   "cell_type": "code",
   "execution_count": 23,
   "metadata": {},
   "outputs": [
    {
     "name": "stdout",
     "output_type": "stream",
     "text": [
      "+-----------------------+\n",
      "|(pos_score + neg_score)|\n",
      "+-----------------------+\n",
      "|                    0.0|\n",
      "|                    0.0|\n",
      "|                    0.0|\n",
      "|                    0.0|\n",
      "|                    0.0|\n",
      "|                    0.0|\n",
      "|                    0.0|\n",
      "|                    0.0|\n",
      "|                    0.0|\n",
      "|                    0.0|\n",
      "|                    0.0|\n",
      "|                    0.0|\n",
      "|                    0.5|\n",
      "|                   0.25|\n",
      "|                    0.0|\n",
      "+-----------------------+\n",
      "only showing top 15 rows\n",
      "\n"
     ]
    }
   ],
   "source": [
    "df.select(df[\"pos_score\"] + df[\"neg_score\"]).show(15)"
   ]
  },
  {
   "cell_type": "code",
   "execution_count": 24,
   "metadata": {},
   "outputs": [
    {
     "name": "stdout",
     "output_type": "stream",
     "text": [
      "+----------------+\n",
      "|(pos_score + 10)|\n",
      "+----------------+\n",
      "|            10.0|\n",
      "|            10.0|\n",
      "|            10.0|\n",
      "|            10.0|\n",
      "|            10.0|\n",
      "|            10.0|\n",
      "|            10.0|\n",
      "|            10.0|\n",
      "|            10.0|\n",
      "|            10.0|\n",
      "|            10.0|\n",
      "|            10.0|\n",
      "|            10.0|\n",
      "|            10.0|\n",
      "|            10.0|\n",
      "+----------------+\n",
      "only showing top 15 rows\n",
      "\n"
     ]
    }
   ],
   "source": [
    "df.select(df[\"pos_score\"] + 10).show(15) ## We can also do math operations in series as well"
   ]
  },
  {
   "cell_type": "markdown",
   "metadata": {},
   "source": [
    "#### As an \"alias\"\n",
    "As selections are keyed by conditions, they can become hard to read.  We can use an \"alias\" to abstract any selections."
   ]
  },
  {
   "cell_type": "code",
   "execution_count": 25,
   "metadata": {},
   "outputs": [
    {
     "name": "stdout",
     "output_type": "stream",
     "text": [
      "+-----------+\n",
      "|total_score|\n",
      "+-----------+\n",
      "|        0.0|\n",
      "|        0.0|\n",
      "|        0.0|\n",
      "|        0.0|\n",
      "|        0.0|\n",
      "|        0.0|\n",
      "|        0.0|\n",
      "|        0.0|\n",
      "|        0.0|\n",
      "|        0.0|\n",
      "|        0.0|\n",
      "|        0.0|\n",
      "|        0.5|\n",
      "|       0.25|\n",
      "|        0.0|\n",
      "+-----------+\n",
      "only showing top 15 rows\n",
      "\n"
     ]
    }
   ],
   "source": [
    "df.select((df[\"pos_score\"] + df[\"neg_score\"]).alias(\"total_score\")).show(15)"
   ]
  },
  {
   "cell_type": "markdown",
   "metadata": {},
   "source": [
    "#### Creating new features / variables / columns"
   ]
  },
  {
   "cell_type": "code",
   "execution_count": 26,
   "metadata": {
    "scrolled": true
   },
   "outputs": [
    {
     "name": "stdout",
     "output_type": "stream",
     "text": [
      "+---+-----------+---------+---------+----------+\n",
      "|pos|       word|pos_score|neg_score|new_column|\n",
      "+---+-----------+---------+---------+----------+\n",
      "|adj|.22-caliber|      0.0|      0.0|       0.0|\n",
      "|adj|.22-calibre|      0.0|      0.0|       0.0|\n",
      "|adj|.22_caliber|      0.0|      0.0|       0.0|\n",
      "|adj|.22_calibre|      0.0|      0.0|       0.0|\n",
      "|adj|.38-caliber|      0.0|      0.0|       0.0|\n",
      "|adj|.38-calibre|      0.0|      0.0|       0.0|\n",
      "|adj|.38_caliber|      0.0|      0.0|       0.0|\n",
      "|adj|.38_calibre|      0.0|      0.0|       0.0|\n",
      "|adj|.45-caliber|      0.0|      0.0|       0.0|\n",
      "|adj|.45-calibre|      0.0|      0.0|       0.0|\n",
      "|adj|.45_caliber|      0.0|      0.0|       0.0|\n",
      "|adj|.45_calibre|      0.0|      0.0|       0.0|\n",
      "|adj|          0|      0.0|      0.5|       0.5|\n",
      "|adj|          1|      0.0|     0.25|      0.25|\n",
      "|adj|         10|      0.0|      0.0|       0.0|\n",
      "+---+-----------+---------+---------+----------+\n",
      "only showing top 15 rows\n",
      "\n"
     ]
    }
   ],
   "source": [
    "df.select(df['pos_score'] + df['neg_score'])\n",
    "df.withColumn(\"new_column\", df['pos_score'] + df['neg_score']).show(15)"
   ]
  },
  {
   "cell_type": "markdown",
   "metadata": {},
   "source": [
    "## <i class=\"fa fa-question-circle\"></i> Have we changed the original DataFrame?"
   ]
  },
  {
   "cell_type": "markdown",
   "metadata": {},
   "source": [
    "#### Filtering Data\n",
    "In Pandas we use \"masks\" through dataframe object brackets in order to filter data.\n",
    ">`df[df['feature'] > 0]`\n",
    "\n",
    "In Spark, we use the `filter()` method to select different aspects of our data."
   ]
  },
  {
   "cell_type": "code",
   "execution_count": 27,
   "metadata": {},
   "outputs": [
    {
     "name": "stdout",
     "output_type": "stream",
     "text": [
      "+---+-----------+---------+---------+\n",
      "|pos|       word|pos_score|neg_score|\n",
      "+---+-----------+---------+---------+\n",
      "|adj|      a-one|    0.625|      0.0|\n",
      "|adj|   abatable|    0.625|      0.0|\n",
      "|adj|abolishable|    0.625|      0.0|\n",
      "|adj|   absolved|    0.625|      0.0|\n",
      "|adj|        ace|    0.625|      0.0|\n",
      "+---+-----------+---------+---------+\n",
      "only showing top 5 rows\n",
      "\n"
     ]
    }
   ],
   "source": [
    "df.filter(df[\"pos_score\"] > .5).show(5)"
   ]
  },
  {
   "cell_type": "markdown",
   "metadata": {},
   "source": [
    "#### Multiple conditions\n",
    "SAME AS PANDAS!  Thankfully, we don't have to leave our comfort zone with too many oddities here."
   ]
  },
  {
   "cell_type": "code",
   "execution_count": 28,
   "metadata": {},
   "outputs": [
    {
     "name": "stdout",
     "output_type": "stream",
     "text": [
      "+---+-------------+--------------+---------------+\n",
      "|pos|         word|     pos_score|      neg_score|\n",
      "+---+-------------+--------------+---------------+\n",
      "|adj|    adjustive|         0.625|          0.125|\n",
      "|adj|adventuresome|         0.625|           0.25|\n",
      "|adj|  adventurous|         0.625|           0.25|\n",
      "|adj|  affirmative|0.583333333333|0.0416666666667|\n",
      "|adj|all-important|          0.75|          0.125|\n",
      "+---+-------------+--------------+---------------+\n",
      "only showing top 5 rows\n",
      "\n"
     ]
    }
   ],
   "source": [
    "df.filter((df[\"pos_score\"] > .5) & (df[\"neg_score\"] > 0)).show(5)"
   ]
  },
  {
   "cell_type": "code",
   "execution_count": 29,
   "metadata": {},
   "outputs": [
    {
     "name": "stdout",
     "output_type": "stream",
     "text": [
      "+---+-------------+--------------+---------------+\n",
      "|pos|         word|     pos_score|      neg_score|\n",
      "+---+-------------+--------------+---------------+\n",
      "|adj|    adjustive|         0.625|          0.125|\n",
      "|adj|adventuresome|         0.625|           0.25|\n",
      "|adj|  adventurous|         0.625|           0.25|\n",
      "|adj|  affirmative|0.583333333333|0.0416666666667|\n",
      "|adj|all-important|          0.75|          0.125|\n",
      "+---+-------------+--------------+---------------+\n",
      "only showing top 5 rows\n",
      "\n"
     ]
    }
   ],
   "source": [
    "df \\\n",
    ".filter(df[\"pos_score\"] > .5) \\\n",
    ".filter(df[\"neg_score\"] > 0).show(5) # Filters can be chained per line using the \\ newline escape sequence character"
   ]
  },
  {
   "cell_type": "markdown",
   "metadata": {},
   "source": [
    "#### Filter as an expression\n",
    "Pandas has a similar function called \"where\".  However, with Spark `filter`, we can filter by shorthand expressions when referencing column sequences."
   ]
  },
  {
   "cell_type": "code",
   "execution_count": 30,
   "metadata": {},
   "outputs": [
    {
     "name": "stdout",
     "output_type": "stream",
     "text": [
      "+---+-----------+---------+---------+\n",
      "|pos|       word|pos_score|neg_score|\n",
      "+---+-----------+---------+---------+\n",
      "|adj|      a-one|    0.625|      0.0|\n",
      "|adj|   abatable|    0.625|      0.0|\n",
      "|adj|abolishable|    0.625|      0.0|\n",
      "|adj|   absolved|    0.625|      0.0|\n",
      "|adj|        ace|    0.625|      0.0|\n",
      "+---+-----------+---------+---------+\n",
      "only showing top 5 rows\n",
      "\n"
     ]
    }
   ],
   "source": [
    "df.filter(\"pos_score > .5\").show(5)"
   ]
  },
  {
   "cell_type": "code",
   "execution_count": 31,
   "metadata": {},
   "outputs": [
    {
     "name": "stdout",
     "output_type": "stream",
     "text": [
      "+---+-------------+--------------+---------------+\n",
      "|pos|         word|     pos_score|      neg_score|\n",
      "+---+-------------+--------------+---------------+\n",
      "|adj|    adjustive|         0.625|          0.125|\n",
      "|adj|adventuresome|         0.625|           0.25|\n",
      "|adj|  adventurous|         0.625|           0.25|\n",
      "|adj|  affirmative|0.583333333333|0.0416666666667|\n",
      "|adj|all-important|          0.75|          0.125|\n",
      "+---+-------------+--------------+---------------+\n",
      "only showing top 5 rows\n",
      "\n"
     ]
    }
   ],
   "source": [
    "condition = \"\"\"\n",
    "pos_score > .5 AND \n",
    "neg_score > 0 \n",
    "\"\"\"\n",
    "\n",
    "df.filter(condition).show(5)"
   ]
  },
  {
   "cell_type": "markdown",
   "metadata": {},
   "source": [
    "### Sorting"
   ]
  },
  {
   "cell_type": "code",
   "execution_count": 32,
   "metadata": {},
   "outputs": [
    {
     "name": "stdout",
     "output_type": "stream",
     "text": [
      "+----+----------+---------+---------+\n",
      "| pos|      word|pos_score|neg_score|\n",
      "+----+----------+---------+---------+\n",
      "| adj| cheapjack|      0.0|      1.0|\n",
      "| adj| henpecked|      0.0|      1.0|\n",
      "| adj|lamentable|      0.0|      1.0|\n",
      "|noun| angriness|      0.0|      1.0|\n",
      "|noun|blackguard|      0.0|      1.0|\n",
      "+----+----------+---------+---------+\n",
      "only showing top 5 rows\n",
      "\n"
     ]
    }
   ],
   "source": [
    "df.sort(df.neg_score.desc()).show(5)"
   ]
  },
  {
   "cell_type": "code",
   "execution_count": 33,
   "metadata": {},
   "outputs": [
    {
     "name": "stdout",
     "output_type": "stream",
     "text": [
      "+---+-----------+---------+---------+\n",
      "|pos|       word|pos_score|neg_score|\n",
      "+---+-----------+---------+---------+\n",
      "|adj|  excellent|      1.0|      0.0|\n",
      "|adj| top-flight|      1.0|      0.0|\n",
      "|adj|fantabulous|      1.0|      0.0|\n",
      "|adj|first-class|      1.0|      0.0|\n",
      "|adj|  homologic|      1.0|      0.0|\n",
      "+---+-----------+---------+---------+\n",
      "only showing top 5 rows\n",
      "\n"
     ]
    }
   ],
   "source": [
    "df.sort(df.pos_score.desc()).show(5)"
   ]
  },
  {
   "cell_type": "code",
   "execution_count": 34,
   "metadata": {},
   "outputs": [
    {
     "name": "stdout",
     "output_type": "stream",
     "text": [
      "+---+-------------+---------+---------+\n",
      "|pos|         word|pos_score|neg_score|\n",
      "+---+-------------+---------+---------+\n",
      "|adj|        awing|    0.875|    0.125|\n",
      "|adj|          fab|    0.875|    0.125|\n",
      "|adj|straightarrow|    0.875|    0.125|\n",
      "|adj|    gladdened|    0.875|    0.125|\n",
      "|adj|      awesome|    0.875|    0.125|\n",
      "+---+-------------+---------+---------+\n",
      "only showing top 5 rows\n",
      "\n"
     ]
    }
   ],
   "source": [
    "df.filter(\"pos_score > .5 AND pos_score < 1.0 AND neg_score > 0\") \\\n",
    ".sort(df.pos_score.desc(), df.neg_score.desc()) \\\n",
    ".show(5)"
   ]
  },
  {
   "cell_type": "code",
   "execution_count": 35,
   "metadata": {},
   "outputs": [
    {
     "name": "stdout",
     "output_type": "stream",
     "text": [
      "+----+------------+--------------+--------------+\n",
      "| pos|        word|     pos_score|     neg_score|\n",
      "+----+------------+--------------+--------------+\n",
      "| adj|   bona_fide|        0.5125|           0.3|\n",
      "| adj|   authentic|        0.5125|           0.3|\n",
      "| adj|      hearty|         0.525|          0.05|\n",
      "| adj|prophylactic|0.527666666667|0.222333333333|\n",
      "|noun|        joke|       0.53125|        0.1875|\n",
      "+----+------------+--------------+--------------+\n",
      "only showing top 5 rows\n",
      "\n"
     ]
    }
   ],
   "source": [
    "df.filter(\"pos_score > .5 AND pos_score < 1.0 AND neg_score > 0\") \\\n",
    ".sort(df.pos_score.asc(), df.neg_score.desc()) \\\n",
    ".show(5)"
   ]
  },
  {
   "cell_type": "markdown",
   "metadata": {},
   "source": [
    "## AS SQL!?\n",
    "\n",
    "\n",
    "Working with DataFrames as SQL is as easy as creating a **temporary view**."
   ]
  },
  {
   "cell_type": "code",
   "execution_count": 36,
   "metadata": {
    "collapsed": true
   },
   "outputs": [],
   "source": [
    "df.createOrReplaceTempView(\"sentiment\")"
   ]
  },
  {
   "cell_type": "code",
   "execution_count": 37,
   "metadata": {},
   "outputs": [
    {
     "name": "stdout",
     "output_type": "stream",
     "text": [
      "+---+-----------+---------+---------+\n",
      "|pos|       word|pos_score|neg_score|\n",
      "+---+-----------+---------+---------+\n",
      "|adj|.22-caliber|      0.0|      0.0|\n",
      "|adj|.22-calibre|      0.0|      0.0|\n",
      "|adj|.22_caliber|      0.0|      0.0|\n",
      "|adj|.22_calibre|      0.0|      0.0|\n",
      "|adj|.38-caliber|      0.0|      0.0|\n",
      "+---+-----------+---------+---------+\n",
      "only showing top 5 rows\n",
      "\n"
     ]
    }
   ],
   "source": [
    "sentiment = spark.sql(\"SELECT * FROM sentiment LIMIT 100\")\n",
    "sentiment.show(5)"
   ]
  },
  {
   "cell_type": "code",
   "execution_count": 38,
   "metadata": {},
   "outputs": [
    {
     "data": {
      "text/plain": [
       "<matplotlib.axes._subplots.AxesSubplot at 0x115e8fa10>"
      ]
     },
     "execution_count": 38,
     "metadata": {},
     "output_type": "execute_result"
    },
    {
     "data": {
      "image/png": "[encoded data removed]",
      "text/plain": [
       "<matplotlib.figure.Figure at 0x115e8f150>"
      ]
     },
     "metadata": {},
     "output_type": "display_data"
    }
   ],
   "source": [
    "%matplotlib inline\n",
    "\n",
    "sentiment.toPandas()['neg_score'].plot()"
   ]
  },
  {
   "cell_type": "markdown",
   "metadata": {},
   "source": [
    "### Temporary Views select DataFrames\n",
    "So the same transformations can be applied to DataFrames as we just learned."
   ]
  },
  {
   "cell_type": "code",
   "execution_count": 39,
   "metadata": {},
   "outputs": [
    {
     "name": "stdout",
     "output_type": "stream",
     "text": [
      "+-------+----+------------------+---------+-------------------+\n",
      "|summary| pos|              word|pos_score|          neg_score|\n",
      "+-------+----+------------------+---------+-------------------+\n",
      "|  count| 100|               100|      100|                100|\n",
      "|   mean|null|  96.9090909090909|      0.0|            0.02625|\n",
      "| stddev|null|154.37463012769066|      0.0|0.09282158132458183|\n",
      "|    min| adj|       .22-caliber|      0.0|                0.0|\n",
      "|    max| adj|              29th|      0.0|              0.625|\n",
      "+-------+----+------------------+---------+-------------------+\n",
      "\n"
     ]
    }
   ],
   "source": [
    "sentiment.describe().show()"
   ]
  },
  {
   "cell_type": "markdown",
   "metadata": {},
   "source": [
    "<a id='activity'></a>\n",
    "## Activity:  Check out another dataset using Spark DataFrames"
   ]
  },
  {
   "cell_type": "markdown",
   "metadata": {},
   "source": [
    "#### 1. Load up the \"Pokemon\" basic Pokedex dataset\n",
    "First try without infering the schema and without the header."
   ]
  },
  {
   "cell_type": "code",
   "execution_count": 6,
   "metadata": {},
   "outputs": [
    {
     "name": "stdout",
     "output_type": "stream",
     "text": [
      "+-------+-------------+-----+-----+-----+-----+------+-------+-------------+--------------+-----+\n",
      "|summary|PokedexNumber| Name| Type|Total|   HP|Attack|Defense|SpecialAttack|SpecialDefense|Speed|\n",
      "+-------+-------------+-----+-----+-----+-----+------+-------+-------------+--------------+-----+\n",
      "|  count|          800|  800|  800|  800|  800|   800|    800|          800|           800|  800|\n",
      "|   mean|        36...| null| null|43...|69...| 79...|  73...|        72.82|         71...|68...|\n",
      "|  st...|        20...| null| null|11...|25...| 32...|  31...|        32...|         27...|29...|\n",
      "|    min|            1|Ab...|  Bug|  180|    1|     5|      5|           10|            20|    5|\n",
      "|    max|          721|Zy...|Wa...|  780|  255|   190|    230|          194|           230|  180|\n",
      "+-------+-------------+-----+-----+-----+-----+------+-------+-------------+--------------+-----+\n",
      "\n"
     ]
    }
   ],
   "source": [
    "df = spark.read.csv(\"./datasets/pokedex_basic.csv\", inferSchema=True, header=True)\n",
    "df.describe().show(truncate=5)"
   ]
  },
  {
   "cell_type": "markdown",
   "metadata": {},
   "source": [
    "#### 2. Check out the dataset with infer schema paramter but without header.\n",
    "How does it work with / without?"
   ]
  },
  {
   "cell_type": "code",
   "execution_count": 7,
   "metadata": {},
   "outputs": [
    {
     "name": "stdout",
     "output_type": "stream",
     "text": [
      "root\n",
      " |-- PokedexNumber: integer (nullable = true)\n",
      " |-- Name: string (nullable = true)\n",
      " |-- Type: string (nullable = true)\n",
      " |-- Total: integer (nullable = true)\n",
      " |-- HP: integer (nullable = true)\n",
      " |-- Attack: integer (nullable = true)\n",
      " |-- Defense: integer (nullable = true)\n",
      " |-- SpecialAttack: integer (nullable = true)\n",
      " |-- SpecialDefense: integer (nullable = true)\n",
      " |-- Speed: integer (nullable = true)\n",
      "\n"
     ]
    }
   ],
   "source": [
    "df.printSchema()"
   ]
  },
  {
   "cell_type": "markdown",
   "metadata": {},
   "source": [
    "#### 3.  Create a tempory view with the Pokedex DataFrame called \"pokemon\"\n",
    "Then \n",
    "```sql SELECT * FROM pokemon LIMIT 10```"
   ]
  },
  {
   "cell_type": "code",
   "execution_count": 8,
   "metadata": {},
   "outputs": [
    {
     "name": "stdout",
     "output_type": "stream",
     "text": [
      "+-------------+--------------------+-----------+-----+---+------+-------+-------------+--------------+-----+\n",
      "|PokedexNumber|                Name|       Type|Total| HP|Attack|Defense|SpecialAttack|SpecialDefense|Speed|\n",
      "+-------------+--------------------+-----------+-----+---+------+-------+-------------+--------------+-----+\n",
      "|            1|           Bulbasaur|GrassPoison|  318| 45|    49|     49|           65|            65|   45|\n",
      "|            2|             Ivysaur|GrassPoison|  405| 60|    62|     63|           80|            80|   60|\n",
      "|            3|            Venusaur|GrassPoison|  525| 80|    82|     83|          100|           100|   80|\n",
      "|            3|VenusaurMega Venu...|GrassPoison|  625| 80|   100|    123|          122|           120|   80|\n",
      "|            4|          Charmander|       Fire|  309| 39|    52|     43|           60|            50|   65|\n",
      "|            5|          Charmeleon|       Fire|  405| 58|    64|     58|           80|            65|   80|\n",
      "|            6|           Charizard| FireFlying|  534| 78|    84|     78|          109|            85|  100|\n",
      "|            6|CharizardMega Cha...| FireDragon|  634| 78|   130|    111|          130|            85|  100|\n",
      "|            6|CharizardMega Cha...| FireFlying|  634| 78|   104|     78|          159|           115|  100|\n",
      "|            7|            Squirtle|      Water|  314| 44|    48|     65|           50|            64|   43|\n",
      "+-------------+--------------------+-----------+-----+---+------+-------+-------------+--------------+-----+\n",
      "\n"
     ]
    }
   ],
   "source": [
    "df.createOrReplaceTempView(\"pokemon\")\n",
    "spark.sql(\"SELECT * FROM pokemon LIMIT 10\").show()"
   ]
  },
  {
   "cell_type": "markdown",
   "metadata": {},
   "source": [
    "#### 4.a Which is the strongest Pokemon by `Type`?\n",
    "Using Spark DataFrame operations.  Research Sparks \"grouping\" functions."
   ]
  },
  {
   "cell_type": "code",
   "execution_count": 9,
   "metadata": {},
   "outputs": [
    {
     "name": "stdout",
     "output_type": "stream",
     "text": [
      "+--------------+-----------+\n",
      "|          Type|max(attack)|\n",
      "+--------------+-----------+\n",
      "| NormalPsychic|         80|\n",
      "|    WaterGrass|         70|\n",
      "|      IceGhost|         80|\n",
      "|  NormalGround|         56|\n",
      "|ElectricNormal|         55|\n",
      "+--------------+-----------+\n",
      "only showing top 5 rows\n",
      "\n"
     ]
    }
   ],
   "source": [
    "count_df = df.select('Name','Type','attack').groupBy('Type').max()\n",
    "count_df.show(5)"
   ]
  },
  {
   "cell_type": "code",
   "execution_count": 10,
   "metadata": {},
   "outputs": [
    {
     "name": "stdout",
     "output_type": "stream",
     "text": [
      "+--------------------+-------------+------+\n",
      "|                Name|         Type|attack|\n",
      "+--------------------+-------------+------+\n",
      "|CharizardMega Cha...|   FireDragon|   130|\n",
      "|BeedrillMega Beed...|    BugPoison|   150|\n",
      "|            Nidoking| PoisonGround|   102|\n",
      "|          Wigglytuff|  NormalFairy|    70|\n",
      "|           Poliwrath|WaterFighting|    95|\n",
      "|          Victreebel|  GrassPoison|   105|\n",
      "|               Golem|   RockGround|   120|\n",
      "|             Slowbro| WaterPsychic|    75|\n",
      "| SlowbroMega Slowbro| WaterPsychic|    75|\n",
      "|                 Muk|       Poison|   105|\n",
      "|            Cloyster|     WaterIce|    95|\n",
      "|              Gengar|  GhostPoison|    65|\n",
      "|   GengarMega Gengar|  GhostPoison|    65|\n",
      "|           Exeggutor| GrassPsychic|    95|\n",
      "|             Starmie| WaterPsychic|    75|\n",
      "|                Jynx|   IcePsychic|    50|\n",
      "|              Pinsir|          Bug|   125|\n",
      "|   PinsirMega Pinsir|    BugFlying|   155|\n",
      "|            Gyarados|  WaterFlying|   125|\n",
      "|GyaradosMega Gyar...|    WaterDark|   155|\n",
      "+--------------------+-------------+------+\n",
      "only showing top 20 rows\n",
      "\n"
     ]
    }
   ],
   "source": [
    "count_df = count_df.withColumn('attack',count_df['max(attack)'])\n",
    "count_df.sort(count_df['attack'].desc()).join(df,on=['Type','attack']).select('Name','Type','attack').show(20)"
   ]
  },
  {
   "cell_type": "markdown",
   "metadata": {},
   "source": [
    "#### 4.b Which is the strongest Pokemon by Type?\n",
    "Using the Spark SQL temporary view."
   ]
  },
  {
   "cell_type": "code",
   "execution_count": 11,
   "metadata": {},
   "outputs": [
    {
     "name": "stdout",
     "output_type": "stream",
     "text": [
      "+--------------------+---------------+--------+\n",
      "|                Name|           Type|TotalMax|\n",
      "+--------------------+---------------+--------+\n",
      "| MewtwoMega Mewtwo X|PsychicFighting|     190|\n",
      "|HeracrossMega Her...|    BugFighting|     185|\n",
      "|GroudonPrimal Gro...|     GroundFire|     180|\n",
      "|  DeoxysAttack Forme|        Psychic|     180|\n",
      "|RayquazaMega Rayq...|   DragonFlying|     180|\n",
      "|GarchompMega Garc...|   DragonGround|     170|\n",
      "|  KyuremBlack Kyurem|      DragonIce|     170|\n",
      "|           Rampardos|           Rock|     165|\n",
      "| BanetteMega Banette|          Ghost|     165|\n",
      "|TyranitarMega Tyr...|       RockDark|     164|\n",
      "+--------------------+---------------+--------+\n",
      "\n"
     ]
    }
   ],
   "source": [
    "sql = \"\"\"\n",
    "SELECT p.Name,tbl.Type,tbl.TotalMax\n",
    "FROM (\n",
    "    SELECT Type, max(attack) AS TotalMax\n",
    "    FROM pokemon\n",
    "    GROUP BY Type\n",
    "   /* HAVING TotalMax = (SELECT MAX(attack) FROM pokemon) */\n",
    ") AS tbl \n",
    "LEFT OUTER JOIN pokemon p \n",
    "ON tbl.Type = p.Type AND tbl.TotalMax = p.attack\n",
    "ORDER BY TotalMax DESC\n",
    "LIMIT 10\n",
    "\"\"\"\n",
    "strongest_pokemon = spark.sql(sql)\n",
    "strongest_pokemon.show()"
   ]
  },
  {
   "cell_type": "markdown",
   "metadata": {},
   "source": [
    "#### 5.a Which Pokemon has the best combined Attack and Defence?\n",
    "Using Spark DataFrame operations."
   ]
  },
  {
   "cell_type": "code",
   "execution_count": 12,
   "metadata": {},
   "outputs": [
    {
     "name": "stdout",
     "output_type": "stream",
     "text": [
      "+-------------+--------------------+-----------+-----+---+------+-------+-------------+--------------+-----+---------+\n",
      "|PokedexNumber|                Name|       Type|Total| HP|Attack|Defense|SpecialAttack|SpecialDefense|Speed|Poketotal|\n",
      "+-------------+--------------------+-----------+-----+---+------+-------+-------------+--------------+-----+---------+\n",
      "|          306|   AggronMega Aggron|      Steel|  630| 70|   140|    230|           60|            80|   50|      370|\n",
      "|          208| SteelixMega Steelix|SteelGround|  610| 75|   125|    230|           55|            95|   30|      355|\n",
      "|          383|GroudonPrimal Gro...| GroundFire|  770|100|   180|    160|          150|            90|   90|      340|\n",
      "|          248|TyranitarMega Tyr...|   RockDark|  700|100|   164|    150|           95|           120|   71|      314|\n",
      "|          713|             Avalugg|        Ice|  514| 95|   117|    184|           44|            46|   28|      301|\n",
      "+-------------+--------------------+-----------+-----+---+------+-------+-------------+--------------+-----+---------+\n",
      "only showing top 5 rows\n",
      "\n"
     ]
    }
   ],
   "source": [
    "df.withColumn(\"Poketotal\", df[\"Attack\"] + df[\"Defense\"]).sort(\"Poketotal\", ascending=0).show(5)"
   ]
  },
  {
   "cell_type": "markdown",
   "metadata": {},
   "source": [
    "#### 5.b Which Pokemon has the best combined Attack and Defence?\n",
    "Using the Spark SQL temporary view."
   ]
  },
  {
   "cell_type": "code",
   "execution_count": 13,
   "metadata": {},
   "outputs": [
    {
     "name": "stdout",
     "output_type": "stream",
     "text": [
      "+-------------+--------------------+---------------+-----+---+------+-------+-------------+--------------+-----+---------+\n",
      "|PokedexNumber|                Name|           Type|Total| HP|Attack|Defense|SpecialAttack|SpecialDefense|Speed|Poketotal|\n",
      "+-------------+--------------------+---------------+-----+---+------+-------+-------------+--------------+-----+---------+\n",
      "|          306|   AggronMega Aggron|          Steel|  630| 70|   140|    230|           60|            80|   50|      370|\n",
      "|          208| SteelixMega Steelix|    SteelGround|  610| 75|   125|    230|           55|            95|   30|      355|\n",
      "|          383|GroudonPrimal Gro...|     GroundFire|  770|100|   180|    160|          150|            90|   90|      340|\n",
      "|          248|TyranitarMega Tyr...|       RockDark|  700|100|   164|    150|           95|           120|   71|      314|\n",
      "|          713|             Avalugg|            Ice|  514| 95|   117|    184|           44|            46|   28|      301|\n",
      "|          377|            Regirock|           Rock|  580| 80|   100|    200|           50|           100|   50|      300|\n",
      "|          214|HeracrossMega Her...|    BugFighting|  600| 80|   185|    115|           40|           105|   75|      300|\n",
      "|          376|MetagrossMega Met...|   SteelPsychic|  700| 80|   145|    150|          105|           110|  110|      295|\n",
      "|          212|   ScizorMega Scizor|       BugSteel|  600| 70|   150|    140|           65|           100|   75|      290|\n",
      "|          150| MewtwoMega Mewtwo X|PsychicFighting|  780|106|   190|    100|          154|           100|  130|      290|\n",
      "+-------------+--------------------+---------------+-----+---+------+-------+-------------+--------------+-----+---------+\n",
      "\n"
     ]
    }
   ],
   "source": [
    "sql = \"\"\"\n",
    "SELECT p.*, p.Attack + p.Defense AS Poketotal\n",
    "FROM pokemon p\n",
    "ORDER BY Poketotal DESC\n",
    "LIMIT 10\n",
    "\"\"\"\n",
    "spark.sql(sql).show(15)"
   ]
  },
  {
   "cell_type": "markdown",
   "metadata": {},
   "source": [
    "#### 6. Create a new feature called \"Pokevalue\" that is the combined Attack, Defence and scaled by .2 of the Pokemon HP.\n",
    "\n",
    "Use any means necessary to solve this problem."
   ]
  },
  {
   "cell_type": "code",
   "execution_count": 14,
   "metadata": {},
   "outputs": [
    {
     "name": "stdout",
     "output_type": "stream",
     "text": [
      "+-------------+---------------+---------------+-----+---+------+-------+-------------+--------------+-----+---------+\n",
      "|PokedexNumber|           Name|           Type|Total| HP|Attack|Defense|SpecialAttack|SpecialDefense|Speed|Pokevalue|\n",
      "+-------------+---------------+---------------+-----+---+------+-------+-------------+--------------+-----+---------+\n",
      "|          289|        Slaking|         Normal|  670|150|   160|    100|           95|            65|  100|   7800.0|\n",
      "|          383|GroudonPrima...|     GroundFire|  770|100|   180|    160|          150|            90|   90|   6800.0|\n",
      "|          646|KyuremBlack ...|      DragonIce|  700|125|   170|    100|          120|            90|   95|   6750.0|\n",
      "|          487|GiratinaAlte...|    GhostDragon|  680|150|   100|    120|          100|           120|   90|   6600.0|\n",
      "|          487|GiratinaOrig...|    GhostDragon|  680|150|   120|    100|          120|           100|   90|   6600.0|\n",
      "|          248|TyranitarMeg...|       RockDark|  700|100|   164|    150|           95|           120|   71|   6280.0|\n",
      "|          464|      Rhyperior|     GroundRock|  535|115|   140|    130|           55|            55|   40|   6210.0|\n",
      "|          445|GarchompMega...|   DragonGround|  700|108|   170|    115|          120|            95|   92|   6156.0|\n",
      "|          150|MewtwoMega M...|PsychicFighting|  780|106|   190|    100|          154|           100|  130|   6148.0|\n",
      "|          486|      Regigigas|         Normal|  670|110|   160|    110|           80|           110|  100|   5940.0|\n",
      "+-------------+---------------+---------------+-----+---+------+-------+-------------+--------------+-----+---------+\n",
      "\n"
     ]
    }
   ],
   "source": [
    "sql = \"\"\"\n",
    "SELECT p.*, (p.Attack + p.Defense) * (p.HP * .2) AS Pokevalue\n",
    "FROM pokemon p\n",
    "ORDER BY Pokevalue DESC\n",
    "LIMIT 10\n",
    "\"\"\"\n",
    "spark.sql(sql).show(truncate=15)"
   ]
  },
  {
   "cell_type": "markdown",
   "metadata": {},
   "source": [
    "<a id='practical-tips'></a>\n",
    "# <i class=\"fa fa-thumbs-up\" aria-hidden=\"true\"></i> Practical tips\n",
    "---"
   ]
  },
  {
   "cell_type": "markdown",
   "metadata": {},
   "source": [
    "### Sampling from enormous datasets\n",
    "Undoubtably, you may have the need to examine a larger dataset.  A common operation is to take a sample.  To approximate the characteristics of your global distribution, you should try to adjust the size that best matches the metrics of central tendency or consider doing a power analysis to determine sample sizing.\n",
    "\n",
    "> Size of your sample generally depends on your application be it A/B testing, EDA, Machine Learning, etc."
   ]
  },
  {
   "cell_type": "code",
   "execution_count": 15,
   "metadata": {},
   "outputs": [
    {
     "name": "stdout",
     "output_type": "stream",
     "text": [
      "Sampled: 160, Global: 800\n"
     ]
    }
   ],
   "source": [
    "sampled = df.sample(\n",
    "    withReplacement = False, # Unique samples\n",
    "    fraction        = .2,    # Approximate size of sample\n",
    "    seed            = 42     # Similar to scikit's randomState paramter.  Ideal for sharing results.\n",
    ")\n",
    "\n",
    "print (\"Sampled: %d, Global: %d\" % (sampled.count(), df.count()))"
   ]
  },
  {
   "cell_type": "code",
   "execution_count": 16,
   "metadata": {},
   "outputs": [
    {
     "name": "stdout",
     "output_type": "stream",
     "text": [
      "+-------+------------------+----------------+----------+------------------+------------------+-----------------+------------------+----------------+-----------------+------------------+\n",
      "|summary|     PokedexNumber|            Name|      Type|             Total|                HP|           Attack|           Defense|   SpecialAttack|   SpecialDefense|             Speed|\n",
      "+-------+------------------+----------------+----------+------------------+------------------+-----------------+------------------+----------------+-----------------+------------------+\n",
      "|  count|               800|             800|       800|               800|               800|              800|               800|             800|              800|               800|\n",
      "|   mean|         362.81375|            null|      null|          435.1025|          69.25875|         79.00125|           73.8425|           72.82|          71.9025|           68.2775|\n",
      "| stddev|208.34379756406656|            null|      null|119.96303975551908|25.534669032332076|32.45736586949845|31.183500559332924|32.7222941688016|27.82891579711746|29.060473717161447|\n",
      "|    min|                 1|       Abomasnow|       Bug|               180|                 1|                5|                 5|              10|               20|                 5|\n",
      "|    max|               721|Zygarde50% Forme|WaterSteel|               780|               255|              190|               230|             194|              230|               180|\n",
      "+-------+------------------+----------------+----------+------------------+------------------+-----------------+------------------+----------------+-----------------+------------------+\n",
      "\n"
     ]
    }
   ],
   "source": [
    "df.describe().show()"
   ]
  },
  {
   "cell_type": "code",
   "execution_count": 17,
   "metadata": {},
   "outputs": [
    {
     "name": "stdout",
     "output_type": "stream",
     "text": [
      "+-------+------------------+--------+----------+-----------------+------------------+-----------------+-----------------+-----------------+-----------------+------------------+\n",
      "|summary|     PokedexNumber|    Name|      Type|            Total|                HP|           Attack|          Defense|    SpecialAttack|   SpecialDefense|             Speed|\n",
      "+-------+------------------+--------+----------+-----------------+------------------+-----------------+-----------------+-----------------+-----------------+------------------+\n",
      "|  count|               160|     160|       160|              160|               160|              160|              160|              160|              160|               160|\n",
      "|   mean|             347.3|    null|      null|        442.90625|          67.76875|          81.8125|           74.625|         72.80625|         74.15625|           71.7375|\n",
      "| stddev|207.38475772305225|    null|      null|123.7885596808592|21.436823040634348|33.75572394974027|33.15937311164421|32.92730641673617|28.08512372285908|28.388474829491166|\n",
      "|    min|                 6|  Aggron|       Bug|              194|                30|                5|                5|               15|               20|                15|\n",
      "|    max|               710|Zweilous|WaterSteel|              780|               150|              190|              230|              180|              154|               150|\n",
      "+-------+------------------+--------+----------+-----------------+------------------+-----------------+-----------------+-----------------+-----------------+------------------+\n",
      "\n"
     ]
    }
   ],
   "source": [
    "sampled.describe().show()"
   ]
  },
  {
   "cell_type": "code",
   "execution_count": null,
   "metadata": {
    "collapsed": true
   },
   "outputs": [],
   "source": []
  }
 ],
 "metadata": {
  "anaconda-cloud": {},
  "kernelspec": {
   "display_name": "Python 3",
   "language": "python",
   "name": "python3"
  },
  "language_info": {
   "codemirror_mode": {
    "name": "ipython",
    "version": 3
   },
   "file_extension": ".py",
   "mimetype": "text/x-python",
   "name": "python",
   "nbconvert_exporter": "python",
   "pygments_lexer": "ipython3",
   "version": "3.6.3"
  }
 },
 "nbformat": 4,
 "nbformat_minor": 1
}
