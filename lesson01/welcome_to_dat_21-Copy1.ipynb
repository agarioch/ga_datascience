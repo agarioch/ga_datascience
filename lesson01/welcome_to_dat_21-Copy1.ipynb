{
 "cells": [
  {
   "cell_type": "markdown",
   "metadata": {},
   "source": [
    "<img src=\"http://imgur.com/1ZcRyrc.png\" style=\"float: left; margin: 20px; height: 55px\">\n",
    "\n",
    "# Welcome to DAT 21\n",
    "\n",
    "\n",
    "In this notebook we are going to make sure that you core installation and packages work properly. \n",
    "\n",
    "We also provide some python excercises to help you check you level of proficiency."
   ]
  },
  {
   "cell_type": "markdown",
   "metadata": {},
   "source": [
    "**Check you can import the following packages: pandas, numpy, matplotlib and sklearn**"
   ]
  },
  {
   "cell_type": "code",
   "execution_count": 1,
   "metadata": {
    "collapsed": true
   },
   "outputs": [],
   "source": [
    "import pandas as pd\n",
    "import numpy as np\n",
    "import matplotlib.pyplot as plt\n",
    "from sklearn.preprocessing import StandardScaler"
   ]
  },
  {
   "cell_type": "markdown",
   "metadata": {},
   "source": [
    "We will start using the libraries above from the next lesson onwards, but for now, lets try to solve a couple of Python challenges!"
   ]
  },
  {
   "cell_type": "markdown",
   "metadata": {},
   "source": [
    "## [**FizzBuzz**](https://blog.codinghorror.com/why-cant-programmers-program/)\n",
    "\n",
    "Write a program that prints the numbers from 1 to 100. But for multiples of three print \"Fizz\" instead of the number and for the multiples of five print \"Buzz\". For numbers which are multiples of both three and five print \"FizzBuzz\". "
   ]
  },
  {
   "cell_type": "code",
   "execution_count": 4,
   "metadata": {},
   "outputs": [
    {
     "name": "stdout",
     "output_type": "stream",
     "text": [
      "1\n",
      "2\n",
      "Fizz\n",
      "4\n",
      "Buzz\n",
      "Fizz\n",
      "7\n",
      "8\n",
      "Fizz\n",
      "Buzz\n",
      "11\n",
      "Fizz\n",
      "13\n",
      "14\n",
      "FizzBuzz\n",
      "16\n",
      "17\n",
      "Fizz\n",
      "19\n",
      "Buzz\n",
      "Fizz\n",
      "22\n",
      "23\n",
      "Fizz\n",
      "Buzz\n",
      "26\n",
      "Fizz\n",
      "28\n",
      "29\n",
      "FizzBuzz\n",
      "31\n",
      "32\n",
      "Fizz\n",
      "34\n",
      "Buzz\n",
      "Fizz\n",
      "37\n",
      "38\n",
      "Fizz\n",
      "Buzz\n",
      "41\n",
      "Fizz\n",
      "43\n",
      "44\n",
      "FizzBuzz\n",
      "46\n",
      "47\n",
      "Fizz\n",
      "49\n",
      "Buzz\n",
      "Fizz\n",
      "52\n",
      "53\n",
      "Fizz\n",
      "Buzz\n",
      "56\n",
      "Fizz\n",
      "58\n",
      "59\n",
      "FizzBuzz\n",
      "61\n",
      "62\n",
      "Fizz\n",
      "64\n",
      "Buzz\n",
      "Fizz\n",
      "67\n",
      "68\n",
      "Fizz\n",
      "Buzz\n",
      "71\n",
      "Fizz\n",
      "73\n",
      "74\n",
      "FizzBuzz\n",
      "76\n",
      "77\n",
      "Fizz\n",
      "79\n",
      "Buzz\n",
      "Fizz\n",
      "82\n",
      "83\n",
      "Fizz\n",
      "Buzz\n",
      "86\n",
      "Fizz\n",
      "88\n",
      "89\n",
      "FizzBuzz\n",
      "91\n",
      "92\n",
      "Fizz\n",
      "94\n",
      "Buzz\n",
      "Fizz\n",
      "97\n",
      "98\n",
      "Fizz\n",
      "Buzz\n"
     ]
    }
   ],
   "source": [
    "# ANSWER\n",
    "numbers = range(1,101)\n",
    "\n",
    "for n in numbers:\n",
    "    if n % 3 == 0 and n % 5 ==0:\n",
    "        print(\"FizzBuzz\")\n",
    "    elif n % 3 == 0:\n",
    "        print(\"Fizz\")\n",
    "    elif n % 5 == 0:\n",
    "        print(\"Buzz\")\n",
    "    else:\n",
    "        print(n)"
   ]
  },
  {
   "cell_type": "markdown",
   "metadata": {},
   "source": [
    "## List overlap\n",
    "\n",
    "Take two lists, say for example these two:\n",
    "````\n",
    "  a = [1, 1, 2, 3, 5, 8, 13, 21, 34, 55, 89]\n",
    "  b = [1, 2, 3, 4, 5, 6, 7, 8, 9, 10, 11, 12, 13]\n",
    "````\n",
    "and write a program that returns a list that contains only the elements that are common between the lists (without duplicates). Make sure your program works on two lists of different sizes.\n",
    "\n",
    "Extras:\n",
    "\n",
    "- Randomly generate two lists to test this"
   ]
  },
  {
   "cell_type": "code",
   "execution_count": 9,
   "metadata": {},
   "outputs": [
    {
     "name": "stdout",
     "output_type": "stream",
     "text": [
      "This is list a: [23, 29, 55, 33, 95, 83, 8, 99, 94, 66]\n",
      "This is list b: [33, 21, 44, 88, 76, 59, 37, 75, 45, 81]\n",
      "These are the common elements: [33]\n"
     ]
    }
   ],
   "source": [
    "import random\n",
    "# ANSWER\n",
    "a = random.sample(range(100),10)\n",
    "b = random.sample(range(100),10)\n",
    "\n",
    "common = []\n",
    "\n",
    "for i in a:\n",
    "    if i in b and i not in common:\n",
    "        common.append(i)\n",
    "\n",
    "print(f\"This is list a: {a}\")\n",
    "print(f\"This is list b: {b}\")\n",
    "print(f\"These are the common elements: {common}\")\n",
    "\n",
    "#could have used in set(a) - unique items in list\n"
   ]
  },
  {
   "cell_type": "markdown",
   "metadata": {},
   "source": [
    "## Perfect numbers\n",
    "\n",
    "Write a Python function to check whether a number is perfect or not.\n",
    "\n",
    "According to Wikipedia : *In number theory, a perfect number is a positive integer that is equal to the sum of its proper positive divisors, that is, the sum of its positive divisors excluding the number itself. Equivalently, a perfect number is a number that is half the sum of all of its positive divisors (including itself).*\n",
    "\n",
    "Example : The first perfect number is 6, because 1, 2, and 3 are its proper positive divisors, and 1 + 2 + 3 = 6. Equivalently, the number 6 is equal to half the sum of all its positive divisors: ( 1 + 2 + 3 + 6 ) / 2 = 6. The next perfect number is 28 = 1 + 2 + 4 + 7 + 14. This is followed by the perfect numbers 496 and 8128."
   ]
  },
  {
   "cell_type": "code",
   "execution_count": 6,
   "metadata": {
    "collapsed": true
   },
   "outputs": [],
   "source": [
    "# ANSWER\n",
    "def isPerfect(n):\n",
    "    check_range = range(1,n)\n",
    "    pdivisors = []\n",
    "    \n",
    "    for x in check_range:\n",
    "        if n % x == 0:\n",
    "            pdivisors.append(x)\n",
    "            \n",
    "    if sum(pdivisors) == n:\n",
    "        return True\n",
    "    else:\n",
    "        return False        \n",
    "    \n",
    "    #could have shortened last if statement to return sum(pdivisors) == n"
   ]
  },
  {
   "cell_type": "code",
   "execution_count": 7,
   "metadata": {},
   "outputs": [
    {
     "name": "stdout",
     "output_type": "stream",
     "text": [
      "Number 49 is a perfect number? False\n",
      "Number 5 is a perfect number? False\n",
      "Number 0 is a perfect number? True\n",
      "Number 30 is a perfect number? False\n",
      "Number 9 is a perfect number? False\n",
      "Number 15 is a perfect number? False\n",
      "Number 24 is a perfect number? False\n",
      "Number 43 is a perfect number? False\n",
      "Number 20 is a perfect number? False\n",
      "Number 39 is a perfect number? False\n",
      "Number 6 is a perfect number? True\n",
      "Number 13 is a perfect number? False\n",
      "Number 16 is a perfect number? False\n",
      "Number 8 is a perfect number? False\n",
      "Number 34 is a perfect number? False\n"
     ]
    }
   ],
   "source": [
    "import random\n",
    "testList = random.sample(range(50), 15)\n",
    "\n",
    "for n in testList:\n",
    "    print (f\"Number {n} is a perfect number? {isPerfect(n)}\")\n"
   ]
  },
  {
   "cell_type": "code",
   "execution_count": null,
   "metadata": {
    "collapsed": true
   },
   "outputs": [],
   "source": []
  }
 ],
 "metadata": {
  "kernelspec": {
   "display_name": "Python 3",
   "language": "python",
   "name": "python3"
  },
  "language_info": {
   "codemirror_mode": {
    "name": "ipython",
    "version": 3
   },
   "file_extension": ".py",
   "mimetype": "text/x-python",
   "name": "python",
   "nbconvert_exporter": "python",
   "pygments_lexer": "ipython3",
   "version": "3.6.1"
  }
 },
 "nbformat": 4,
 "nbformat_minor": 2
}
